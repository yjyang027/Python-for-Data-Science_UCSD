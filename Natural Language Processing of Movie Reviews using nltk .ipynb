{
 "cells": [
  {
   "cell_type": "markdown",
   "metadata": {},
   "source": [
    "# Natural Language Processing with `nltk`\n",
    "\n",
    "`nltk` is the most popular Python package for Natural Language processing, it provides algorithms for importing, cleaning, pre-processing text data in human language and then apply computational linguistics algorithms like sentiment analysis."
   ]
  },
  {
   "cell_type": "markdown",
   "metadata": {},
   "source": [
    "## Inspect the Movie Reviews Dataset"
   ]
  },
  {
   "cell_type": "markdown",
   "metadata": {},
   "source": [
    "It also includes many easy-to-use datasets in the `nltk.corpus` package, we can download for example the `movie_reviews` package using the `nltk.download` function:"
   ]
  },
  {
   "cell_type": "code",
   "execution_count": 1,
   "metadata": {},
   "outputs": [],
   "source": [
    "import nltk"
   ]
  },
  {
   "cell_type": "code",
   "execution_count": 2,
   "metadata": {},
   "outputs": [
    {
     "name": "stderr",
     "output_type": "stream",
     "text": [
      "[nltk_data] Downloading package movie_reviews to\n",
      "[nltk_data]     /Users/yang/nltk_data...\n",
      "[nltk_data]   Package movie_reviews is already up-to-date!\n"
     ]
    },
    {
     "data": {
      "text/plain": [
       "True"
      ]
     },
     "execution_count": 2,
     "metadata": {},
     "output_type": "execute_result"
    }
   ],
   "source": [
    "nltk.download(\"movie_reviews\")"
   ]
  },
  {
   "cell_type": "markdown",
   "metadata": {},
   "source": [
    "You can also list and download other datasets interactively just typing:\n",
    "\n",
    "    nltk.download()\n",
    "    \n",
    "in the Jupyter Notebook."
   ]
  },
  {
   "cell_type": "markdown",
   "metadata": {},
   "source": [
    "Once the data have been downloaded, we can import them from `nltk.corpus`"
   ]
  },
  {
   "cell_type": "code",
   "execution_count": 3,
   "metadata": {},
   "outputs": [],
   "source": [
    "from nltk.corpus import movie_reviews"
   ]
  },
  {
   "cell_type": "markdown",
   "metadata": {},
   "source": [
    "The `fileids` method provided by all the datasets in `nltk.corpus` gives **access to a list of all the files available.**\n",
    "\n",
    "**In particular in the movie_reviews dataset we have 2000 text files, each of them is a review of a movie, and they are already split in a `neg` folder for the negative reviews and a `pos` folder for the positive reviews:**"
   ]
  },
  {
   "cell_type": "code",
   "execution_count": 4,
   "metadata": {},
   "outputs": [
    {
     "data": {
      "text/plain": [
       "nltk.corpus.util.LazyCorpusLoader"
      ]
     },
     "execution_count": 4,
     "metadata": {},
     "output_type": "execute_result"
    }
   ],
   "source": [
    "type(movie_reviews)"
   ]
  },
  {
   "cell_type": "code",
   "execution_count": 5,
   "metadata": {},
   "outputs": [
    {
     "data": {
      "text/plain": [
       "2000"
      ]
     },
     "execution_count": 5,
     "metadata": {},
     "output_type": "execute_result"
    }
   ],
   "source": [
    "len(movie_reviews.fileids())"
   ]
  },
  {
   "cell_type": "code",
   "execution_count": 6,
   "metadata": {},
   "outputs": [
    {
     "data": {
      "text/plain": [
       "['neg/cv000_29416.txt',\n",
       " 'neg/cv001_19502.txt',\n",
       " 'neg/cv002_17424.txt',\n",
       " 'neg/cv003_12683.txt',\n",
       " 'neg/cv004_12641.txt']"
      ]
     },
     "execution_count": 6,
     "metadata": {},
     "output_type": "execute_result"
    }
   ],
   "source": [
    "movie_reviews.fileids()[:5]"
   ]
  },
  {
   "cell_type": "code",
   "execution_count": 7,
   "metadata": {},
   "outputs": [
    {
     "data": {
      "text/plain": [
       "['pos/cv995_21821.txt',\n",
       " 'pos/cv996_11592.txt',\n",
       " 'pos/cv997_5046.txt',\n",
       " 'pos/cv998_14111.txt',\n",
       " 'pos/cv999_13106.txt']"
      ]
     },
     "execution_count": 7,
     "metadata": {},
     "output_type": "execute_result"
    }
   ],
   "source": [
    "movie_reviews.fileids()[-5:]"
   ]
  },
  {
   "cell_type": "markdown",
   "metadata": {},
   "source": [
    "`fileids` can also filter the available files based on their category, which is **the name of the subfolders** they are located in. Therefore we can have lists of positive and negative reviews separately."
   ]
  },
  {
   "cell_type": "code",
   "execution_count": 8,
   "metadata": {},
   "outputs": [],
   "source": [
    "negative_fileids = movie_reviews.fileids('neg')\n",
    "positive_fileids = movie_reviews.fileids('pos')"
   ]
  },
  {
   "cell_type": "code",
   "execution_count": 9,
   "metadata": {},
   "outputs": [
    {
     "data": {
      "text/plain": [
       "(1000, 1000)"
      ]
     },
     "execution_count": 9,
     "metadata": {},
     "output_type": "execute_result"
    }
   ],
   "source": [
    "len(negative_fileids), len(positive_fileids)"
   ]
  },
  {
   "cell_type": "code",
   "execution_count": 10,
   "metadata": {},
   "outputs": [
    {
     "data": {
      "text/plain": [
       "(list, list)"
      ]
     },
     "execution_count": 10,
     "metadata": {},
     "output_type": "execute_result"
    }
   ],
   "source": [
    "type(negative_fileids), type(positive_fileids)"
   ]
  },
  {
   "cell_type": "code",
   "execution_count": 11,
   "metadata": {},
   "outputs": [
    {
     "data": {
      "text/plain": [
       "['neg/cv000_29416.txt',\n",
       " 'neg/cv001_19502.txt',\n",
       " 'neg/cv002_17424.txt',\n",
       " 'neg/cv003_12683.txt',\n",
       " 'neg/cv004_12641.txt']"
      ]
     },
     "execution_count": 11,
     "metadata": {},
     "output_type": "execute_result"
    }
   ],
   "source": [
    "negative_fileids[:5]"
   ]
  },
  {
   "cell_type": "markdown",
   "metadata": {},
   "source": [
    "We can inspect one of the reviews using the `raw` method of `movie_reviews`, **each file is split into sentences**, the curators of this dataset also removed from each review from any direct mention of the rating of the movie."
   ]
  },
  {
   "cell_type": "markdown",
   "metadata": {},
   "source": [
    "raw( ): unprocessed corpus contents"
   ]
  },
  {
   "cell_type": "code",
   "execution_count": 12,
   "metadata": {},
   "outputs": [
    {
     "name": "stdout",
     "output_type": "stream",
     "text": [
      "films adapted from comic books have had plenty of success , whether they're about superheroes ( batman , superman , spawn ) , or geared toward kids ( casper ) or the arthouse crowd ( ghost world ) , but there's never really been a comic book like from hell before . \n",
      "for starters , it was created by alan moore ( and eddie campbell ) , who brought the medium to a whole new level in the mid '80s with a 12-part series called the watchmen . \n",
      "to say moore and campbell thoroughly researched the subject of jack the ripper would be like saying michael jackson is starting to look a little odd . \n",
      "the book ( or \" graphic novel , \" if you will ) is over 500 pages long and includes nearly 30 more that consist of nothing but footnotes . \n",
      "in other words , don't dismiss this film because of its source . \n",
      "if you can get past the whole comic book thing , you might find another stumbling block in from hell's directors , albert and allen hughes . \n",
      "getting the hughes brothers to direct this seems almost as ludicrous as casting carrot top in , well , anything , but riddle me this : who better to direct a film that's set in the ghetto and features really violent street crime than the mad geniuses behind menace ii society ? \n",
      "the ghetto in question is , of course , whitechapel in 1888 london's east end . \n",
      "it's a filthy , sooty place where the whores ( called \" unfortunates \" ) are starting to get a little nervous about this mysterious psychopath who has been carving through their profession with surgical precision . \n",
      "when the first stiff turns up , copper peter godley ( robbie coltrane , the world is not enough ) calls in inspector frederick abberline ( johnny depp , blow ) to crack the case . \n",
      "abberline , a widower , has prophetic dreams he unsuccessfully tries to quell with copious amounts of absinthe and opium . \n",
      "upon arriving in whitechapel , he befriends an unfortunate named mary kelly ( heather graham , say it isn't so ) and proceeds to investigate the horribly gruesome crimes that even the police surgeon can't stomach . \n",
      "i don't think anyone needs to be briefed on jack the ripper , so i won't go into the particulars here , other than to say moore and campbell have a unique and interesting theory about both the identity of the killer and the reasons he chooses to slay . \n",
      "in the comic , they don't bother cloaking the identity of the ripper , but screenwriters terry hayes ( vertical limit ) and rafael yglesias ( les mis ? rables ) do a good job of keeping him hidden from viewers until the very end . \n",
      "it's funny to watch the locals blindly point the finger of blame at jews and indians because , after all , an englishman could never be capable of committing such ghastly acts . \n",
      "and from hell's ending had me whistling the stonecutters song from the simpsons for days ( \" who holds back the electric car/who made steve guttenberg a star ? \" ) . \n",
      "don't worry - it'll all make sense when you see it . \n",
      "now onto from hell's appearance : it's certainly dark and bleak enough , and it's surprising to see how much more it looks like a tim burton film than planet of the apes did ( at times , it seems like sleepy hollow 2 ) . \n",
      "the print i saw wasn't completely finished ( both color and music had not been finalized , so no comments about marilyn manson ) , but cinematographer peter deming ( don't say a word ) ably captures the dreariness of victorian-era london and helped make the flashy killing scenes remind me of the crazy flashbacks in twin peaks , even though the violence in the film pales in comparison to that in the black-and-white comic . \n",
      "oscar winner martin childs' ( shakespeare in love ) production design turns the original prague surroundings into one creepy place . \n",
      "even the acting in from hell is solid , with the dreamy depp turning in a typically strong performance and deftly handling a british accent . \n",
      "ians holm ( joe gould's secret ) and richardson ( 102 dalmatians ) log in great supporting roles , but the big surprise here is graham . \n",
      "i cringed the first time she opened her mouth , imagining her attempt at an irish accent , but it actually wasn't half bad . \n",
      "the film , however , is all good . \n",
      "2 : 00 - r for strong violence/gore , sexuality , language and drug content \n",
      "\n"
     ]
    }
   ],
   "source": [
    "print(movie_reviews.raw(fileids=positive_fileids[0]))"
   ]
  },
  {
   "cell_type": "markdown",
   "metadata": {},
   "source": [
    "## Tokenize Text in Words"
   ]
  },
  {
   "cell_type": "code",
   "execution_count": 13,
   "metadata": {},
   "outputs": [],
   "source": [
    "romeo_text = \"\"\"Why then, O brawling love! O loving hate!\n",
    "O any thing, of nothing first create!\n",
    "O heavy lightness, serious vanity,\n",
    "Misshapen chaos of well-seeming forms,\n",
    "Feather of lead, bright smoke, cold fire, sick health,\n",
    "Still-waking sleep, that is not what it is!\n",
    "This love feel I, that feel no love in this.\"\"\""
   ]
  },
  {
   "cell_type": "markdown",
   "metadata": {},
   "source": [
    "The first step in Natural Language processing is generally to split the text into words, this process might appear simple but it is very tedious to handle all corner cases, see for example all the issues with punctuation we have to solve if we just start with a split on whitespace:"
   ]
  },
  {
   "cell_type": "code",
   "execution_count": 14,
   "metadata": {},
   "outputs": [
    {
     "data": {
      "text/plain": [
       "['I', 'love', 'you!']"
      ]
     },
     "execution_count": 14,
     "metadata": {},
     "output_type": "execute_result"
    }
   ],
   "source": [
    "test = 'I love you!'\n",
    "test.split()"
   ]
  },
  {
   "cell_type": "code",
   "execution_count": 15,
   "metadata": {},
   "outputs": [
    {
     "data": {
      "text/plain": [
       "['Why',\n",
       " 'then,',\n",
       " 'O',\n",
       " 'brawling',\n",
       " 'love!',\n",
       " 'O',\n",
       " 'loving',\n",
       " 'hate!',\n",
       " 'O',\n",
       " 'any',\n",
       " 'thing,',\n",
       " 'of',\n",
       " 'nothing',\n",
       " 'first',\n",
       " 'create!',\n",
       " 'O',\n",
       " 'heavy',\n",
       " 'lightness,',\n",
       " 'serious',\n",
       " 'vanity,',\n",
       " 'Misshapen',\n",
       " 'chaos',\n",
       " 'of',\n",
       " 'well-seeming',\n",
       " 'forms,',\n",
       " 'Feather',\n",
       " 'of',\n",
       " 'lead,',\n",
       " 'bright',\n",
       " 'smoke,',\n",
       " 'cold',\n",
       " 'fire,',\n",
       " 'sick',\n",
       " 'health,',\n",
       " 'Still-waking',\n",
       " 'sleep,',\n",
       " 'that',\n",
       " 'is',\n",
       " 'not',\n",
       " 'what',\n",
       " 'it',\n",
       " 'is!',\n",
       " 'This',\n",
       " 'love',\n",
       " 'feel',\n",
       " 'I,',\n",
       " 'that',\n",
       " 'feel',\n",
       " 'no',\n",
       " 'love',\n",
       " 'in',\n",
       " 'this.']"
      ]
     },
     "execution_count": 15,
     "metadata": {},
     "output_type": "execute_result"
    }
   ],
   "source": [
    "romeo_text.split()"
   ]
  },
  {
   "cell_type": "markdown",
   "metadata": {},
   "source": [
    "`nltk` has a sophisticated word tokenizer trained on English named `punkt`, we first have to download its parameters: "
   ]
  },
  {
   "cell_type": "code",
   "execution_count": 16,
   "metadata": {},
   "outputs": [
    {
     "name": "stderr",
     "output_type": "stream",
     "text": [
      "[nltk_data] Downloading package punkt to /Users/yang/nltk_data...\n",
      "[nltk_data]   Package punkt is already up-to-date!\n"
     ]
    },
    {
     "data": {
      "text/plain": [
       "True"
      ]
     },
     "execution_count": 16,
     "metadata": {},
     "output_type": "execute_result"
    }
   ],
   "source": [
    "nltk.download(\"punkt\")"
   ]
  },
  {
   "cell_type": "markdown",
   "metadata": {},
   "source": [
    "Then we can use the `word_tokenize` function to properly tokenize this text, compare to the whitespace splitting we used above:"
   ]
  },
  {
   "cell_type": "code",
   "execution_count": 17,
   "metadata": {},
   "outputs": [],
   "source": [
    "romeo_words = nltk.word_tokenize(romeo_text)"
   ]
  },
  {
   "cell_type": "code",
   "execution_count": 18,
   "metadata": {},
   "outputs": [
    {
     "data": {
      "text/plain": [
       "['Why',\n",
       " 'then',\n",
       " ',',\n",
       " 'O',\n",
       " 'brawling',\n",
       " 'love',\n",
       " '!',\n",
       " 'O',\n",
       " 'loving',\n",
       " 'hate',\n",
       " '!',\n",
       " 'O',\n",
       " 'any',\n",
       " 'thing',\n",
       " ',',\n",
       " 'of',\n",
       " 'nothing',\n",
       " 'first',\n",
       " 'create',\n",
       " '!',\n",
       " 'O',\n",
       " 'heavy',\n",
       " 'lightness',\n",
       " ',',\n",
       " 'serious',\n",
       " 'vanity',\n",
       " ',',\n",
       " 'Misshapen',\n",
       " 'chaos',\n",
       " 'of',\n",
       " 'well-seeming',\n",
       " 'forms',\n",
       " ',',\n",
       " 'Feather',\n",
       " 'of',\n",
       " 'lead',\n",
       " ',',\n",
       " 'bright',\n",
       " 'smoke',\n",
       " ',',\n",
       " 'cold',\n",
       " 'fire',\n",
       " ',',\n",
       " 'sick',\n",
       " 'health',\n",
       " ',',\n",
       " 'Still-waking',\n",
       " 'sleep',\n",
       " ',',\n",
       " 'that',\n",
       " 'is',\n",
       " 'not',\n",
       " 'what',\n",
       " 'it',\n",
       " 'is',\n",
       " '!',\n",
       " 'This',\n",
       " 'love',\n",
       " 'feel',\n",
       " 'I',\n",
       " ',',\n",
       " 'that',\n",
       " 'feel',\n",
       " 'no',\n",
       " 'love',\n",
       " 'in',\n",
       " 'this',\n",
       " '.']"
      ]
     },
     "execution_count": 18,
     "metadata": {},
     "output_type": "execute_result"
    }
   ],
   "source": [
    "romeo_words"
   ]
  },
  {
   "cell_type": "markdown",
   "metadata": {},
   "source": [
    "Good news is that the `movie_reviews` corpus already has direct access to tokenized text with the `words` method:"
   ]
  },
  {
   "cell_type": "markdown",
   "metadata": {},
   "source": [
    "words( ): list of str <br>\n",
    "sents( ): list of (list of str) <br>\n",
    "paras( ): list of (list of (list of str))"
   ]
  },
  {
   "cell_type": "code",
   "execution_count": 19,
   "metadata": {},
   "outputs": [
    {
     "data": {
      "text/plain": [
       "['films', 'adapted', 'from', 'comic', 'books', 'have', ...]"
      ]
     },
     "execution_count": 19,
     "metadata": {},
     "output_type": "execute_result"
    }
   ],
   "source": [
    "movie_reviews.words(fileids=positive_fileids[0])"
   ]
  },
  {
   "cell_type": "code",
   "execution_count": 20,
   "metadata": {},
   "outputs": [
    {
     "data": {
      "text/plain": [
       "nltk.corpus.reader.util.StreamBackedCorpusView"
      ]
     },
     "execution_count": 20,
     "metadata": {},
     "output_type": "execute_result"
    }
   ],
   "source": [
    "type (_)"
   ]
  },
  {
   "cell_type": "markdown",
   "metadata": {},
   "source": [
    "## Build a bag-of-words model\n",
    "\n",
    "The simplest model for analyzing text is just to think about text as an unordered collection of words (bag-of-words). This can generally allow to infer from the text the category, the topic or the sentiment.\n",
    "\n",
    "From the bag-of-words model we can build features to be used by a classifier, here we assume that each word is a feature that can either be `True` or `False`.\n",
    "We implement this in Python as a dictionary where for each word in a sentence we associate `True`, if a word is missing, that would be the same as assigning `False`."
   ]
  },
  {
   "cell_type": "code",
   "execution_count": 21,
   "metadata": {},
   "outputs": [
    {
     "data": {
      "text/plain": [
       "{'Why': True,\n",
       " 'then': True,\n",
       " ',': True,\n",
       " 'O': True,\n",
       " 'brawling': True,\n",
       " 'love': True,\n",
       " '!': True,\n",
       " 'loving': True,\n",
       " 'hate': True,\n",
       " 'any': True,\n",
       " 'thing': True,\n",
       " 'of': True,\n",
       " 'nothing': True,\n",
       " 'first': True,\n",
       " 'create': True,\n",
       " 'heavy': True,\n",
       " 'lightness': True,\n",
       " 'serious': True,\n",
       " 'vanity': True,\n",
       " 'Misshapen': True,\n",
       " 'chaos': True,\n",
       " 'well-seeming': True,\n",
       " 'forms': True,\n",
       " 'Feather': True,\n",
       " 'lead': True,\n",
       " 'bright': True,\n",
       " 'smoke': True,\n",
       " 'cold': True,\n",
       " 'fire': True,\n",
       " 'sick': True,\n",
       " 'health': True,\n",
       " 'Still-waking': True,\n",
       " 'sleep': True,\n",
       " 'that': True,\n",
       " 'is': True,\n",
       " 'not': True,\n",
       " 'what': True,\n",
       " 'it': True,\n",
       " 'This': True,\n",
       " 'feel': True,\n",
       " 'I': True,\n",
       " 'no': True,\n",
       " 'in': True,\n",
       " 'this': True,\n",
       " '.': True}"
      ]
     },
     "execution_count": 21,
     "metadata": {},
     "output_type": "execute_result"
    }
   ],
   "source": [
    "{word:True for word in romeo_words}"
   ]
  },
  {
   "cell_type": "code",
   "execution_count": 22,
   "metadata": {},
   "outputs": [
    {
     "data": {
      "text/plain": [
       "dict"
      ]
     },
     "execution_count": 22,
     "metadata": {},
     "output_type": "execute_result"
    }
   ],
   "source": [
    "type(_)"
   ]
  },
  {
   "cell_type": "code",
   "execution_count": 23,
   "metadata": {},
   "outputs": [],
   "source": [
    "def build_bag_of_words_features(words):\n",
    "    return {word:True for word in words}"
   ]
  },
  {
   "cell_type": "code",
   "execution_count": 24,
   "metadata": {},
   "outputs": [
    {
     "data": {
      "text/plain": [
       "{'Why': True,\n",
       " 'then': True,\n",
       " ',': True,\n",
       " 'O': True,\n",
       " 'brawling': True,\n",
       " 'love': True,\n",
       " '!': True,\n",
       " 'loving': True,\n",
       " 'hate': True,\n",
       " 'any': True,\n",
       " 'thing': True,\n",
       " 'of': True,\n",
       " 'nothing': True,\n",
       " 'first': True,\n",
       " 'create': True,\n",
       " 'heavy': True,\n",
       " 'lightness': True,\n",
       " 'serious': True,\n",
       " 'vanity': True,\n",
       " 'Misshapen': True,\n",
       " 'chaos': True,\n",
       " 'well-seeming': True,\n",
       " 'forms': True,\n",
       " 'Feather': True,\n",
       " 'lead': True,\n",
       " 'bright': True,\n",
       " 'smoke': True,\n",
       " 'cold': True,\n",
       " 'fire': True,\n",
       " 'sick': True,\n",
       " 'health': True,\n",
       " 'Still-waking': True,\n",
       " 'sleep': True,\n",
       " 'that': True,\n",
       " 'is': True,\n",
       " 'not': True,\n",
       " 'what': True,\n",
       " 'it': True,\n",
       " 'This': True,\n",
       " 'feel': True,\n",
       " 'I': True,\n",
       " 'no': True,\n",
       " 'in': True,\n",
       " 'this': True,\n",
       " '.': True}"
      ]
     },
     "execution_count": 24,
     "metadata": {},
     "output_type": "execute_result"
    }
   ],
   "source": [
    "build_bag_of_words_features(romeo_words)"
   ]
  },
  {
   "cell_type": "markdown",
   "metadata": {},
   "source": [
    "This is what we wanted, but we notice that also punctuation like \"!\" and words useless for classification purposes like \"of\" or \"that\" are also included.\n",
    "Those words are named \"stopwords\" and `nltk` has a convenient corpus we can download:"
   ]
  },
  {
   "cell_type": "code",
   "execution_count": 25,
   "metadata": {},
   "outputs": [
    {
     "name": "stderr",
     "output_type": "stream",
     "text": [
      "[nltk_data] Downloading package stopwords to /Users/yang/nltk_data...\n",
      "[nltk_data]   Package stopwords is already up-to-date!\n"
     ]
    },
    {
     "data": {
      "text/plain": [
       "True"
      ]
     },
     "execution_count": 25,
     "metadata": {},
     "output_type": "execute_result"
    }
   ],
   "source": [
    "nltk.download(\"stopwords\")"
   ]
  },
  {
   "cell_type": "code",
   "execution_count": 26,
   "metadata": {},
   "outputs": [],
   "source": [
    "import string"
   ]
  },
  {
   "cell_type": "code",
   "execution_count": 27,
   "metadata": {},
   "outputs": [
    {
     "data": {
      "text/plain": [
       "'!\"#$%&\\'()*+,-./:;<=>?@[\\\\]^_`{|}~'"
      ]
     },
     "execution_count": 27,
     "metadata": {},
     "output_type": "execute_result"
    }
   ],
   "source": [
    "string.punctuation"
   ]
  },
  {
   "cell_type": "markdown",
   "metadata": {},
   "source": [
    "Using the Python **`string.punctuation`** list and **the English stopwords** we can build better features by filtering out those words that would not help in the classification:"
   ]
  },
  {
   "cell_type": "code",
   "execution_count": 28,
   "metadata": {},
   "outputs": [
    {
     "data": {
      "text/plain": [
       "(['i',\n",
       "  'me',\n",
       "  'my',\n",
       "  'myself',\n",
       "  'we',\n",
       "  'our',\n",
       "  'ours',\n",
       "  'ourselves',\n",
       "  'you',\n",
       "  \"you're\",\n",
       "  \"you've\",\n",
       "  \"you'll\",\n",
       "  \"you'd\",\n",
       "  'your',\n",
       "  'yours',\n",
       "  'yourself',\n",
       "  'yourselves',\n",
       "  'he',\n",
       "  'him',\n",
       "  'his',\n",
       "  'himself',\n",
       "  'she',\n",
       "  \"she's\",\n",
       "  'her',\n",
       "  'hers',\n",
       "  'herself',\n",
       "  'it',\n",
       "  \"it's\",\n",
       "  'its',\n",
       "  'itself',\n",
       "  'they',\n",
       "  'them',\n",
       "  'their',\n",
       "  'theirs',\n",
       "  'themselves',\n",
       "  'what',\n",
       "  'which',\n",
       "  'who',\n",
       "  'whom',\n",
       "  'this',\n",
       "  'that',\n",
       "  \"that'll\",\n",
       "  'these',\n",
       "  'those',\n",
       "  'am',\n",
       "  'is',\n",
       "  'are',\n",
       "  'was',\n",
       "  'were',\n",
       "  'be',\n",
       "  'been',\n",
       "  'being',\n",
       "  'have',\n",
       "  'has',\n",
       "  'had',\n",
       "  'having',\n",
       "  'do',\n",
       "  'does',\n",
       "  'did',\n",
       "  'doing',\n",
       "  'a',\n",
       "  'an',\n",
       "  'the',\n",
       "  'and',\n",
       "  'but',\n",
       "  'if',\n",
       "  'or',\n",
       "  'because',\n",
       "  'as',\n",
       "  'until',\n",
       "  'while',\n",
       "  'of',\n",
       "  'at',\n",
       "  'by',\n",
       "  'for',\n",
       "  'with',\n",
       "  'about',\n",
       "  'against',\n",
       "  'between',\n",
       "  'into',\n",
       "  'through',\n",
       "  'during',\n",
       "  'before',\n",
       "  'after',\n",
       "  'above',\n",
       "  'below',\n",
       "  'to',\n",
       "  'from',\n",
       "  'up',\n",
       "  'down',\n",
       "  'in',\n",
       "  'out',\n",
       "  'on',\n",
       "  'off',\n",
       "  'over',\n",
       "  'under',\n",
       "  'again',\n",
       "  'further',\n",
       "  'then',\n",
       "  'once',\n",
       "  'here',\n",
       "  'there',\n",
       "  'when',\n",
       "  'where',\n",
       "  'why',\n",
       "  'how',\n",
       "  'all',\n",
       "  'any',\n",
       "  'both',\n",
       "  'each',\n",
       "  'few',\n",
       "  'more',\n",
       "  'most',\n",
       "  'other',\n",
       "  'some',\n",
       "  'such',\n",
       "  'no',\n",
       "  'nor',\n",
       "  'not',\n",
       "  'only',\n",
       "  'own',\n",
       "  'same',\n",
       "  'so',\n",
       "  'than',\n",
       "  'too',\n",
       "  'very',\n",
       "  's',\n",
       "  't',\n",
       "  'can',\n",
       "  'will',\n",
       "  'just',\n",
       "  'don',\n",
       "  \"don't\",\n",
       "  'should',\n",
       "  \"should've\",\n",
       "  'now',\n",
       "  'd',\n",
       "  'll',\n",
       "  'm',\n",
       "  'o',\n",
       "  're',\n",
       "  've',\n",
       "  'y',\n",
       "  'ain',\n",
       "  'aren',\n",
       "  \"aren't\",\n",
       "  'couldn',\n",
       "  \"couldn't\",\n",
       "  'didn',\n",
       "  \"didn't\",\n",
       "  'doesn',\n",
       "  \"doesn't\",\n",
       "  'hadn',\n",
       "  \"hadn't\",\n",
       "  'hasn',\n",
       "  \"hasn't\",\n",
       "  'haven',\n",
       "  \"haven't\",\n",
       "  'isn',\n",
       "  \"isn't\",\n",
       "  'ma',\n",
       "  'mightn',\n",
       "  \"mightn't\",\n",
       "  'mustn',\n",
       "  \"mustn't\",\n",
       "  'needn',\n",
       "  \"needn't\",\n",
       "  'shan',\n",
       "  \"shan't\",\n",
       "  'shouldn',\n",
       "  \"shouldn't\",\n",
       "  'wasn',\n",
       "  \"wasn't\",\n",
       "  'weren',\n",
       "  \"weren't\",\n",
       "  'won',\n",
       "  \"won't\",\n",
       "  'wouldn',\n",
       "  \"wouldn't\",\n",
       "  '!',\n",
       "  '\"',\n",
       "  '#',\n",
       "  '$',\n",
       "  '%',\n",
       "  '&',\n",
       "  \"'\",\n",
       "  '(',\n",
       "  ')',\n",
       "  '*',\n",
       "  '+',\n",
       "  ',',\n",
       "  '-',\n",
       "  '.',\n",
       "  '/',\n",
       "  ':',\n",
       "  ';',\n",
       "  '<',\n",
       "  '=',\n",
       "  '>',\n",
       "  '?',\n",
       "  '@',\n",
       "  '[',\n",
       "  '\\\\',\n",
       "  ']',\n",
       "  '^',\n",
       "  '_',\n",
       "  '`',\n",
       "  '{',\n",
       "  '|',\n",
       "  '}',\n",
       "  '~'],\n",
       " list)"
      ]
     },
     "execution_count": 28,
     "metadata": {},
     "output_type": "execute_result"
    }
   ],
   "source": [
    "useless_words = nltk.corpus.stopwords.words(\"english\") + list(string.punctuation)\n",
    "useless_words, type(useless_words)"
   ]
  },
  {
   "cell_type": "code",
   "execution_count": 29,
   "metadata": {},
   "outputs": [],
   "source": [
    "def build_bag_of_words_features_filtered(words):\n",
    "    return {\n",
    "        word:1 for word in words \\\n",
    "        if not word in useless_words}"
   ]
  },
  {
   "cell_type": "code",
   "execution_count": 30,
   "metadata": {},
   "outputs": [
    {
     "data": {
      "text/plain": [
       "{'Why': 1,\n",
       " 'O': 1,\n",
       " 'brawling': 1,\n",
       " 'love': 1,\n",
       " 'loving': 1,\n",
       " 'hate': 1,\n",
       " 'thing': 1,\n",
       " 'nothing': 1,\n",
       " 'first': 1,\n",
       " 'create': 1,\n",
       " 'heavy': 1,\n",
       " 'lightness': 1,\n",
       " 'serious': 1,\n",
       " 'vanity': 1,\n",
       " 'Misshapen': 1,\n",
       " 'chaos': 1,\n",
       " 'well-seeming': 1,\n",
       " 'forms': 1,\n",
       " 'Feather': 1,\n",
       " 'lead': 1,\n",
       " 'bright': 1,\n",
       " 'smoke': 1,\n",
       " 'cold': 1,\n",
       " 'fire': 1,\n",
       " 'sick': 1,\n",
       " 'health': 1,\n",
       " 'Still-waking': 1,\n",
       " 'sleep': 1,\n",
       " 'This': 1,\n",
       " 'feel': 1,\n",
       " 'I': 1}"
      ]
     },
     "execution_count": 30,
     "metadata": {},
     "output_type": "execute_result"
    }
   ],
   "source": [
    "build_bag_of_words_features_filtered(romeo_words)"
   ]
  },
  {
   "cell_type": "markdown",
   "metadata": {},
   "source": [
    "## Plotting Frequencies of Words\n",
    "\n",
    "It is common to explore a dataset before starting the analysis, in this section we will find the most common words and plot their frequency.\n",
    "\n",
    "Using the `.words()` function with no argument we can extract the words from the entire dataset and check that it is about 1.6 millions."
   ]
  },
  {
   "cell_type": "code",
   "execution_count": 31,
   "metadata": {},
   "outputs": [
    {
     "data": {
      "text/plain": [
       "(nltk.corpus.reader.util.ConcatenatedCorpusView, 1.58382)"
      ]
     },
     "execution_count": 31,
     "metadata": {},
     "output_type": "execute_result"
    }
   ],
   "source": [
    "all_words = movie_reviews.words()\n",
    "type (all_words), len(all_words)/1e6"
   ]
  },
  {
   "cell_type": "markdown",
   "metadata": {},
   "source": [
    "First we want to filter out `useless_words` as defined in the previous section, this will reduce the length of the dataset by more than a factor of 2:"
   ]
  },
  {
   "cell_type": "code",
   "execution_count": 32,
   "metadata": {},
   "outputs": [
    {
     "data": {
      "text/plain": [
       "list"
      ]
     },
     "execution_count": 32,
     "metadata": {},
     "output_type": "execute_result"
    }
   ],
   "source": [
    "filtered_words = [word for word in movie_reviews.words() if not word in useless_words]\n",
    "type(filtered_words)"
   ]
  },
  {
   "cell_type": "code",
   "execution_count": 33,
   "metadata": {},
   "outputs": [
    {
     "data": {
      "text/plain": [
       "0.710579"
      ]
     },
     "execution_count": 33,
     "metadata": {},
     "output_type": "execute_result"
    }
   ],
   "source": [
    "len(filtered_words)/1e6"
   ]
  },
  {
   "cell_type": "markdown",
   "metadata": {},
   "source": [
    "The `collection` package of the standard library contains a `Counter` class that is handy for counting frequencies of words in our list:"
   ]
  },
  {
   "cell_type": "code",
   "execution_count": 34,
   "metadata": {},
   "outputs": [
    {
     "data": {
      "text/plain": [
       "collections.Counter"
      ]
     },
     "execution_count": 34,
     "metadata": {},
     "output_type": "execute_result"
    }
   ],
   "source": [
    "from collections import Counter\n",
    "\n",
    "word_counter = Counter(filtered_words)\n",
    "type (word_counter)"
   ]
  },
  {
   "cell_type": "code",
   "execution_count": 35,
   "metadata": {},
   "outputs": [
    {
     "data": {
      "text/plain": [
       "Counter({'plot': 1513,\n",
       "         'two': 1911,\n",
       "         'teen': 151,\n",
       "         'couples': 27,\n",
       "         'go': 1113,\n",
       "         'church': 69,\n",
       "         'party': 183,\n",
       "         'drink': 32,\n",
       "         'drive': 105,\n",
       "         'get': 1949,\n",
       "         'accident': 104,\n",
       "         'one': 5852,\n",
       "         'guys': 268,\n",
       "         'dies': 104,\n",
       "         'girlfriend': 218,\n",
       "         'continues': 88,\n",
       "         'see': 1749,\n",
       "         'life': 1586,\n",
       "         'nightmares': 26,\n",
       "         'deal': 219,\n",
       "         'watch': 603,\n",
       "         'movie': 5771,\n",
       "         'sorta': 10,\n",
       "         'find': 782,\n",
       "         'critique': 61,\n",
       "         'mind': 451,\n",
       "         'fuck': 17,\n",
       "         'generation': 96,\n",
       "         'touches': 55,\n",
       "         'cool': 208,\n",
       "         'idea': 386,\n",
       "         'presents': 78,\n",
       "         'bad': 1395,\n",
       "         'package': 30,\n",
       "         'makes': 992,\n",
       "         'review': 295,\n",
       "         'even': 2565,\n",
       "         'harder': 33,\n",
       "         'write': 119,\n",
       "         'since': 768,\n",
       "         'generally': 103,\n",
       "         'applaud': 10,\n",
       "         'films': 1536,\n",
       "         'attempt': 263,\n",
       "         'break': 175,\n",
       "         'mold': 14,\n",
       "         'mess': 159,\n",
       "         'head': 387,\n",
       "         'lost': 409,\n",
       "         'highway': 28,\n",
       "         'memento': 10,\n",
       "         'good': 2411,\n",
       "         'ways': 189,\n",
       "         'making': 602,\n",
       "         'types': 48,\n",
       "         'folks': 74,\n",
       "         'snag': 2,\n",
       "         'correctly': 17,\n",
       "         'seem': 574,\n",
       "         'taken': 225,\n",
       "         'pretty': 528,\n",
       "         'neat': 32,\n",
       "         'concept': 114,\n",
       "         'executed': 46,\n",
       "         'terribly': 58,\n",
       "         'problems': 293,\n",
       "         'well': 1906,\n",
       "         'main': 399,\n",
       "         'problem': 396,\n",
       "         'simply': 428,\n",
       "         'jumbled': 12,\n",
       "         'starts': 316,\n",
       "         'normal': 111,\n",
       "         'downshifts': 2,\n",
       "         'fantasy': 97,\n",
       "         'world': 1037,\n",
       "         'audience': 914,\n",
       "         'member': 126,\n",
       "         'going': 888,\n",
       "         'dreams': 131,\n",
       "         'characters': 1859,\n",
       "         'coming': 275,\n",
       "         'back': 1060,\n",
       "         'dead': 418,\n",
       "         'others': 288,\n",
       "         'look': 835,\n",
       "         'like': 3690,\n",
       "         'strange': 185,\n",
       "         'apparitions': 5,\n",
       "         'disappearances': 3,\n",
       "         'looooot': 1,\n",
       "         'chase': 159,\n",
       "         'scenes': 1274,\n",
       "         'tons': 21,\n",
       "         'weird': 100,\n",
       "         'things': 852,\n",
       "         'happen': 220,\n",
       "         'explained': 70,\n",
       "         'personally': 44,\n",
       "         'trying': 566,\n",
       "         'unravel': 9,\n",
       "         'film': 9517,\n",
       "         'every': 947,\n",
       "         'give': 561,\n",
       "         'clue': 45,\n",
       "         'kind': 559,\n",
       "         'fed': 29,\n",
       "         'biggest': 149,\n",
       "         'obviously': 228,\n",
       "         'got': 470,\n",
       "         'big': 1064,\n",
       "         'secret': 184,\n",
       "         'hide': 40,\n",
       "         'seems': 1033,\n",
       "         'want': 560,\n",
       "         'completely': 440,\n",
       "         'final': 380,\n",
       "         'five': 284,\n",
       "         'minutes': 644,\n",
       "         'make': 1642,\n",
       "         'entertaining': 314,\n",
       "         'thrilling': 46,\n",
       "         'engaging': 79,\n",
       "         'meantime': 19,\n",
       "         'really': 1558,\n",
       "         'sad': 108,\n",
       "         'part': 714,\n",
       "         'arrow': 29,\n",
       "         'dig': 19,\n",
       "         'flicks': 81,\n",
       "         'actually': 837,\n",
       "         'figured': 29,\n",
       "         'half': 535,\n",
       "         'way': 1693,\n",
       "         'point': 685,\n",
       "         'strangeness': 6,\n",
       "         'start': 312,\n",
       "         'little': 1501,\n",
       "         'bit': 568,\n",
       "         'sense': 555,\n",
       "         'still': 1047,\n",
       "         'guess': 226,\n",
       "         'bottom': 93,\n",
       "         'line': 435,\n",
       "         'movies': 1206,\n",
       "         'always': 586,\n",
       "         'sure': 523,\n",
       "         'given': 502,\n",
       "         'password': 4,\n",
       "         'enter': 68,\n",
       "         'understanding': 57,\n",
       "         'mean': 242,\n",
       "         'showing': 147,\n",
       "         'melissa': 12,\n",
       "         'sagemiller': 8,\n",
       "         'running': 323,\n",
       "         'away': 655,\n",
       "         'visions': 31,\n",
       "         '20': 98,\n",
       "         'throughout': 302,\n",
       "         'plain': 82,\n",
       "         'lazy': 34,\n",
       "         'okay': 125,\n",
       "         'people': 1455,\n",
       "         'chasing': 43,\n",
       "         'know': 1217,\n",
       "         'need': 316,\n",
       "         'giving': 214,\n",
       "         'us': 1073,\n",
       "         'different': 430,\n",
       "         'offering': 38,\n",
       "         'insight': 54,\n",
       "         'apparently': 209,\n",
       "         'studio': 163,\n",
       "         'took': 164,\n",
       "         'director': 1237,\n",
       "         'chopped': 5,\n",
       "         'shows': 410,\n",
       "         'might': 635,\n",
       "         'decent': 164,\n",
       "         'somewhere': 127,\n",
       "         'suits': 45,\n",
       "         'decided': 104,\n",
       "         'turning': 80,\n",
       "         'music': 480,\n",
       "         'video': 322,\n",
       "         'edge': 104,\n",
       "         'would': 2109,\n",
       "         'actors': 706,\n",
       "         'although': 795,\n",
       "         'wes': 50,\n",
       "         'bentley': 9,\n",
       "         'seemed': 212,\n",
       "         'playing': 362,\n",
       "         'exact': 64,\n",
       "         'character': 2020,\n",
       "         'american': 559,\n",
       "         'beauty': 135,\n",
       "         'new': 1292,\n",
       "         'neighborhood': 21,\n",
       "         'kudos': 21,\n",
       "         'holds': 90,\n",
       "         'entire': 408,\n",
       "         'feeling': 225,\n",
       "         'unraveling': 2,\n",
       "         'overall': 160,\n",
       "         'stick': 69,\n",
       "         'entertain': 53,\n",
       "         'confusing': 94,\n",
       "         'rarely': 102,\n",
       "         'excites': 2,\n",
       "         'feels': 216,\n",
       "         'redundant': 14,\n",
       "         'runtime': 8,\n",
       "         'despite': 352,\n",
       "         'ending': 423,\n",
       "         'explanation': 69,\n",
       "         'craziness': 4,\n",
       "         'came': 185,\n",
       "         'oh': 216,\n",
       "         'horror': 473,\n",
       "         'slasher': 84,\n",
       "         'flick': 196,\n",
       "         'packaged': 3,\n",
       "         'someone': 401,\n",
       "         'assuming': 15,\n",
       "         'genre': 268,\n",
       "         'hot': 127,\n",
       "         'kids': 328,\n",
       "         'also': 1967,\n",
       "         'wrapped': 39,\n",
       "         'production': 300,\n",
       "         'years': 846,\n",
       "         'ago': 199,\n",
       "         'sitting': 93,\n",
       "         'shelves': 13,\n",
       "         'ever': 776,\n",
       "         'whatever': 136,\n",
       "         'skip': 45,\n",
       "         'joblo': 30,\n",
       "         'nightmare': 60,\n",
       "         'elm': 14,\n",
       "         'street': 140,\n",
       "         '3': 222,\n",
       "         '7': 115,\n",
       "         '10': 449,\n",
       "         'blair': 98,\n",
       "         'witch': 108,\n",
       "         '2': 439,\n",
       "         'crow': 55,\n",
       "         '9': 75,\n",
       "         'salvation': 14,\n",
       "         '4': 190,\n",
       "         'stir': 27,\n",
       "         'echoes': 31,\n",
       "         '8': 140,\n",
       "         'happy': 215,\n",
       "         'bastard': 46,\n",
       "         'quick': 139,\n",
       "         'damn': 88,\n",
       "         'y2k': 4,\n",
       "         'bug': 81,\n",
       "         'starring': 184,\n",
       "         'jamie': 42,\n",
       "         'lee': 266,\n",
       "         'curtis': 37,\n",
       "         'another': 1121,\n",
       "         'baldwin': 89,\n",
       "         'brother': 268,\n",
       "         'william': 206,\n",
       "         'time': 2411,\n",
       "         'story': 2169,\n",
       "         'regarding': 31,\n",
       "         'crew': 214,\n",
       "         'tugboat': 2,\n",
       "         'comes': 733,\n",
       "         'across': 221,\n",
       "         'deserted': 21,\n",
       "         'russian': 68,\n",
       "         'tech': 29,\n",
       "         'ship': 264,\n",
       "         'kick': 52,\n",
       "         'power': 238,\n",
       "         'within': 227,\n",
       "         'gore': 110,\n",
       "         'bringing': 81,\n",
       "         'action': 1172,\n",
       "         'sequences': 293,\n",
       "         'virus': 77,\n",
       "         'empty': 67,\n",
       "         'flash': 62,\n",
       "         'substance': 73,\n",
       "         'middle': 222,\n",
       "         'nowhere': 98,\n",
       "         'origin': 8,\n",
       "         'pink': 24,\n",
       "         'flashy': 41,\n",
       "         'thing': 809,\n",
       "         'hit': 285,\n",
       "         'mir': 7,\n",
       "         'course': 648,\n",
       "         'donald': 38,\n",
       "         'sutherland': 39,\n",
       "         'stumbling': 15,\n",
       "         'around': 903,\n",
       "         'drunkenly': 2,\n",
       "         'hey': 70,\n",
       "         'let': 425,\n",
       "         'robots': 27,\n",
       "         'acting': 695,\n",
       "         'average': 119,\n",
       "         'likes': 99,\n",
       "         'likely': 164,\n",
       "         'work': 1020,\n",
       "         'halloween': 60,\n",
       "         'h20': 7,\n",
       "         'wasted': 118,\n",
       "         'real': 915,\n",
       "         'star': 761,\n",
       "         'stan': 12,\n",
       "         'winston': 4,\n",
       "         'robot': 45,\n",
       "         'design': 87,\n",
       "         'schnazzy': 1,\n",
       "         'cgi': 50,\n",
       "         'occasional': 62,\n",
       "         'shot': 348,\n",
       "         'picking': 28,\n",
       "         'brain': 93,\n",
       "         'body': 269,\n",
       "         'parts': 207,\n",
       "         'turn': 363,\n",
       "         'otherwise': 156,\n",
       "         'much': 2049,\n",
       "         'sunken': 4,\n",
       "         'jaded': 12,\n",
       "         'viewer': 218,\n",
       "         'thankful': 7,\n",
       "         'invention': 11,\n",
       "         'timex': 1,\n",
       "         'indiglo': 1,\n",
       "         'based': 389,\n",
       "         'late': 238,\n",
       "         '1960': 22,\n",
       "         'television': 220,\n",
       "         'show': 741,\n",
       "         'name': 392,\n",
       "         'mod': 17,\n",
       "         'squad': 40,\n",
       "         'tells': 255,\n",
       "         'tale': 216,\n",
       "         'three': 695,\n",
       "         'reformed': 7,\n",
       "         'criminals': 35,\n",
       "         'employ': 16,\n",
       "         'police': 241,\n",
       "         'undercover': 28,\n",
       "         'however': 989,\n",
       "         'wrong': 385,\n",
       "         'evidence': 66,\n",
       "         'gets': 865,\n",
       "         'stolen': 58,\n",
       "         'immediately': 163,\n",
       "         'suspicion': 19,\n",
       "         'ads': 33,\n",
       "         'cuts': 60,\n",
       "         'claire': 70,\n",
       "         'dane': 5,\n",
       "         'nice': 344,\n",
       "         'hair': 109,\n",
       "         'cute': 134,\n",
       "         'outfits': 21,\n",
       "         'car': 321,\n",
       "         'chases': 50,\n",
       "         'stuff': 208,\n",
       "         'blowing': 26,\n",
       "         'sounds': 133,\n",
       "         'first': 1836,\n",
       "         'fifteen': 64,\n",
       "         'quickly': 255,\n",
       "         'becomes': 526,\n",
       "         'apparent': 100,\n",
       "         'certainly': 361,\n",
       "         'slick': 39,\n",
       "         'looking': 501,\n",
       "         'complete': 197,\n",
       "         'costumes': 71,\n",
       "         'enough': 910,\n",
       "         'best': 1333,\n",
       "         'described': 57,\n",
       "         'cross': 111,\n",
       "         'hour': 355,\n",
       "         'long': 836,\n",
       "         'cop': 208,\n",
       "         'stretched': 19,\n",
       "         'span': 19,\n",
       "         'single': 239,\n",
       "         'clich': 72,\n",
       "         'matter': 321,\n",
       "         'elements': 236,\n",
       "         'recycled': 24,\n",
       "         'everything': 530,\n",
       "         'already': 289,\n",
       "         'seen': 910,\n",
       "         'nothing': 804,\n",
       "         'spectacular': 83,\n",
       "         'sometimes': 277,\n",
       "         'bordering': 6,\n",
       "         'wooden': 48,\n",
       "         'danes': 26,\n",
       "         'omar': 12,\n",
       "         'epps': 16,\n",
       "         'deliver': 92,\n",
       "         'lines': 320,\n",
       "         'bored': 83,\n",
       "         'transfers': 3,\n",
       "         'onto': 119,\n",
       "         'escape': 158,\n",
       "         'relatively': 66,\n",
       "         'unscathed': 8,\n",
       "         'giovanni': 14,\n",
       "         'ribisi': 24,\n",
       "         'plays': 752,\n",
       "         'resident': 8,\n",
       "         'crazy': 99,\n",
       "         'man': 1396,\n",
       "         'ultimately': 158,\n",
       "         'worth': 319,\n",
       "         'watching': 493,\n",
       "         'unfortunately': 382,\n",
       "         'save': 273,\n",
       "         'convoluted': 31,\n",
       "         'apart': 118,\n",
       "         'occupying': 5,\n",
       "         'screen': 705,\n",
       "         'young': 743,\n",
       "         'cast': 769,\n",
       "         'clothes': 51,\n",
       "         'hip': 69,\n",
       "         'soundtrack': 148,\n",
       "         'appears': 243,\n",
       "         'geared': 14,\n",
       "         'towards': 182,\n",
       "         'teenage': 103,\n",
       "         'mindset': 10,\n",
       "         'r': 180,\n",
       "         'rating': 151,\n",
       "         'content': 77,\n",
       "         'justify': 23,\n",
       "         'juvenile': 22,\n",
       "         'older': 103,\n",
       "         'information': 100,\n",
       "         'literally': 106,\n",
       "         'spoon': 22,\n",
       "         'hard': 587,\n",
       "         'instead': 565,\n",
       "         'telling': 133,\n",
       "         'dialogue': 519,\n",
       "         'poorly': 94,\n",
       "         'written': 409,\n",
       "         'extremely': 248,\n",
       "         'predictable': 182,\n",
       "         'progresses': 47,\n",
       "         'care': 304,\n",
       "         'heroes': 101,\n",
       "         'jeopardy': 28,\n",
       "         'basing': 4,\n",
       "         'nobody': 88,\n",
       "         'remembers': 9,\n",
       "         'questionable': 20,\n",
       "         'wisdom': 35,\n",
       "         'especially': 456,\n",
       "         'considers': 19,\n",
       "         'target': 94,\n",
       "         'fact': 805,\n",
       "         'number': 222,\n",
       "         'memorable': 147,\n",
       "         'counted': 13,\n",
       "         'hand': 378,\n",
       "         'missing': 116,\n",
       "         'finger': 25,\n",
       "         'times': 568,\n",
       "         'checked': 7,\n",
       "         'six': 147,\n",
       "         'clear': 184,\n",
       "         'indication': 11,\n",
       "         'cash': 92,\n",
       "         'spending': 46,\n",
       "         'dollar': 55,\n",
       "         'judging': 34,\n",
       "         'rash': 7,\n",
       "         'awful': 132,\n",
       "         'seeing': 339,\n",
       "         'avoid': 91,\n",
       "         'costs': 25,\n",
       "         'quest': 69,\n",
       "         'camelot': 11,\n",
       "         'warner': 48,\n",
       "         'bros': 24,\n",
       "         'feature': 230,\n",
       "         'length': 98,\n",
       "         'fully': 102,\n",
       "         'animated': 179,\n",
       "         'steal': 70,\n",
       "         'clout': 9,\n",
       "         'disney': 290,\n",
       "         'cartoon': 88,\n",
       "         'empire': 41,\n",
       "         'mouse': 51,\n",
       "         'reason': 437,\n",
       "         'worried': 29,\n",
       "         'recent': 211,\n",
       "         'challenger': 2,\n",
       "         'throne': 18,\n",
       "         'last': 843,\n",
       "         'fall': 239,\n",
       "         'promising': 54,\n",
       "         'flawed': 49,\n",
       "         '20th': 28,\n",
       "         'century': 121,\n",
       "         'fox': 111,\n",
       "         'anastasia': 22,\n",
       "         'hercules': 16,\n",
       "         'lively': 32,\n",
       "         'colorful': 51,\n",
       "         'palate': 4,\n",
       "         'beat': 71,\n",
       "         'hands': 148,\n",
       "         'crown': 15,\n",
       "         '1997': 112,\n",
       "         'piece': 244,\n",
       "         'animation': 142,\n",
       "         'year': 886,\n",
       "         'contest': 24,\n",
       "         'arrival': 37,\n",
       "         'magic': 92,\n",
       "         'kingdom': 19,\n",
       "         'mediocre': 74,\n",
       "         '--': 1815,\n",
       "         'pocahontas': 11,\n",
       "         'keeping': 88,\n",
       "         'score': 212,\n",
       "         'nearly': 307,\n",
       "         'dull': 134,\n",
       "         'revolves': 52,\n",
       "         'adventures': 53,\n",
       "         'free': 159,\n",
       "         'spirited': 43,\n",
       "         'kayley': 4,\n",
       "         'voiced': 57,\n",
       "         'jessalyn': 1,\n",
       "         'gilsig': 1,\n",
       "         'early': 303,\n",
       "         'daughter': 317,\n",
       "         'belated': 2,\n",
       "         'knight': 37,\n",
       "         'king': 256,\n",
       "         'arthur': 45,\n",
       "         'round': 49,\n",
       "         'table': 53,\n",
       "         'dream': 164,\n",
       "         'follow': 185,\n",
       "         'father': 492,\n",
       "         'footsteps': 17,\n",
       "         'chance': 223,\n",
       "         'evil': 429,\n",
       "         'warlord': 3,\n",
       "         'ruber': 1,\n",
       "         'gary': 77,\n",
       "         'oldman': 33,\n",
       "         'ex': 165,\n",
       "         'gone': 195,\n",
       "         'steals': 59,\n",
       "         'magical': 51,\n",
       "         'sword': 44,\n",
       "         'excalibur': 3,\n",
       "         'accidentally': 57,\n",
       "         'loses': 85,\n",
       "         'dangerous': 81,\n",
       "         'booby': 4,\n",
       "         'trapped': 52,\n",
       "         'forest': 45,\n",
       "         'help': 537,\n",
       "         'hunky': 12,\n",
       "         'blind': 44,\n",
       "         'timberland': 2,\n",
       "         'dweller': 2,\n",
       "         'garrett': 9,\n",
       "         'carey': 13,\n",
       "         'elwes': 6,\n",
       "         'headed': 75,\n",
       "         'dragon': 56,\n",
       "         'eric': 64,\n",
       "         'idle': 23,\n",
       "         'rickles': 4,\n",
       "         'arguing': 17,\n",
       "         'able': 339,\n",
       "         'medieval': 17,\n",
       "         'sexist': 14,\n",
       "         'prove': 102,\n",
       "         'fighter': 32,\n",
       "         'side': 341,\n",
       "         'pure': 90,\n",
       "         'showmanship': 4,\n",
       "         'essential': 34,\n",
       "         'element': 150,\n",
       "         'expected': 138,\n",
       "         'climb': 16,\n",
       "         'high': 624,\n",
       "         'ranks': 24,\n",
       "         'differentiates': 2,\n",
       "         'something': 1061,\n",
       "         'saturday': 53,\n",
       "         'morning': 66,\n",
       "         'subpar': 3,\n",
       "         'instantly': 41,\n",
       "         'forgettable': 30,\n",
       "         'songs': 119,\n",
       "         'integrated': 7,\n",
       "         'computerized': 4,\n",
       "         'footage': 104,\n",
       "         'compare': 41,\n",
       "         'run': 354,\n",
       "         'angry': 89,\n",
       "         'ogre': 20,\n",
       "         'herc': 2,\n",
       "         'battle': 230,\n",
       "         'hydra': 2,\n",
       "         'rest': 431,\n",
       "         'case': 420,\n",
       "         'stink': 5,\n",
       "         'none': 242,\n",
       "         'remotely': 50,\n",
       "         'interesting': 638,\n",
       "         'race': 127,\n",
       "         'bland': 84,\n",
       "         'end': 1062,\n",
       "         'tie': 34,\n",
       "         'win': 112,\n",
       "         'comedy': 840,\n",
       "         'shtick': 14,\n",
       "         'awfully': 27,\n",
       "         'cloying': 5,\n",
       "         'least': 676,\n",
       "         'signs': 53,\n",
       "         'pulse': 23,\n",
       "         'fans': 245,\n",
       "         \"-'\": 3,\n",
       "         '90s': 41,\n",
       "         'tgif': 2,\n",
       "         'thrilled': 15,\n",
       "         'jaleel': 1,\n",
       "         'urkel': 2,\n",
       "         'white': 314,\n",
       "         'bronson': 20,\n",
       "         'balki': 1,\n",
       "         'pinchot': 2,\n",
       "         'sharing': 14,\n",
       "         'nicely': 98,\n",
       "         'realized': 88,\n",
       "         'though': 940,\n",
       "         'loss': 54,\n",
       "         'recall': 52,\n",
       "         'specific': 36,\n",
       "         'providing': 46,\n",
       "         'voice': 275,\n",
       "         'talent': 223,\n",
       "         'enthusiastic': 18,\n",
       "         'paired': 9,\n",
       "         'singers': 10,\n",
       "         'sound': 245,\n",
       "         'musical': 154,\n",
       "         'moments': 447,\n",
       "         'jane': 83,\n",
       "         'seymour': 8,\n",
       "         'celine': 10,\n",
       "         'dion': 2,\n",
       "         'must': 618,\n",
       "         'strain': 14,\n",
       "         'aside': 118,\n",
       "         'children': 336,\n",
       "         'probably': 539,\n",
       "         'adults': 85,\n",
       "         'grievous': 3,\n",
       "         'error': 15,\n",
       "         'lack': 237,\n",
       "         'personality': 116,\n",
       "         'learn': 172,\n",
       "         'goes': 646,\n",
       "         'synopsis': 67,\n",
       "         'mentally': 37,\n",
       "         'unstable': 15,\n",
       "         'undergoing': 3,\n",
       "         'psychotherapy': 2,\n",
       "         'saves': 43,\n",
       "         'boy': 362,\n",
       "         'potentially': 39,\n",
       "         'fatal': 39,\n",
       "         'falls': 239,\n",
       "         'love': 1119,\n",
       "         'mother': 437,\n",
       "         'fledgling': 7,\n",
       "         'restauranteur': 2,\n",
       "         'unsuccessfully': 9,\n",
       "         'attempting': 55,\n",
       "         'gain': 42,\n",
       "         'woman': 554,\n",
       "         'favor': 47,\n",
       "         'takes': 674,\n",
       "         'pictures': 117,\n",
       "         'kills': 78,\n",
       "         'comments': 53,\n",
       "         'stalked': 23,\n",
       "         'yet': 608,\n",
       "         'seemingly': 124,\n",
       "         'endless': 57,\n",
       "         'string': 39,\n",
       "         'spurned': 4,\n",
       "         'psychos': 4,\n",
       "         'getting': 406,\n",
       "         'revenge': 100,\n",
       "         'type': 214,\n",
       "         'stable': 15,\n",
       "         'category': 40,\n",
       "         '1990s': 23,\n",
       "         'industry': 87,\n",
       "         'theatrical': 61,\n",
       "         'direct': 77,\n",
       "         'proliferation': 3,\n",
       "         'may': 857,\n",
       "         'due': 196,\n",
       "         'typically': 28,\n",
       "         'inexpensive': 3,\n",
       "         'produce': 44,\n",
       "         'special': 574,\n",
       "         'effects': 649,\n",
       "         'stars': 399,\n",
       "         'serve': 79,\n",
       "         'vehicles': 25,\n",
       "         'nudity': 73,\n",
       "         'allowing': 42,\n",
       "         'frequent': 35,\n",
       "         'night': 435,\n",
       "         'cable': 49,\n",
       "         'wavers': 1,\n",
       "         'slightly': 151,\n",
       "         'norm': 26,\n",
       "         'respect': 92,\n",
       "         'psycho': 61,\n",
       "         'never': 1374,\n",
       "         'affair': 96,\n",
       "         'contrary': 27,\n",
       "         'rejected': 19,\n",
       "         'rather': 621,\n",
       "         'lover': 94,\n",
       "         'wife': 588,\n",
       "         'husband': 260,\n",
       "         'entry': 45,\n",
       "         'doomed': 29,\n",
       "         'collect': 19,\n",
       "         'dust': 21,\n",
       "         'viewed': 45,\n",
       "         'midnight': 50,\n",
       "         'provide': 126,\n",
       "         'suspense': 202,\n",
       "         'sets': 241,\n",
       "         'interspersed': 5,\n",
       "         'opening': 306,\n",
       "         'credits': 203,\n",
       "         'instance': 75,\n",
       "         'serious': 216,\n",
       "         'sounding': 34,\n",
       "         'narrator': 37,\n",
       "         'spouts': 4,\n",
       "         'statistics': 1,\n",
       "         'stalkers': 2,\n",
       "         'ponders': 7,\n",
       "         'cause': 98,\n",
       "         'stalk': 4,\n",
       "         'implicitly': 3,\n",
       "         'implied': 9,\n",
       "         'men': 532,\n",
       "         'shown': 131,\n",
       "         'snapshot': 1,\n",
       "         'actor': 546,\n",
       "         'jay': 100,\n",
       "         'underwood': 11,\n",
       "         'states': 110,\n",
       "         'daryl': 24,\n",
       "         'gleason': 2,\n",
       "         'stalker': 10,\n",
       "         'brooke': 13,\n",
       "         'daniels': 27,\n",
       "         'meant': 91,\n",
       "         'called': 391,\n",
       "         'guesswork': 1,\n",
       "         'required': 53,\n",
       "         'proceeds': 29,\n",
       "         'begins': 392,\n",
       "         'obvious': 292,\n",
       "         'sequence': 366,\n",
       "         'contrived': 77,\n",
       "         'quite': 660,\n",
       "         'brings': 202,\n",
       "         'victim': 113,\n",
       "         'together': 522,\n",
       "         'obsesses': 4,\n",
       "         'follows': 170,\n",
       "         'tries': 370,\n",
       "         'woo': 94,\n",
       "         'plans': 90,\n",
       "         'become': 511,\n",
       "         'desperate': 101,\n",
       "         'elaborate': 63,\n",
       "         'include': 110,\n",
       "         'cliche': 65,\n",
       "         'murdered': 55,\n",
       "         'pet': 40,\n",
       "         'require': 36,\n",
       "         'found': 398,\n",
       "         'exception': 102,\n",
       "         'cat': 59,\n",
       "         'shower': 31,\n",
       "         'events': 201,\n",
       "         'lead': 251,\n",
       "         'inevitable': 70,\n",
       "         'showdown': 37,\n",
       "         'survives': 20,\n",
       "         'invariably': 6,\n",
       "         'conclusion': 122,\n",
       "         'turkey': 40,\n",
       "         'uniformly': 15,\n",
       "         'adequate': 38,\n",
       "         'anything': 618,\n",
       "         'home': 550,\n",
       "         'either': 386,\n",
       "         'turns': 403,\n",
       "         'toward': 100,\n",
       "         'melodrama': 36,\n",
       "         'overdoes': 4,\n",
       "         'words': 215,\n",
       "         'manages': 248,\n",
       "         'creepy': 93,\n",
       "         'pass': 98,\n",
       "         'demands': 44,\n",
       "         'maryam': 1,\n",
       "         'abo': 3,\n",
       "         'close': 289,\n",
       "         'played': 791,\n",
       "         'bond': 155,\n",
       "         'chick': 33,\n",
       "         'living': 234,\n",
       "         'daylights': 1,\n",
       "         'equally': 110,\n",
       "         'title': 297,\n",
       "         'ditzy': 14,\n",
       "         'strong': 268,\n",
       "         'independent': 45,\n",
       "         'business': 193,\n",
       "         'owner': 99,\n",
       "         'needs': 221,\n",
       "         'proceed': 26,\n",
       "         'example': 300,\n",
       "         'suspicions': 5,\n",
       "         'ensure': 15,\n",
       "         'use': 398,\n",
       "         'excuse': 75,\n",
       "         'decides': 189,\n",
       "         'return': 195,\n",
       "         'toolbox': 2,\n",
       "         'left': 413,\n",
       "         'place': 615,\n",
       "         'house': 377,\n",
       "         'leave': 215,\n",
       "         'door': 112,\n",
       "         'answers': 58,\n",
       "         'opens': 175,\n",
       "         'wanders': 30,\n",
       "         'returns': 111,\n",
       "         'enters': 34,\n",
       "         'heroine': 56,\n",
       "         'danger': 62,\n",
       "         'somehow': 207,\n",
       "         'parked': 4,\n",
       "         'front': 135,\n",
       "         'right': 798,\n",
       "         'oblivious': 17,\n",
       "         'presence': 195,\n",
       "         'inside': 157,\n",
       "         'whole': 495,\n",
       "         'episode': 98,\n",
       "         'places': 99,\n",
       "         'incredible': 95,\n",
       "         'suspension': 19,\n",
       "         'disbelief': 48,\n",
       "         'questions': 178,\n",
       "         'validity': 2,\n",
       "         'intelligence': 125,\n",
       "         'receives': 32,\n",
       "         'highly': 136,\n",
       "         'derivative': 22,\n",
       "         'somewhat': 188,\n",
       "         'boring': 270,\n",
       "         'cannot': 147,\n",
       "         'watched': 81,\n",
       "         'rated': 146,\n",
       "         'mostly': 247,\n",
       "         'several': 419,\n",
       "         'murder': 250,\n",
       "         'brief': 140,\n",
       "         'strip': 48,\n",
       "         'bar': 74,\n",
       "         'offensive': 75,\n",
       "         'many': 1268,\n",
       "         'thrillers': 62,\n",
       "         'mood': 97,\n",
       "         'stake': 14,\n",
       "         'else': 387,\n",
       "         'capsule': 49,\n",
       "         '2176': 4,\n",
       "         'planet': 243,\n",
       "         'mars': 146,\n",
       "         'taking': 242,\n",
       "         'custody': 19,\n",
       "         'accused': 44,\n",
       "         'murderer': 42,\n",
       "         'face': 357,\n",
       "         'menace': 107,\n",
       "         'lot': 677,\n",
       "         'fighting': 101,\n",
       "         'john': 798,\n",
       "         'carpenter': 77,\n",
       "         'reprises': 12,\n",
       "         'ideas': 144,\n",
       "         'previous': 186,\n",
       "         'assault': 31,\n",
       "         'precinct': 8,\n",
       "         '13': 93,\n",
       "         'homage': 50,\n",
       "         '0': 55,\n",
       "         'believes': 80,\n",
       "         'fight': 323,\n",
       "         'horrible': 103,\n",
       "         'writer': 312,\n",
       "         'supposedly': 78,\n",
       "         'expert': 45,\n",
       "         'mistake': 69,\n",
       "         'ghosts': 45,\n",
       "         'drawn': 89,\n",
       "         'humans': 135,\n",
       "         'surprisingly': 191,\n",
       "         'low': 179,\n",
       "         'powered': 13,\n",
       "         'alien': 378,\n",
       "         'addition': 103,\n",
       "         'anybody': 44,\n",
       "         'made': 1084,\n",
       "         'grounds': 12,\n",
       "         'sue': 22,\n",
       "         'chock': 11,\n",
       "         'full': 375,\n",
       "         'pieces': 96,\n",
       "         'prince': 64,\n",
       "         'darkness': 51,\n",
       "         'surprising': 100,\n",
       "         'managed': 85,\n",
       "         'fit': 76,\n",
       "         'admittedly': 39,\n",
       "         'novel': 257,\n",
       "         'science': 235,\n",
       "         'fiction': 258,\n",
       "         'experience': 235,\n",
       "         'terraformed': 1,\n",
       "         'walk': 106,\n",
       "         'surface': 74,\n",
       "         'without': 697,\n",
       "         'breathing': 24,\n",
       "         'gear': 14,\n",
       "         'budget': 183,\n",
       "         'mentioned': 94,\n",
       "         'gravity': 20,\n",
       "         'increased': 7,\n",
       "         'earth': 317,\n",
       "         'easier': 39,\n",
       "         'society': 155,\n",
       "         'changed': 80,\n",
       "         'advanced': 26,\n",
       "         'culture': 104,\n",
       "         'women': 275,\n",
       "         'positions': 8,\n",
       "         'control': 145,\n",
       "         'view': 164,\n",
       "         'stagnated': 1,\n",
       "         'female': 143,\n",
       "         'beyond': 181,\n",
       "         'minor': 134,\n",
       "         'technological': 11,\n",
       "         'advances': 19,\n",
       "         'less': 475,\n",
       "         '175': 3,\n",
       "         ...})"
      ]
     },
     "execution_count": 35,
     "metadata": {},
     "output_type": "execute_result"
    }
   ],
   "source": [
    "word_counter"
   ]
  },
  {
   "cell_type": "markdown",
   "metadata": {},
   "source": [
    "It also has a `most_common()` method to access the words with the higher count:"
   ]
  },
  {
   "cell_type": "code",
   "execution_count": 36,
   "metadata": {},
   "outputs": [],
   "source": [
    "most_common_words = word_counter.most_common()[:10]"
   ]
  },
  {
   "cell_type": "code",
   "execution_count": 37,
   "metadata": {},
   "outputs": [
    {
     "data": {
      "text/plain": [
       "[('film', 9517),\n",
       " ('one', 5852),\n",
       " ('movie', 5771),\n",
       " ('like', 3690),\n",
       " ('even', 2565),\n",
       " ('good', 2411),\n",
       " ('time', 2411),\n",
       " ('story', 2169),\n",
       " ('would', 2109),\n",
       " ('much', 2049)]"
      ]
     },
     "execution_count": 37,
     "metadata": {},
     "output_type": "execute_result"
    }
   ],
   "source": [
    "most_common_words"
   ]
  },
  {
   "cell_type": "markdown",
   "metadata": {},
   "source": [
    "Then we would like to have a visualization of this using `matplotlib`.\n",
    "\n",
    "First we want to use the Jupyter magic function\n",
    "\n",
    "    %matplotlib inline\n",
    "    \n",
    "to setup the Notebook to show the plot embedded into the Jupyter Notebook page, you can also test:\n",
    "\n",
    "    %matplotlib notebook\n",
    "    \n",
    "for a more interactive plotting interface which however is not as well supported on all platforms and browsers."
   ]
  },
  {
   "cell_type": "code",
   "execution_count": 38,
   "metadata": {},
   "outputs": [],
   "source": [
    "%matplotlib inline\n",
    "import matplotlib.pyplot as plt"
   ]
  },
  {
   "cell_type": "markdown",
   "metadata": {},
   "source": [
    "We can sort the word counts and plot their values on Logarithmic axes to check the shape of the distribution. This visualization is particularly useful if comparing 2 or more datasets, a flatter distribution indicates a large vocabulary while a peaked distribution a restricted vocabulary often due to a focused topic or specialized language."
   ]
  },
  {
   "cell_type": "code",
   "execution_count": 39,
   "metadata": {},
   "outputs": [
    {
     "data": {
      "text/plain": [
       "dict_values([1513, 1911, 151, 27, 1113, 69, 183, 32, 105, 1949, 104, 5852, 268, 104, 218, 88, 1749, 1586, 26, 219, 603, 5771, 10, 782, 61, 451, 17, 96, 55, 208, 386, 78, 1395, 30, 992, 295, 2565, 33, 119, 768, 103, 10, 1536, 263, 175, 14, 159, 387, 409, 28, 10, 2411, 189, 602, 48, 74, 2, 17, 574, 225, 528, 32, 114, 46, 58, 293, 1906, 399, 396, 428, 12, 316, 111, 2, 97, 1037, 914, 126, 888, 131, 1859, 275, 1060, 418, 288, 835, 3690, 185, 5, 3, 1, 159, 1274, 21, 100, 852, 220, 70, 44, 566, 9, 9517, 947, 561, 45, 559, 29, 149, 228, 470, 1064, 184, 40, 1033, 560, 440, 380, 284, 644, 1642, 314, 46, 79, 19, 1558, 108, 714, 29, 19, 81, 837, 29, 535, 1693, 685, 6, 312, 1501, 568, 555, 1047, 226, 93, 435, 1206, 586, 523, 502, 4, 68, 57, 242, 147, 12, 8, 323, 655, 31, 98, 302, 82, 34, 125, 1455, 43, 1217, 316, 214, 1073, 430, 38, 54, 209, 163, 164, 1237, 5, 410, 635, 164, 127, 45, 104, 80, 480, 322, 104, 2109, 706, 795, 50, 9, 212, 362, 64, 2020, 559, 135, 1292, 21, 21, 90, 408, 225, 2, 160, 69, 53, 94, 102, 2, 216, 14, 8, 352, 423, 69, 4, 185, 216, 473, 84, 196, 3, 401, 15, 268, 127, 328, 1967, 39, 300, 846, 199, 93, 13, 776, 136, 45, 30, 60, 14, 140, 222, 115, 449, 98, 108, 439, 55, 75, 14, 190, 27, 31, 140, 215, 46, 139, 88, 4, 81, 184, 42, 266, 37, 1121, 89, 268, 206, 2411, 2169, 31, 214, 2, 733, 221, 21, 68, 29, 264, 52, 238, 227, 110, 81, 1172, 293, 77, 67, 62, 73, 222, 98, 8, 24, 41, 809, 285, 7, 648, 38, 39, 15, 903, 2, 70, 425, 27, 695, 119, 99, 164, 1020, 60, 7, 118, 915, 761, 12, 4, 45, 87, 1, 50, 62, 348, 28, 93, 269, 207, 363, 156, 2049, 4, 12, 218, 7, 11, 1, 1, 389, 238, 22, 220, 741, 392, 17, 40, 255, 216, 695, 7, 35, 16, 241, 28, 989, 385, 66, 865, 58, 163, 19, 33, 60, 70, 5, 344, 109, 134, 21, 321, 50, 208, 26, 133, 1836, 64, 255, 526, 100, 361, 39, 501, 197, 71, 910, 1333, 57, 111, 355, 836, 208, 19, 19, 239, 72, 321, 236, 24, 530, 289, 910, 804, 83, 277, 6, 48, 26, 12, 16, 92, 320, 83, 3, 119, 158, 66, 8, 14, 24, 752, 8, 99, 1396, 158, 319, 493, 382, 273, 31, 118, 5, 705, 743, 769, 51, 69, 148, 243, 14, 182, 103, 10, 180, 151, 77, 23, 22, 103, 100, 106, 22, 587, 565, 133, 519, 94, 409, 248, 182, 47, 304, 101, 28, 4, 88, 9, 20, 35, 456, 19, 94, 805, 222, 147, 13, 378, 116, 25, 568, 7, 147, 184, 11, 92, 46, 55, 34, 7, 132, 339, 91, 25, 69, 11, 48, 24, 230, 98, 102, 179, 70, 9, 290, 88, 41, 51, 437, 29, 211, 2, 18, 843, 239, 54, 49, 28, 121, 111, 22, 16, 32, 51, 4, 71, 148, 15, 112, 244, 142, 886, 24, 37, 92, 19, 74, 1815, 11, 88, 212, 307, 134, 52, 53, 159, 43, 4, 57, 1, 1, 303, 317, 2, 37, 256, 45, 49, 53, 164, 185, 492, 17, 223, 429, 3, 1, 77, 33, 165, 195, 59, 51, 44, 3, 57, 85, 81, 4, 52, 45, 537, 12, 44, 2, 2, 9, 13, 6, 75, 56, 64, 23, 4, 17, 339, 17, 14, 102, 32, 341, 90, 4, 34, 150, 138, 16, 624, 24, 2, 1061, 53, 66, 3, 41, 30, 119, 7, 4, 104, 41, 354, 89, 20, 2, 230, 2, 431, 420, 5, 242, 50, 638, 127, 84, 1062, 34, 112, 840, 14, 27, 5, 676, 53, 23, 245, 3, 41, 2, 15, 1, 2, 314, 20, 1, 2, 14, 98, 88, 940, 54, 52, 36, 46, 275, 223, 18, 9, 10, 245, 154, 447, 83, 8, 10, 2, 618, 14, 118, 336, 539, 85, 3, 15, 237, 116, 172, 646, 67, 37, 15, 3, 2, 43, 362, 39, 39, 239, 1119, 437, 7, 2, 9, 55, 42, 554, 47, 674, 117, 78, 53, 23, 608, 124, 57, 39, 4, 4, 406, 100, 214, 15, 40, 23, 87, 61, 77, 3, 857, 196, 28, 3, 44, 574, 649, 399, 79, 25, 73, 42, 35, 435, 49, 1, 151, 26, 92, 61, 1374, 96, 27, 19, 621, 94, 588, 260, 45, 29, 19, 21, 45, 50, 126, 202, 241, 5, 306, 203, 75, 216, 34, 37, 4, 1, 2, 7, 98, 4, 3, 9, 532, 131, 1, 546, 100, 11, 110, 24, 2, 10, 13, 27, 91, 391, 1, 53, 29, 392, 292, 366, 77, 660, 202, 113, 522, 4, 170, 370, 94, 90, 511, 101, 63, 110, 65, 55, 40, 36, 398, 102, 59, 31, 201, 251, 70, 37, 20, 6, 122, 40, 15, 38, 618, 550, 386, 403, 100, 36, 4, 215, 248, 93, 98, 44, 1, 3, 289, 791, 155, 33, 234, 1, 110, 297, 14, 268, 45, 193, 99, 221, 26, 300, 5, 15, 398, 75, 189, 195, 2, 413, 615, 377, 215, 112, 58, 175, 30, 111, 34, 56, 62, 207, 4, 135, 798, 17, 195, 157, 495, 98, 99, 95, 19, 48, 178, 2, 125, 32, 136, 22, 188, 270, 147, 81, 146, 247, 419, 250, 140, 48, 74, 75, 1268, 62, 97, 14, 387, 49, 4, 243, 146, 242, 19, 44, 42, 357, 107, 677, 101, 798, 77, 12, 144, 186, 31, 8, 93, 50, 55, 80, 323, 103, 312, 78, 45, 69, 45, 89, 135, 191, 179, 13, 378, 103, 44, 1084, 12, 22, 11, 375, 96, 64, 51, 100, 85, 76, 39, 257, 235, 258, 235, 1, 106, 74, 697, 24, 14, 183, 94, 20, 7, 317, 39, 155, 80, 26, 104, 275, 8, 145, 164, 1, 143, 181, 134, 11, 19, 475, 3, 216, 208, 159, 124, 130, 216, 256, 51, 9, 3, 25, 32, 27, 88, 1, 60, 6, 208, 22, 4, 11, 54, 180, 12, 112, 62, 432, 8, 5, 84, 212, 53, 142, 101, 820, 18, 197, 18, 523, 182, 1397, 112, 8, 146, 103, 12, 62, 103, 443, 55, 10, 192, 123, 98, 116, 174, 56, 69, 10, 174, 175, 71, 106, 53, 80, 1148, 12, 7, 52, 3, 69, 310, 53, 218, 213, 11, 21, 922, 107, 77, 180, 57, 155, 16, 289, 28, 100, 143, 43, 78, 1, 11, 10, 133, 55, 117, 1, 19, 38, 26, 18, 20, 7, 32, 404, 1, 11, 77, 6, 61, 268, 284, 28, 54, 23, 72, 41, 41, 19, 200, 30, 323, 9, 67, 2, 218, 333, 70, 57, 145, 203, 211, 285, 93, 24, 10, 3, 138, 50, 9, 294, 53, 246, 4, 70, 61, 533, 14, 303, 849, 350, 9, 140, 309, 12, 86, 43, 34, 82, 143, 242, 30, 79, 282, 117, 161, 31, 270, 43, 57, 58, 11, 15, 28, 217, 28, 82, 4, 452, 27, 4, 26, 13, 2, 71, 46, 222, 91, 37, 5, 33, 54, 10, 59, 68, 228, 105, 164, 243, 19, 119, 2, 1, 1, 5, 3, 8, 96, 32, 10, 59, 76, 21, 27, 3, 71, 39, 270, 2, 3, 6, 6, 164, 18, 39, 138, 11, 66, 321, 32, 68, 31, 90, 566, 92, 5, 26, 382, 12, 27, 635, 111, 19, 1, 147, 43, 113, 12, 13, 184, 40, 192, 2, 135, 43, 32, 159, 74, 63, 7, 297, 176, 60, 225, 110, 143, 329, 30, 81, 169, 5, 11, 476, 6, 20, 53, 189, 67, 78, 186, 128, 183, 2, 38, 16, 73, 3, 42, 268, 10, 73, 69, 11, 53, 41, 69, 7, 133, 7, 4, 49, 3, 51, 2, 19, 54, 47, 30, 11, 58, 410, 186, 272, 27, 27, 2, 1427, 22, 88, 198, 85, 9, 5, 147, 81, 21, 152, 95, 91, 129, 1, 15, 108, 12, 253, 273, 17, 484, 11, 191, 337, 177, 58, 1, 2, 253, 12, 49, 56, 347, 409, 98, 121, 1, 840, 30, 7, 11, 14, 69, 21, 105, 118, 102, 31, 4, 29, 5, 95, 142, 3, 10, 18, 119, 134, 30, 1, 12, 2, 150, 870, 58, 664, 1, 23, 802, 1, 1, 157, 3, 28, 905, 1, 77, 3, 97, 29, 15, 74, 117, 90, 40, 8, 3, 4, 21, 98, 124, 29, 235, 94, 101, 106, 218, 1, 424, 15, 60, 70, 512, 3, 72, 150, 36, 214, 127, 121, 84, 19, 18, 11, 14, 26, 1, 60, 55, 200, 3, 3, 27, 2, 111, 143, 26, 9, 10, 39, 60, 22, 24, 9, 35, 2, 70, 251, 48, 91, 9, 38, 55, 36, 2, 35, 16, 12, 13, 18, 25, 6, 7, 15, 12, 11, 5, 9, 4, 4, 47, 4, 9, 12, 23, 11, 24, 6, 78, 67, 20, 53, 60, 102, 336, 361, 1, 89, 65, 94, 91, 163, 22, 3, 59, 2, 2, 62, 5, 9, 214, 3, 12, 17, 28, 61, 33, 1, 3, 12, 2, 190, 6, 6, 5, 15, 99, 410, 53, 14, 9, 16, 257, 1, 8, 68, 5, 1, 13, 1, 1, 4, 548, 17, 12, 106, 5, 1, 1, 4, 135, 3, 190, 1, 31, 75, 87, 3, 312, 336, 19, 38, 1, 77, 2, 36, 44, 28, 47, 104, 13, 129, 2, 28, 872, 44, 183, 464, 22, 431, 19, 77, 140, 7, 2, 77, 45, 199, 95, 19, 16, 34, 200, 1, 16, 31, 3, 3, 38, 241, 345, 73, 39, 148, 214, 57, 65, 2, 26, 49, 24, 4, 71, 64, 3, 3, 40, 104, 58, 7, 9, 4, 14, 174, 886, 97, 55, 2, 63, 7, 9, 99, 5, 27, 34, 1, 25, 10, 62, 20, 27, 10, 15, 41, 184, 3, 24, 71, 24, 21, 32, 3, 1, 1, 7, 15, 1, 90, 5, 84, 777, 64, 39, 5, 10, 44, 72, 176, 7, 50, 111, 67, 21, 48, 13, 86, 10, 151, 177, 9, 3, 3, 23, 54, 283, 128, 136, 214, 156, 47, 8, 18, 20, 17, 93, 372, 6, 1, 2, 1, 712, 97, 125, 458, 4, 21, 24, 211, 3, 292, 220, 58, 66, 13, 19, 8, 27, 1, 9, 25, 2, 8, 219, 76, 75, 177, 50, 49, 112, 135, 106, 4, 39, 248, 6, 168, 9, 157, 688, 283, 254, 3, 15, 79, 2, 6, 6, 3, 29, 4, 7, 215, 362, 52, 99, 9, 6, 19, 167, 8, 38, 55, 58, 25, 78, 14, 364, 82, 100, 11, 20, 19, 11, 393, 84, 5, 154, 14, 1, 206, 2, 12, 14, 36, 8, 59, 256, 29, 31, 3, 1, 584, 18, 19, 54, 58, 411, 24, 18, 87, 4, 3, 66, 82, 51, 1, 8, 128, 295, 7, 265, 12, 8, 3, 16, 34, 6, 4, 93, 346, 6, 73, 2, 110, 18, 429, 22, 63, 102, 6, 161, 38, 8, 156, 11, 21, 78, 89, 25, 56, 74, 52, 205, 12, 11, 45, 237, 9, 4, 417, 19, 1, 263, 2, 20, 78, 51, 359, 227, 13, 56, 6, 9, 21, 176, 73, 6, 40, 86, 18, 7, 25, 1, 17, 1, 103, 157, 163, 5, 46, 14, 6, 45, 2, 11, 99, 5, 32, 4, 14, 16, 149, 31, 59, 6, 216, 14, 9, 12, 25, 396, 31, 284, 94, 327, 166, 8, 105, 3, 65, 119, 131, 1, 3, 5, 169, 20, 6, 77, 3, 191, 9, 21, 69, 82, 14, 32, 3, 52, 7, 4, 468, 3, 23, 101, 123, 2, 5, 186, 2, 17, 4, 22, 82, 11, 101, 172, 171, 136, 1, 73, 10, 120, 71, 18, 10, 65, 5, 31, 162, 42, 72, 18, 208, 4, 16, 33, 12, 21, 6, 7, 101, 1, 118, 23, 44, 3, 1, 177, 89, 16, 2, 114, 46, 58, 2, 359, 4, 76, 21, 74, 20, 62, 14, 5, 17, 5, 1, 2, 74, 28, 6, 436, 194, 59, 37, 37, 16, 25, 27, 292, 239, 37, 16, 3, 13, 325, 28, 8, 8, 50, 50, 8, 27, 4, 25, 12, 244, 66, 5, 33, 2, 17, 29, 231, 1, 39, 12, 1, 29, 57, 2, 93, 31, 4, 140, 178, 12, 26, 1, 123, 25, 19, 49, 112, 62, 12, 11, 39, 370, 4, 278, 12, 46, 80, 23, 32, 427, 151, 13, 61, 9, 13, 78, 9, 3, 71, 41, 197, 154, 89, 5, 54, 9, 1, 29, 8, 2, 15, 23, 47, 2, 13, 16, 18, 453, 47, 26, 30, 37, 40, 3, 2, 29, 652, 41, 20, 15, 21, 402, 116, 353, 475, 10, 50, 28, 75, 86, 266, 6, 1, 254, 8, 103, 36, 100, 236, 258, 16, 133, 57, 43, 32, 130, 388, 18, 18, 163, 27, 186, 31, 22, 253, 4, 134, 20, 6, 15, 37, 39, 103, 99, 23, 3, 38, 15, 2, 47, 54, 8, 246, 7, 1, 8, 1, 23, 32, 4, 26, 31, 86, 41, 17, 178, 28, 352, 88, 15, 53, 778, 22, 39, 4, 21, 98, 1, 2, 93, 292, 101, 116, 101, 354, 98, 45, 17, 6, 43, 8, 8, 34, 41, 2, 2, 3, 44, 221, 17, 74, 237, 86, 66, 302, 94, 17, 143, 1, 114, 151, 237, 9, 111, 65, 16, 27, 204, 284, 25, 46, 14, 7, 343, 7, 41, 63, 83, 27, 215, 12, 17, 6, 91, 19, 7, 19, 8, 291, 1, 7, 3, 140, 5, 4, 46, 5, 3, 3, 142, 7, 10, 21, 127, 1, 183, 4, 232, 3, 4, 1, 1, 6, 133, 63, 1, 27, 4, 122, 46, 261, 10, 159, 25, 17, 55, 14, 137, 201, 176, 49, 57, 58, 43, 4, 24, 130, 22, 80, 187, 560, 7, 16, 49, 4, 6, 157, 4, 8, 1, 3, 7, 2, 2, 3, 7, 20, 26, 36, 22, 8, 23, 53, 43, 16, 11, 1, 3, 1, 1, 52, 1, 4, 7, 132, 4, 42, 10, 18, 105, 92, 4, 4, 18, 15, 158, 69, 69, 63, 88, 89, 6, 124, 82, 13, 17, 4, 49, 7, 39, 5, 9, 17, 120, 14, 7, 16, 325, 106, 110, 123, 8, 306, 1, 17, 1, 44, 166, 11, 49, 27, 37, 14, 216, 178, 208, 52, 29, 5, 19, 3, 240, 152, 63, 102, 19, 18, 17, 6, 193, 90, 83, 413, 98, 3, 274, 50, 4, 7, 104, 4, 48, 97, 83, 5, 308, 7, 429, 5, 2, 7, 114, 24, 77, 7, 105, 3, 1, 102, 126, 152, 52, 2, 146, 13, 12, 9, 110, 18, 2, 330, 21, 18, 12, 5, 19, 1, 1, 31, 4, 7, 1, 1, 131, 90, 2, 12, 245, 4, 141, 117, 1, 29, 4, 277, 126, 130, 5, 18, 1, 16, 186, 142, 10, 48, 6, 243, 9, 60, 111, 23, 8, 33, 6, 306, 7, 50, 1, 1, 2, 3, 10, 227, 23, 116, 8, 4, 1, 34, 34, 70, 6, 5, 18, 112, 1, 67, 157, 10, 9, 24, 29, 1, 12, 360, 196, 61, 14, 2, 2, 20, 10, 22, 28, 26, 2, 54, 16, 57, 61, 77, 28, 3, 15, 189, 15, 9, 83, 70, 31, 14, 2, 27, 217, 1, 131, 24, 65, 5, 1, 5, 39, 61, 19, 1, 128, 23, 37, 138, 113, 40, 11, 72, 123, 14, 27, 1, 29, 426, 15, 49, 10, 3, 10, 11, 48, 241, 128, 2, 179, 264, 83, 183, 11, 21, 32, 16, 36, 92, 200, 1, 1, 1, 10, 107, 22, 44, 11, 9, 14, 3, 3, 8, 3, 24, 32, 5, 1, 14, 11, 4, 2, 3, 8, 34, 25, 2, 48, 45, 90, 102, 2, 117, 6, 2, 401, 52, 66, 18, 13, 3, 93, 17, 42, 362, 42, 39, 37, 247, 38, 29, 85, 41, 188, 12, 11, 2, 153, 214, 33, 82, 61, 8, 114, 17, 77, 5, 10, 10, 6, 41, 137, 7, 41, 225, 7, 11, 59, 10, 7, 70, 22, 23, 4, 13, 1, 1, 131, 25, 4, 5, 10, 197, 6, 5, 6, 12, 48, 6, 29, 6, 14, 27, 1, 6, 122, 2, 26, 48, 88, 57, 16, 57, 226, 62, 101, 33, 60, 610, 1, 1, 25, 44, 19, 21, 270, 153, 22, 30, 183, 184, 51, 144, 145, 8, 68, 62, 45, 20, 299, 58, 114, 70, 177, 15, 56, 26, 198, 178, 26, 83, 48, 2, 170, 234, 79, 32, 1, 15, 16, 3, 75, 1, 242, 10, 32, 19, 46, 4, 164, 84, 16, 17, 33, 5, 127, 9, 12, 2, 200, 99, 49, 2, 7, 139, 81, 11, 91, 117, 22, 10, 26, 282, 216, 43, 30, 6, 23, 108, 1, 106, 92, 38, 111, 44, 137, 5, 49, 98, 70, 235, 5, 134, 1, 1, 32, 11, 97, 35, 12, 5, 15, 1, 33, 85, 128, 7, 18, 186, 29, 3, 84, 154, 52, 184, 267, 25, 21, 107, 257, 3, 123, 16, 85, 29, 105, 25, 125, 3, 54, 1, 70, 5, 66, 32, 78, 47, 10, 12, 18, 1, 3, 2, 53, 3, 57, 216, 40, 12, 5, 93, 240, 15, 88, 59, 31, 7, 24, 10, 2, 200, 273, 84, 3, 72, 7, 1, 185, 9, 27, 15, 87, 13, 127, 15, 284, 4, 6, 3, 8, 36, 30, 30, 17, 18, 73, 2, 40, 556, 24, 51, 127, 36, 173, 57, 32, 194, 4, 19, 4, 11, 127, 142, 12, 8, 10, 19, 285, 30, 17, 88, 507, 9, 9, 9, 10, 23, 58, 1, 11, 187, 80, 25, 64, 14, 48, 163, 19, 4, 5, 12, 43, 6, 4, 5, 80, 7, 477, 109, 120, 32, 50, 2, 105, 119, 144, 28, 33, 21, 165, 32, 9, 26, 190, 44, 16, 45, 24, 36, 70, 53, 1, 2, 15, 137, 10, 11, 12, 17, 11, 48, 13, 157, 186, 8, 395, 5, 27, 47, 321, 3, 31, 17, 26, 27, 3, 15, 2, 82, 53, 19, 71, 3, 8, 42, 83, 59, 20, 60, 9, 2, 76, 3, 133, 14, 14, 211, 18, 195, 16, 89, 4, 36, 3, 19, 26, 35, 16, 22, 377, 59, 38, 5, 41, 176, 55, 3, 11, 179, 42, 112, 72, 67, 5, 6, 2, 149, 8, 10, 4, 33, 38, 2, 21, 31, 2, 155, 62, 82, 23, 18, 231, 192, 154, 57, 48, 12, 177, 4, 67, 63, 175, 82, 73, 26, 159, 9, 13, 68, 5, 50, 119, 9, 11, 123, 5, 101, 177, 3, 22, 76, 16, 5, 149, 18, 18, 118, 108, 7, 35, 254, 12, 46, 5, 9, 23, 43, 61, 46, 103, 142, 3, 62, 12, 22, 28, 4, 1, 1, 1, 47, 166, 121, 8, 18, 20, 49, 219, 36, 18, 6, 1, 3, 3, 12, 61, 72, 50, 4, 47, 60, 48, 25, 2, 28, 7, 31, 2, 65, 3, 14, 12, 10, 134, 73, 24, 5, 105, 65, 44, 22, 15, 10, 6, 12, 33, 39, 56, 10, 18, 24, 25, 60, 34, 2, 34, 17, 2, 11, 75, 124, 72, 9, 3, 8, 1, 7, 12, 61, 2, 10, 32, 4, 20, 13, 72, 4, 17, 49, 3, 123, 108, 1, 13, 334, 389, 29, 72, 62, 82, 68, 15, 103, 58, 23, 55, 200, 3, 28, 115, 181, 2, 11, 4, 229, 9, 61, 171, 1, 122, 33, 6, 80, 70, 35, 16, 28, 79, 3, 3, 62, 45, 29, 13, 16, 40, 22, 10, 72, 4, 5, 88, 7, 163, 11, 27, 30, 13, 45, 35, 138, 42, 41, 1, 123, 25, 53, 12, 11, 4, 109, 59, 2, 7, 54, 22, 26, 29, 15, 77, 13, 46, 36, 10, 1, 41, 6, 2, 41, 32, 42, 16, 5, 39, 1, 19, 171, 9, 33, 16, 30, 63, 3, 43, 18, 14, 19, 5, 14, 38, 36, 159, 24, 291, 18, 14, 102, 14, 24, 34, 39, 3, 2, 123, 3, 14, 114, 42, 10, 1, 1, 4, 89, 198, 33, 3, 4, 43, 9, 35, 13, 55, 2, 115, 28, 2, 77, 169, 28, 7, 52, 11, 459, 22, 7, 12, 137, 120, 120, 50, 107, 39, 45, 9, 49, 5, 8, 18, 94, 31, 11, 278, 7, 283, 148, 45, 7, 53, 88, 326, 36, 44, 18, 10, 11, 43, 21, 13, 23, 27, 40, 179, 32, 52, 29, 51, 37, 33, 17, 143, 19, 15, 50, 77, 4, 21, 55, 72, 86, 4, 166, 14, 91, 51, 37, 79, 50, 38, 14, 28, 15, 7, 6, 16, 11, 6, 1, 98, 59, 39, 56, 1, 12, 82, 73, 2, 6, 4, 21, 14, 16, 3, 6, 6, 15, 21, 127, 57, 4, 47, 63, 2, 38, 123, 7, 9, 11, 29, 28, 22, 11, 32, 28, 47, 101, 5, 1, 8, 27, 9, 46, 35, 16, 8, 28, 164, 19, 90, 3, 126, 30, 59, 14, 11, 14, 19, 2, 35, 5, 50, 68, 10, 198, 7, 66, 34, 34, 31, 38, 3, 7, 10, 4, 4, 1, 37, 65, 3, 140, 10, 34, 27, 3, 53, 93, 54, 1, 17, 52, 93, 79, 12, 40, 9, 16, 283, 25, 140, 115, 33, 16, 11, 9, 34, 38, 81, 2, 239, 35, 1, 60, 16, 58, 3, 128, 1, 2, 8, 36, 21, 1, 31, 9, 7, 3, 1, 2, 5, 72, 53, 10, 43, 7, 24, 2, 93, 12, 3, 6, 4, 9, 3, 63, 58, 7, 14, 20, 137, 5, 55, 2, 24, 102, 22, 4, 2, 35, 59, 7, 38, 3, 3, 16, 4, 19, 2, 75, 4, 23, 14, 25, 29, 55, 21, 2, 5, 10, 139, 23, 2, 4, 40, 1, 9, 32, 21, 11, 17, 27, 3, 14, 8, 80, 1, 39, 9, 15, 33, 27, 8, 8, 4, 19, 119, 1, 3, 3, 2, 1, 2, 12, 4, 24, 8, 79, 1, 60, 2, 26, 71, 107, 156, 5, 16, 1, 12, 3, 38, 2, 15, 10, 89, 258, 5, 10, 36, 3, 75, 8, 1, 1, 16, 2, 2, 14, 9, 21, 7, 46, 44, 6, 7, 12, 161, 5, 1, 29, 1, 6, 69, 1, 10, 1, 4, 4, 2, 18, 11, 26, 3, 4, 82, 82, 48, 14, 2, 3, 35, 61, 8, 22, 4, 15, 176, 134, 3, 12, 3, 3, 90, 9, 32, 3, 3, 5, 1, 43, 16, 4, 1, 166, 2, 22, 22, 6, 90, 42, 6, 2, 8, 44, 5, 4, 61, 61, 36, 30, 2, 10, 24, 2, 11, 73, 91, 1, 10, 50, 9, 35, 10, 21, 1, 5, 58, 8, 13, 121, 185, 5, 9, 70, 43, 34, 15, 209, 2, 60, 8, 107, 126, 2, 70, 137, 38, 31, 13, 100, 20, 76, 2, 103, 43, 17, 35, 1, 101, 30, 5, 178, 6, 3, 3, 5, 8, 49, 22, 3, 8, 33, 12, 18, 89, 3, 485, 200, 3, 16, 87, 1, 215, 125, 154, 45, 31, 92, 149, 2, 14, 48, 1, 9, 5, 211, 90, 18, 16, 20, 1, 57, 30, 13, 2, 5, 23, 2, 46, 8, 33, 2, 27, 12, 52, 9, 35, 15, 179, 6, 52, 68, 16, 2, 107, 4, 32, 30, 22, 74, 14, 27, 21, 37, 15, 16, 44, 125, 96, 1, 6, 4, 4, 1, 3, 9, 1, 18, 6, 16, 69, 1, 4, 13, 19, 31, 68, 8, 6, 15, 7, 76, 7, 2, 92, 22, 2, 276, 6, 3, 19, 25, 2, 37, 14, 73, 3, 85, 56, 56, 2, 13, 46, 14, 2, 32, 21, 26, 5, 12, 262, 4, 10, 47, 50, 2, 10, 26, 10, 5, 57, 21, 24, 19, 6, 3, 55, 7, 297, 7, 1, 2, 11, 36, 102, 4, 16, 30, 33, 4, 29, 5, 1, 25, 36, 1, 1, 1, 14, 4, 12, 39, 39, 9, 12, 68, 20, 56, 183, 19, 36, 48, 94, 17, 6, 21, 1, 1, 3, 41, 50, 79, 14, 128, 9, 199, 92, 30, 7, 18, 2, 9, 9, 3, 7, 2, 1, 4, 1, 12, 95, 22, 161, 79, 37, 42, 24, 76, 75, 22, 123, 9, 32, 83, 6, 58, 17, 51, 26, 4, 180, 3, 3, 1, 14, 18, 50, 42, 11, 1, 1, 14, 21, 5, 13, 37, 45, 210, 42, 3, 9, 2, 4, 1, 33, 94, 64, 20, 48, 135, 23, 71, 27, 35, 13, 11, 3, 3, 31, 41, 34, 1, 5, 7, 13, 38, 6, 6, 24, 38, 143, 2, 194, 10, 19, 3, 19, 15, 3, 2, 4, 19, 24, 6, 17, 1, 16, 33, 3, 53, 93, 45, 148, 31, 85, 13, 30, 9, 2, 108, 68, 35, 186, 30, 6, 2, 3, 21, 3, 15, 19, 5, 121, 72, 56, 58, 17, 42, 2, 13, 106, 1, 2, 2, 124, 4, 5, 57, 43, 1, 11, 20, 20, 12, 51, 2, 73, 136, 7, 6, 30, 24, 9, 7, 29, 1, 4, 27, 3, 7, 1, 55, 11, 3, 14, 1, 13, 1, 9, 21, 2, 1, 2, 1, 65, 17, 26, 3, 8, 1, 5, 207, 84, 1, 7, 1, 7, 244, 64, 46, 17, 6, 2, 10, 110, 16, 2, 39, 19, 41, 3, 3, 2, 2, 21, 18, 17, 7, 1, 1, 50, 52, 2, 1, 11, 1, 236, 10, 10, 4, 25, 1, 1, 33, 65, 6, 23, 1, 1, 1, 5, 1, 13, 30, 4, 108, 4, 5, 39, 1, 5, 11, 46, 21, 6, 1, 7, 10, 39, 12, 83, 1, 27, 11, 13, 55, 59, 12, 5, 2, 4, 10, 10, 20, 18, 7, 117, 10, 33, 46, 6, 19, 41, 4, 79, 159, 107, 1, 3, 68, 23, 76, 83, 2, 117, 26, 8, 3, 3, 2, 18, 20, 6, 10, 126, 21, 44, 9, 18, 9, 25, 3, 76, 51, 24, 46, 11, 56, 8, 6, 31, 6, 18, 1, 31, 9, 98, 94, 9, 30, 60, 56, 24, 17, 5, 13, 132, 17, 110, 19, 4, 45, 59, 39, 79, 20, 73, 58, 9, 6, 35, 44, 37, 145, 47, 111, 103, 8, 34, 64, 100, 35, 60, 19, 3, 13, 3, 44, 16, 66, 28, 6, 12, 39, 7, 35, 64, 16, 6, 65, 59, 1, 10, 35, 33, 4, 3, 19, 1, 4, 15, 3, 6, 1, 1, 2, 8, 7, 4, 70, 4, 1, 1, 132, 27, 3, 24, 86, 3, 25, 51, 3, 22, 14, 33, 88, 2, 5, 84, 69, 2, 96, 3, 7, 3, 2, 1, 30, 75, 5, 19, 16, 3, 3, 28, 8, 1, 17, 14, 114, 59, 3, 134, 13, 32, 1, 15, 24, 84, 7, 52, 4, 1, 4, 1, 1, 15, 1, 48, 28, 16, 5, 40, 9, 14, 15, 1, 39, 103, 35, 184, 1, 58, 6, 4, 24, 15, 6, 7, 20, 60, 53, 77, 184, 96, 1, 2, 15, 18, 143, 2, 25, 27, 1, 17, 7, 10, 8, 81, 14, 142, 1, 3, 7, 19, 16, 29, 13, 64, 2, 12, 9, 64, 12, 46, 8, 13, 29, 4, 25, 1, 18, 5, 55, 103, 21, 5, 65, 23, 201, 3, 137, 2, 13, 10, 6, 2, 17, 5, 8, 12, 20, 24, 369, 14, 38, 24, 13, 27, 1, 74, 3, 1, 84, 28, 59, 22, 194, 35, 18, 4, 15, 5, 2, 18, 72, 52, 40, 35, 3, 2, 44, 5, 1, 86, 2, 1, 4, 16, 2, 4, 24, 1, 48, 4, 25, 1, 14, 1, 26, 4, 50, 9, 2, 4, 5, 4, 24, 6, 1, 68, 3, 12, 1, 1, 32, 152, 3, 24, 2, 26, 3, 73, 6, 27, 71, 106, 11, 23, 138, 25, 11, 94, 8, 35, 43, 59, 81, 21, 14, 11, 32, 132, 89, 6, 38, 20, 48, 1, 1, 4, 39, 13, 13, 24, 10, 2, 34, 19, 2, 27, 1, 19, 5, 1, 136, 1, 82, 9, 44, 84, 8, 9, 29, 115, 10, 166, 3, 2, 83, 3, 7, 1, 94, 17, 88, 13, 74, 70, 35, 45, 45, 19, 1, 67, 1, 2, 30, 2, 53, 43, 78, 50, 11, 57, 76, 35, 4, 4, 40, 72, 3, 92, 48, 9, 20, 18, 34, 56, 28, 84, 71, 18, 6, 2, 82, 45, 24, 1, 35, 1, 134, 1, 1, 56, 11, 12, 20, 16, 1, 6, 15, 19, 53, 26, 12, 13, 2, 11, 18, 8, 2, 74, 1, 59, 64, 35, 86, 14, 5, 1, 11, 33, 7, 4, 15, 165, 26, 3, 4, 3, 5, 1, 54, 3, 6, 48, 45, 7, 66, 77, 26, 5, 40, 68, 1, 17, 11, 40, 40, 27, 29, 82, 37, 1, 14, 24, 1, 1, 9, 52, 3, 84, 47, 161, 12, 77, 96, 10, 7, 1, 36, 86, 24, 10, 2, 37, 4, 5, 9, 21, 7, 6, 67, 6, 35, 20, 2, 1, 1, 4, 30, 60, 7, 50, 40, 4, 19, 10, 10, 10, 9, 40, 14, 7, 2, 1, 42, 7, 4, 10, 25, 2, 142, 20, 15, 11, 47, 11, 4, 16, 52, 5, 7, 122, 5, 35, 6, 2, 14, 4, 9, 6, 48, 27, 6, 33, 38, 47, 5, 12, 4, 3, 7, 13, 11, 2, 42, 16, 78, 65, 1, 17, 9, 28, 1, 6, 29, 11, 135, 66, 56, 1, 2, 49, 36, 36, 20, 3, 2, 5, 6, 1, 17, 13, 33, 1, 5, 107, 100, 72, 3, 24, 55, 43, 3, 34, 14, 37, 12, 2, 1, 1, 43, 6, 37, 51, 32, 1, 12, 6, 2, 1, 10, 213, 2, 14, 1, 5, 3, 27, 4, 17, 15, 5, 2, 19, 44, 164, 5, 6, 8, 79, 6, 4, 1, 12, 5, 1, 2, 1, 41, 16, 56, 50, 43, 46, 8, 4, 6, 1, 20, 1, 157, 104, 11, 52, 4, 20, 30, 17, 7, 3, 4, 11, 31, 82, 11, 69, 188, 2, 4, 9, 67, 49, 10, 115, 47, 12, 6, 4, 18, 1, 55, 41, 5, 77, 6, 5, 5, 82, 3, 16, 17, 83, 37, 6, 7, 41, 18, 3, 98, 25, 44, 8, 11, 7, 13, 29, 32, 10, 3, 8, 72, 15, 19, 49, 62, 1, 16, 8, 8, 41, 6, 1, 31, 9, 2, 1, 13, 10, 97, 1, 1, 44, 85, 6, 16, 12, 41, 4, 24, 83, 167, 4, 27, 38, 28, 2, 46, 14, 13, 33, 18, 38, 20, 7, 60, 26, 1, 35, 91, 10, 122, 69, 3, 2, 86, 15, 4, 2, 106, 3, 12, 27, 17, 63, 48, 27, 85, 13, 21, 13, 1, 1, 81, 86, 47, 16, 2, 2, 1, 27, 7, 1, 1, 20, 51, 22, 1, 30, 115, 3, 1, 8, 16, 8, 18, 1, 6, 5, 17, 16, 2, 2, 5, 4, 15, 11, 101, 11, 103, 1, 7, 7, 13, 4, 8, 6, 28, 11, 9, 4, 2, 9, 32, 25, 1, 88, 6, 14, 2, 2, 45, 3, 2, 35, 10, 13, 5, 32, 10, 6, 1, 96, 2, 1, 1, 8, 66, 33, 57, 51, 31, 78, 8, 3, 4, 2, 2, 49, 26, 4, 17, 2, 9, 12, 14, 16, 12, 8, 2, 1, 11, 125, 16, 31, 64, 1, 100, 8, 18, 1, 55, 12, 1, 2, 13, 18, 3, 16, 63, 34, 4, 1, 17, 1, 40, 48, 25, 57, 3, 86, 2, 19, 88, 104, 7, 42, 11, 4, 34, 4, 80, 67, 18, 6, 26, 70, 18, 2, 29, 4, 3, 12, 1, 23, 8, 12, 8, 26, 12, 30, 46, 40, 40, 71, 26, 1, 70, 26, 40, 35, 3, 1, 1, 1, 1, 6, 19, 31, 45, 28, 2, 7, 24, 7, 5, 130, 86, 19, 33, 10, 20, 15, 8, 34, 17, 40, 16, 25, 46, 25, 27, 61, 31, 47, 38, 23, 4, 2, 11, 32, 135, 14, 1, 16, 4, 14, 15, 33, 58, 32, 13, 21, 1, 1, 95, 14, 15, 76, 80, 30, 37, 5, 6, 16, 57, 20, 22, 1, 5, 6, 23, 29, 13, 37, 127, 17, 107, 5, 17, 1, 3, 17, 15, 60, 6, 30, 31, 20, 20, 53, 26, 14, 37, 69, 120, 10, 82, 2, 8, 214, 7, 27, 14, 141, 3, 1, 8, 9, 2, 45, 35, 33, 3, 1, 21, 22, 17, 56, 15, 12, 19, 35, 13, 18, 31, 36, 11, 34, 13, 12, 45, 3, 12, 10, 4, 124, 132, 7, 110, 2, 2, 39, 11, 34, 47, 8, 175, 8, 50, 16, 4, 48, 4, 29, 18, 10, 11, 1, 37, 4, 1, 1, 4, 16, 1, 17, 66, 45, 51, 54, 42, 68, 1, 126, 22, 47, 1, 37, 3, 17, 57, 4, 4, 3, 20, 4, 1, 9, 10, 25, 116, 5, 21, 6, 1, 11, 23, 1, 6, 6, 4, 160, 16, 34, 18, 28, 2, 44, 2, 104, 11, 43, 5, 9, 32, 9, 6, 27, 4, 125, 109, 3, 18, 88, 2, 2, 1, 17, 39, 2, 6, 15, 27, 68, 33, 7, 48, 13, 144, 6, 67, 28, 1, 1, 19, 19, 10, 2, 10, 13, 20, 19, 85, 1, 16, 52, 55, 34, 1, 117, 1, 1, 1, 19, 1, 1, 22, 2, 2, 14, 26, 61, 21, 3, 45, 52, 9, 2, 7, 1, 14, 115, 103, 3, 10, 57, 8, 28, 7, 3, 25, 10, 13, 12, 5, 2, 1, 16, 4, 14, 1, 3, 50, 90, 13, 9, 61, 1, 19, 38, 31, 21, 37, 5, 29, 1, 8, 35, 1, 8, 9, 1, 14, 11, 14, 23, 10, 5, 10, 33, 9, 6, 8, 19, 1, 44, 91, 20, 9, 20, 36, 42, 29, 3, 52, 40, 22, 110, 1, 1, 45, 26, 3, 5, 2, 3, 1, 10, 11, 25, 65, 67, 18, 6, 209, 6, 108, 22, 15, 8, 44, 28, 46, 8, 24, 102, 41, 28, 6, 84, 46, 44, 6, 24, 24, 16, 53, 2, 24, 64, 9, 12, 23, 1, 32, 36, 33, 6, 5, 10, 4, 15, 11, 9, 71, 1, 4, 9, 3, 9, 3, 8, 13, 20, 9, 9, 24, 31, 9, 5, 20, 14, 15, 55, 21, 41, 10, 58, 21, 5, 39, 5, 16, 10, 37, 7, 3, 18, 16, 5, 3, 9, 6, 3, 25, 9, 52, 58, 25, 76, 92, 2, 39, 89, 28, 49, 50, 70, 40, 3, 11, 20, 3, 12, 12, 16, 25, 88, 22, 161, 1, 2, 44, 59, 1, 38, 6, 10, 75, 43, 2, 33, 7, 148, 21, 25, 20, 12, 57, 17, 134, 31, 25, 61, 38, 25, 115, 39, 25, 25, 142, 10, 54, 5, 20, 23, 89, 59, 1, 1, 102, 229, 30, 6, 17, 10, 56, 19, 71, 18, 16, 50, 4, 36, 35, 9, 13, 49, 29, 3, 25, 5, 6, 14, 46, 29, 3, 47, 7, 38, 41, 15, 2, 19, 3, 26, 21, 17, 38, 7, 224, 57, 6, 24, 31, 2, 56, 118, 2, 17, 82, 72, 19, 46, 17, 7, 2, 25, 13, 114, 33, 11, 87, 5, 40, 11, 18, 7, 19, 3, 44, 8, 50, 77, 15, 26, 70, 28, 7, 29, 46, 4, 33, 13, 10, 22, 6, 13, 47, 25, 6, 7, 1, 5, 3, 41, 30, 29, 40, 8, 26, 22, 15, 5, 9, 32, 20, 7, 7, 1, 3, 3, 11, 9, 101, 5, 9, 5, 6, 1, 51, 1, 14, 2, 1, 117, 4, 7, 5, 34, 1, 54, 6, 23, 26, 53, 20, 7, 19, 108, 4, 77, 2, 11, 1, 9, 2, 197, 9, 5, 7, 26, 10, 104, 63, 50, 15, 113, 3, 38, 1, 83, 27, 3, 7, 8, 7, 6, 21, 52, 1, 6, 17, 11, 33, 1, 44, 62, 23, 37, 39, 29, 84, 10, 11, 5, 10, 29, 9, 1, 8, 1, 6, 11, 1, 3, 95, 8, 6, 42, 5, 29, 6, 25, 15, 6, 1, 25, 2, 3, 75, 84, 29, 20, 3, 4, 1, 2, 14, 54, 32, 2, 2, 2, 7, 7, 106, 16, 27, 6, 70, 6, 17, 5, 75, 11, 3, 9, 6, 11, 36, 37, 21, 14, 19, 2, 14, 13, 41, 23, 55, 5, 9, 6, 5, 8, 42, 52, 8, 34, 43, 141, 2, 4, 5, 1, 1, 11, 4, 2, 2, 7, 1, 1, 13, 7, 5, 6, 7, 2, 10, 132, 47, 5, 19, 8, 14, 17, 1, 31, 23, 8, 9, 4, 67, 3, 13, 12, 118, 4, 17, 31, 71, 29, 5, 4, 5, 9, 18, 8, 76, 1, 39, 6, 11, 42, 5, 17, 1, 182, 6, 40, 11, 38, 7, 1, 4, 2, 1, 1, 7, 25, 14, 6, 5, 19, 15, 13, 58, 26, 41, 11, 2, 1, 30, 34, 2, 2, 2, 20, 1, 5, 33, 7, 83, 11, 31, 12, 125, 2, 13, 55, 2, 44, 20, 6, 3, 37, 6, 2, 8, 1, 25, 7, 6, 16, 2, 43, 28, 13, 16, 15, 4, 12, 7, 14, 1, 7, 19, 2, 9, 1, 1, 21, 16, 1, 19, 11, 24, 15, 61, 41, 14, 18, 18, 140, 66, 28, 2, 15, 7, 2, 1, 12, 1, 14, 6, 26, 17, 4, 55, 160, 7, 4, 29, 18, 5, 3, 14, 5, 3, 8, 2, 1, 27, 2, 35, 10, 5, 41, 40, 67, 1, 8, 13, 5, 62, 6, 39, 18, 23, 6, 20, 5, 40, 3, 2, 38, 2, 5, 2, 100, 56, 52, 10, 12, 20, 44, 7, 10, 8, 6, 7, 27, 11, 1, 11, 1, 45, 2, 20, 22, 32, 49, 22, 9, 16, 14, 24, 1, 2, 7, 23, 19, 1, 7, 18, 7, 109, 16, 1, 3, 25, 25, 16, 2, 1, 2, 3, 1, 45, 8, 3, 5, 29, 5, 3, 28, 3, 83, 79, 34, 1, 20, 20, 8, 13, 1, 1, 2, 31, 3, 64, 36, 1, 2, 1, 3, 135, 6, 1, 18, 32, 14, 5, 3, 2, 7, 53, 23, 2, 107, 16, 6, 50, 33, 24, 9, 2, 18, 18, 59, 4, 15, 1, 6, 5, 46, 3, 30, 19, 47, 48, 24, 2, 28, 6, 8, 10, 10, 1, 6, 9, 1, 5, 5, 1, 11, 1, 7, 4, 45, 45, 15, 35, 3, 8, 11, 121, 50, 121, 11, 4, 2, 1, 48, 42, 25, 43, 51, 17, 5, 3, 20, 115, 1, 7, 4, 35, 4, 1, 10, 9, 38, 13, 11, 21, 24, 1, 2, 3, 1, 88, 28, 1, 43, 19, 8, 200, 23, 25, 8, 1, 82, 6, 47, 1, 1, 32, 12, 19, 27, 13, 13, 2, 6, 1, 5, 17, 19, 1, 26, 2, 2, 30, 11, 49, 1, 8, 2, 27, 1, 8, 2, 6, 12, 13, 40, 9, 7, 60, 17, 6, 9, 43, 12, 2, 3, 46, 1, 16, 3, 10, 9, 4, 2, 96, 11, 7, 50, 34, 21, 50, 10, 7, 14, 2, 53, 38, 33, 27, 22, 8, 27, 25, 6, 75, 4, 6, 25, 40, 37, 70, 2, 18, 28, 70, 10, 2, 31, 6, 5, 14, 1, 107, 1, 3, 31, 35, 343, 90, 15, 66, 67, 3, 3, 1, 1, 8, 19, 3, 12, 59, 12, 1, 15, 6, 1, 23, 15, 1, 12, 3, 5, 1, 44, 1, 19, 9, 1, 15, 8, 13, 25, 17, 74, 25, 2, 2, 1, 6, 106, 1, 4, 88, 2, 1, 6, 17, 24, 1, 1, 19, 5, 23, 28, 12, 2, 1, 1, 39, 8, 9, 34, 12, 7, 69, 6, 3, 17, 5, 10, 5, 3, 24, 17, 4, 70, 1, 60, 4, 1, 67, 50, 22, 6, 36, 7, 1, 2, 28, 11, 8, 11, 3, 36, 119, 3, 1, 2, 1, 2, 67, 21, 2, 58, 56, 8, 40, 12, 13, 4, 3, 1, 3, 15, 40, 9, 32, 20, 4, 3, 4, 1, 8, 63, 3, 3, 68, 17, 1, 1, 3, 9, 98, 1, 98, 21, 5, 6, 28, 24, 1, 1, 1, 7, 4, 24, 6, 1, 7, 11, 3, 23, 33, 10, 2, 32, 17, 1, 24, 62, 11, 1, 2, 27, 21, 1, 16, 5, 1, 26, 1, 154, 80, 7, 16, 20, 5, 10, 38, 25, 12, 4, 68, 1, 1, 1, 2, 2, 7, 5, 2, 8, 3, 9, 11, 157, 11, 5, 20, 33, 6, 33, 5, 1, 29, 23, 24, 1, 41, 34, 17, 26, 51, 1, 2, 1, 9, 3, 5, 10, 12, 19, 7, 28, 88, 55, 12, 1, 74, 9, 19, 3, 89, 1, 6, 3, 45, 12, 58, 13, 12, 1, 12, 27, 7, 4, 18, 1, 1, 24, 6, 10, 13, 5, 25, 21, 5, 58, 47, 20, 20, 7, 5, 34, 19, 12, 35, 9, 1, 3, 1, 24, 13, 3, 17, 44, 1, 72, 3, 12, 49, 7, 4, 14, 22, 32, 9, 1, 3, 4, 21, 7, 13, 8, 7, 5, 5, 44, 66, 32, 27, 36, 7, 3, 3, 81, 9, 143, 41, 1, 1, 3, 23, 4, 4, 51, 8, 11, 6, 6, 1, 13, 15, 149, 7, 12, 57, 8, 9, 52, 40, 69, 9, 68, 7, 8, 12, 11, 8, 113, 25, 1, 5, 5, 3, 107, 1, 2, 8, 9, 9, 1, 16, 24, 1, 63, 3, 25, 1, 2, 5, 7, 7, 4, 8, 64, 6, 79, 27, 1, 1, 29, 34, 11, 22, 36, 1, 12, 7, 28, 32, 3, 4, 16, 23, 33, 2, 65, 10, 35, 23, 42, 15, 43, 1, 1, 5, 29, 16, 21, 20, 6, 90, 1, 15, 39, 7, 40, 60, 4, 6, 13, 12, 21, 42, 34, 12, 2, 36, 17, 8, 16, 100, 4, 18, 71, 26, 11, 22, 5, 7, 13, 17, 1, 14, 16, 16, 6, 2, 30, 6, 23, 15, 2, 60, 6, 38, 48, 24, 15, 37, 46, 27, 39, 1, 22, 36, 35, 31, 1, 29, 2, 5, 7, 8, 1, 19, 5, 59, 7, 14, 5, 3, 9, 19, 66, 1, 17, 49, 4, 6, 20, 15, 78, 26, 11, 16, 2, 8, 1, 1, 13, 27, 94, 7, 1, 45, 3, 6, 17, 85, 47, 8, 28, 52, 1, 1, 38, 27, 59, 2, 5, 18, 41, 4, 6, 3, 91, 75, 15, 1, 33, 8, 17, 1, 8, 13, 2, 2, 10, 12, 1, 1, 23, 21, 28, 5, 16, 22, 16, 8, 33, 3, 10, 76, 27, 2, 6, 8, 2, 1, 15, 21, 4, 55, 3, 5, 7, 16, 18, 27, 51, 93, 50, 13, 8, 5, 32, 45, 1, 1, 2, 35, 25, 5, 13, 21, 1, 47, 5, 11, 8, 22, 39, 10, 41, 8, 14, 185, 24, 1, 27, 31, 74, 75, 21, 46, 31, 5, 20, 27, 55, 15, 22, 2, 4, 20, 5, 18, 12, 6, 3, 28, 45, 24, 20, 29, 3, 56, 69, 6, 47, 19, 69, 1, 2, 6, 7, 3, 20, 6, 48, 10, 6, 18, 9, 51, 10, 150, 61, 8, 11, 7, 39, 1, 8, 13, 5, 4, 2, 7, 7, 62, 86, 8, 26, 29, 41, 16, 28, 1, 1, 15, 7, 11, 12, 8, 9, 5, 5, 16, 2, 5, 12, 4, 23, 61, 13, 8, 3, 1, 2, 63, 35, 4, 1, 12, 31, 16, 5, 5, 21, 16, 18, 36, 111, 6, 67, 3, 19, 21, 28, 56, 1, 31, 5, 37, 19, 4, 22, 2, 8, 19, 12, 5, 11, 22, 1, 53, 2, 26, 94, 50, 26, 15, 2, 8, 6, 22, 95, 18, 17, 1, 1, 43, 42, 3, 14, 9, 6, 13, 3, 2, 20, 14, 1, 25, 8, 46, 94, 10, 1, 6, 23, 2, 93, 2, 4, 5, 9, 5, 60, 80, 32, 6, 34, 4, 2, 11, 6, 10, 8, 1, 1, 6, 7, 4, 20, 3, 72, 6, 2, 2, 20, 50, 40, 18, 47, 27, 5, 5, 2, 27, 1, 38, 29, 6, 7, 1, 2, 2, 3, 5, 10, 14, 4, 7, 137, 6, 33, 9, 5, 27, 22, 9, 23, 12, 3, 5, 5, 4, 5, 5, 10, 34, 5, 3, 8, 15, 20, 9, 41, 12, 4, 21, 97, 5, 5, 14, 18, 10, 17, 13, 9, 2, 4, 14, 3, 8, 5, 5, 16, 2, 2, 6, 35, 15, 115, 6, 11, 41, 15, 2, 6, 22, 2, 14, 3, 56, 46, 8, 57, 2, 18, 8, 3, 2, 36, 82, 31, 85, 2, 9, 20, 6, 22, 18, 81, 23, 4, 24, 4, 24, 25, 2, 5, 4, 2, 5, 42, 15, 2, 9, 18, 36, 9, 6, 18, 74, 58, 12, 1, 8, 10, 41, 39, 46, 7, 11, 1, 29, 21, 5, 12, 17, 39, 1, 17, 2, 14, 15, 1, 39, 113, 5, 4, 12, 15, 6, 12, 9, 5, 41, 58, 4, 29, 94, 34, 48, 15, 7, 4, 17, 66, 15, 28, 2, 17, 4, 15, 9, 5, 7, 15, 12, 5, 44, 5, 44, 8, 17, 4, 88, 1, 4, 34, 28, 16, 19, 17, 1, 31, 4, 35, 17, 3, 32, 8, 8, 6, 1, 2, 3, 80, 8, 1, 6, 3, 3, 69, 28, 24, 1, 31, 4, 9, 11, 71, 6, 10, 7, 19, 4, 17, 3, 6, 13, 4, 2, 6, 2, 22, 6, 4, 25, 4, 10, 20, 10, 4, 4, 5, 50, 8, 1, 21, 4, 1, 8, 22, 25, 63, 33, 2, 6, 18, 37, 18, 36, 33, 21, 88, 1, 29, 7, 1, 9, 1, 1, 62, 5, 3, 5, 20, 7, 1, 63, 55, 4, 38, 3, 1, 32, 27, 10, 4, 43, 3, 3, 4, 8, 12, 54, 1, 14, 5, 13, 57, 15, 79, 7, 1, 15, 4, 118, 4, 4, 47, 16, 20, 3, 8, 5, 8, 15, 4, 5, 22, 9, 22, 26, 10, 4, 1, 4, 2, 1, 5, 4, 2, 6, 18, 1, 3, 40, 7, 2, 21, 3, 2, 14, 4, 1, 2, 9, 6, 1, 26, 12, 1, 5, 4, 1, 2, 1, 4, 1, 1, 1, 1, 3, 21, 46, 43, 93, 33, 51, 4, 27, 4, 19, 28, 2, 22, 29, 38, 99, 3, 19, 16, 1, 11, 7, 10, 11, 6, 32, 1, 1, 65, 42, 39, 46, 36, 11, 18, 25, 15, 19, 13, 24, 6, 17, 24, 5, 34, 8, 36, 7, 4, 6, 10, 2, 16, 2, 34, 27, 11, 9, 52, 25, 10, 2, 7, 11, 1, 11, 1, 18, 38, 1, 40, 11, 5, 1, 24, 25, 9, 46, 13, 18, 20, 3, 15, 3, 83, 4, 36, 5, 2, 1, 68, 16, 6, 1, 25, 55, 6, 10, 2, 10, 8, 20, 1, 13, 36, 28, 9, 24, 4, 45, 38, 11, 6, 18, 47, 46, 5, 1, 40, 2, 11, 13, 21, 35, 18, 6, 10, 10, 29, 17, 2, 58, 1, 31, 4, 5, 20, 80, 1, 47, 3, 1, 17, 82, 21, 3, 3, 17, 50, 16, 5, 28, 23, 7, 40, 11, 22, 19, 4, 9, 4, 27, 99, 49, 1, 17, 31, 2, 7, 39, 7, 25, 44, 47, 13, 125, 10, 11, 29, 17, 30, 8, 1, 50, 18, 19, 7, 13, 32, 8, 88, 3, 5, 7, 14, 24, 16, 43, 53, 6, 7, 10, 7, 13, 20, 3, 3, 51, 24, 12, 32, 17, 2, 11, 9, 23, 8, 181, 6, 1, 1, 29, 5, 133, 3, 20, 8, 1, 3, 19, 31, 1, 8, 2, 23, 21, 14, 16, 9, 9, 99, 6, 47, 25, 26, 59, 3, 23, 2, 19, 1, 9, 17, 2, 18, 25, 22, 34, 8, 8, 10, 1, 3, 6, 5, 11, 6, 8, 9, 1, 32, 7, 10, 28, 26, 7, 19, 4, 10, 25, 22, 5, 118, 71, 4, 114, 6, 15, 16, 21, 48, 7, 4, 46, 7, 14, 5, 3, 8, 33, 11, 26, 8, 2, 1, 13, 17, 22, 6, 2, 46, 8, 3, 28, 4, 8, 24, 43, 27, 53, 141, 13, 7, 20, 2, 9, 14, 5, 42, 5, 17, 41, 14, 1, 29, 8, 41, 21, 61, 57, 2, 26, 4, 119, 3, 131, 14, 1, 35, 55, 16, 3, 32, 4, 20, 20, 20, 7, 6, 29, 62, 18, 4, 13, 18, 28, 6, 6, 4, 29, 18, 1, 5, 3, 2, 10, 36, 63, 18, 176, 4, 1, 1, 29, 9, 36, 36, 30, 5, 2, 12, 2, 36, 6, 127, 37, 27, 4, 14, 6, 17, 64, 16, 18, 18, 3, 2, 7, 1, 5, 2, 1, 7, 2, 47, 18, 47, 1, 3, 3, 12, 11, 13, 7, 12, 4, 7, 73, 9, 71, 3, 2, 2, 8, 2, 12, 2, 3, 33, 6, 27, 5, 35, 4, 40, 13, 16, 28, 2, 1, 7, 14, 6, 3, 2, 14, 1, 1, 9, 35, 45, 47, 28, 65, 2, 21, 4, 47, 4, 1, 43, 43, 7, 4, 2, 15, 24, 77, 28, 1, 2, 7, 9, 16, 11, 2, 25, 9, 180, 31, 80, 1, 5, 16, 2, 33, 4, 11, 59, 12, 2, 32, 3, 5, 42, 23, 8, 41, 2, 80, 18, 22, 1, 8, 1, 5, 1, 19, 19, 7, 8, 28, 7, 1, 9, 27, 4, 26, 9, 3, 11, 1, 26, 85, 23, 29, 3, 14, 18, 8, 2, 5, 22, 2, 4, 18, 1, 8, 12, 56, 8, 2, 1, 17, 5, 21, 5, 17, 1, 2, 4, 39, 16, 1, 12, 105, 179, 60, 25, 15, 48, 3, 3, 11, 22, 22, 18, 20, 33, 80, 26, 33, 32, 47, 42, 46, 39, 12, 9, 12, 38, 13, 152, 1, 38, 51, 63, 25, 16, 25, 2, 28, 12, 13, 3, 23, 1, 1, 9, 66, 2, 17, 1, 1, 61, 2, 4, 18, 53, 33, 3, 40, 9, 11, 31, 22, 15, 3, 7, 2, 1, 13, 79, 1, 9, 4, 2, 8, 26, 1, 1, 2, 9, 14, 1, 1, 47, 1, 59, 2, 3, 19, 1, 71, 17, 3, 1, 1, 4, 5, 4, 2, 7, 19, 11, 3, 15, 6, 10, 28, 29, 12, 2, 6, 16, 15, 1, 39, 28, 66, 6, 47, 5, 26, 14, 88, 3, 3, 20, 42, 14, 11, 11, 5, 9, 3, 41, 5, 56, 6, 3, 3, 7, 1, 4, 30, 34, 13, 7, 11, 5, 13, 29, 3, 12, 12, 2, 1, 11, 16, 13, 19, 6, 38, 2, 1, 19, 9, 1, 11, 23, 14, 3, 21, 19, 23, 61, 18, 3, 1, 27, 18, 1, 23, 25, 17, 8, 19, 1, 22, 1, 1, 4, 19, 8, 32, 63, 28, 4, 2, 1, 24, 5, 2, 18, 8, 40, 3, 29, 2, 28, 12, 6, 20, 30, 20, 3, 16, 25, 5, 12, 1, 2, 5, 43, 2, 10, 31, 2, 9, 3, 44, 9, 4, 13, 162, 16, 52, 13, 2, 7, 1, 8, 39, 2, 7, 9, 8, 1, 24, 14, 1, 1, 1, 5, 10, 2, 1, 1, 1, 10, 7, 9, 45, 6, 2, 13, 7, 1, 14, 13, 2, 2, 5, 20, 1, 1, 1, 1, 1, 28, 1, 1, 39, 1, 37, 8, 1, 19, 4, 7, 17, 75, 1, 22, 14, 1, 1, 26, 64, 2, 10, 68, 1, 48, 17, 6, 1, 6, 40, 29, 2, 86, 23, 2, 6, 2, 1, 13, 2, 6, 14, 3, 48, 17, 25, 1, 1, 5, 2, 23, 20, 8, 4, 2, 25, 12, 3, 5, 15, 1, 4, 18, 2, 66, 4, 9, 1, 4, 1, 2, 45, 3, 22, 2, 2, 1, 3, 1, 9, 3, 1, 13, 29, 4, 1, 2, 2, 7, 11, 4, 1, 1, 2, 2, 22, 1, 31, 18, 34, 8, 6, 1, 19, 13, 4, 31, 8, 58, 13, 2, 14, 7, 8, 24, 28, 16, 4, 15, 26, 6, 16, 27, 26, 12, 24, 30, 30, 5, 1, 20, 25, 3, 30, 57, 1, 4, 2, 1, 21, 12, 15, 14, 15, 57, 2, 2, 20, 58, 3, 49, 10, 13, 4, 7, 5, 6, 8, 5, 6, 8, 109, 11, 12, 1, 2, 16, 21, 5, 1, 7, 9, 46, 50, 2, 5, 42, 9, 10, 12, 11, 1, 1, 9, 10, 2, 10, 27, 7, 1, 5, 2, 46, 4, 6, 11, 5, 15, 1, 36, 24, 3, 2, 6, 2, 5, 3, 35, 1, 29, 10, 1, 1, 24, 31, 58, 72, 21, 8, 31, 29, 11, 10, 17, 1, 14, 1, 13, 29, 7, 13, 23, 3, 21, 52, 19, 1, 3, 14, 5, 14, 2, 47, 22, 15, 2, 2, 31, 32, 4, 14, 5, 1, 1, 38, 16, 13, 6, 1, 7, 4, 7, 23, 13, 5, 1, 2, 31, 2, 26, 1, 1, 18, 1, 4, 1, 2, 10, 9, 7, 42, 43, 9, 14, 1, 16, 7, 10, 10, 13, 20, 20, 14, 13, 97, 10, 24, 1, 1, 51, 3, 37, 15, 29, 20, 1, 4, 20, 38, 5, 11, 8, 5, 28, 8, 30, 1, 14, 1, 5, 17, 9, 3, 6, 22, 1, 14, 37, 2, 2, 12, 3, 59, 1, 4, 21, 36, 17, 18, 10, 15, 2, 1, 3, 15, 2, 52, 9, 8, 1, 92, 24, 4, 3, 1, 14, 30, 1, 3, 46, 1, 9, 1, 4, 11, 1, 43, 9, 33, 19, 1, 5, 53, 6, 36, 3, 6, 19, 43, 4, 38, 1, 5, 44, 12, 4, 8, 16, 5, 13, 11, 2, 7, 6, 36, 55, 10, 16, 6, 22, 1, 1, 2, 3, 8, 6, 8, 1, 12, 2, 11, 5, 21, 2, 70, 23, 22, 19, 33, 1, 2, 54, 1, 21, 1, 1, 27, 16, 9, 1, 17, 36, 31, 51, 1, 3, 53, 4, 4, 32, 18, 27, 8, 6, 8, 43, 34, 53, 21, 2, 56, 11, 3, 4, 16, 22, 3, 71, 3, 11, 3, 2, 2, 11, 43, 22, 89, 7, 9, 18, 1, 7, 40, 1, 15, 8, 20, 37, 10, 36, 23, 4, 16, 20, 2, 7, 9, 6, 3, 29, 5, 29, 6, 2, 9, 14, 22, 9, 11, 10, 1, 1, 8, 1, 61, 11, 14, 10, 28, 14, 37, 1, 16, 6, 13, 2, 17, 1, 7, 8, 9, 49, 30, 12, 36, 1, 21, 4, 2, 16, 12, 17, 3, 1, 13, 10, 20, 10, 4, 14, 1, 69, 1, 15, 1, 14, 46, 1, 1, 4, 9, 20, 1, 8, 22, 75, 82, 10, 1, 7, 10, 5, 79, 26, 2, 3, 3, 2, 12, 22, 11, 36, 45, 10, 3, 52, 11, 48, 1, 24, 7, 22, 20, 3, 10, 64, 4, 3, 38, 18, 7, 23, 19, 20, 6, 38, 5, 7, 39, 25, 1, 19, 25, 11, 2, 15, 8, 20, 2, 3, 24, 48, 5, 5, 84, 2, 6, 2, 28, 7, 6, 9, 12, 78, 7, 45, 15, 16, 12, 2, 1, 14, 2, 4, 7, 18, 9, 1, 28, 6, 4, 2, 2, 79, 5, 5, 8, 8, 2, 22, 1, 8, 25, 21, 18, 16, 56, 4, 4, 36, 3, 6, 2, 25, 4, 7, 18, 3, 35, 8, 1, 6, 2, 29, 1, 1, 7, 17, 8, 3, 34, 1, 28, 14, 2, 9, 1, 23, 6, 7, 14, 38, 2, 3, 2, 1, 6, 19, 3, 52, 14, 1, 1, 16, 5, 90, 2, 16, 6, 1, 1, 5, 5, 15, 9, 2, 10, 18, 16, 4, 10, 51, 21, 2, 9, 15, 12, 10, 1, 2, 8, 37, 10, 10, 9, 11, 5, 13, 25, 7, 45, 8, 7, 2, 20, 4, 6, 7, 15, 5, 10, 7, 16, 24, 10, 18, 14, 26, 30, 17, 46, 75, 1, 21, 88, 1, 1, 2, 6, 12, 9, 31, 6, 3, 81, 7, 9, 2, 4, 31, 60, 33, 33, 5, 1, 4, 91, 1, 7, 78, 26, 10, 3, 20, 139, 4, 2, 4, 50, 35, 2, 6, 9, 2, 4, 27, 11, 24, 8, 6, 52, 4, 3, 6, 30, 6, 40, 43, 7, 22, 4, 7, 19, 1, 11, 41, 17, 30, 28, 87, 5, 1, 1, 1, 22, 11, 2, 30, 14, 8, 45, 1, 23, 30, 5, 22, 4, 1, 6, 1, 38, 7, 4, 46, 5, 34, 32, 10, 34, 3, 34, 48, 13, 12, 15, 2, 9, 9, 15, 1, 9, 1, 29, 50, 15, 3, 10, 13, 16, 5, 3, 1, 1, 1, 27, 7, 1, 6, 2, 19, 8, 42, 53, 1, 16, 6, 24, 1, 8, 2, 2, 22, 12, 12, 23, 19, 29, 4, 17, 12, 15, 2, 7, 3, 58, 4, 12, 7, 7, 3, 23, 6, 27, 1, 2, 5, 3, 7, 10, 3, 2, 1, 4, 5, 82, 1, 22, 1, 10, 2, 1, 3, 52, 25, 6, 2, 19, 3, 28, 8, 26, 29, 3, 93, 27, 45, 1, 2, 5, 7, 11, 3, 3, 2, 13, 5, 2, 6, 9, 2, 10, 10, 13, 8, 3, 1, 1, 5, 1, 15, 5, 10, 11, 10, 7, 24, 22, 17, 69, 4, 3, 3, 36, 4, 4, 7, 26, 51, 5, 8, 15, 2, 5, 3, 30, 4, 7, 29, 2, 3, 1, 5, 3, 13, 9, 10, 8, 6, 3, 2, 2, 25, 15, 1, 3, 3, 25, 3, 10, 3, 22, 2, 11, 21, 5, 8, 6, 1, 6, 10, 6, 30, 1, 28, 1, 16, 71, 8, 3, 9, 16, 13, 2, 2, 22, 3, 2, 12, 8, 4, 28, 47, 2, 1, 13, 7, 1, 15, 19, 31, 16, 1, 5, 9, 2, 2, 33, 8, 4, 15, 1, 1, 20, 26, 28, 33, 31, 32, 15, 18, 2, 3, 6, 4, 12, 10, 19, 5, 2, 8, 2, 23, 6, 2, 2, 4, 11, 6, 10, 73, 3, 8, 10, 23, 12, 4, 96, 1, 3, 7, 42, 9, 16, 17, 49, 5, 17, 10, 9, 14, 4, 1, 18, 37, 34, 1, 3, 8, 21, 4, 2, 1, 4, 27, 11, 2, 7, 16, 7, 28, 12, 24, 8, 8, 23, 8, 42, 19, 7, 1, 5, 4, 78, 10, 19, 31, 27, 10, 26, 9, 33, 1, 4, 2, 17, 7, 9, 74, 1, 7, 34, 3, 1, 1, 1, 1, 5, 4, 47, 1, 1, 23, 10, 30, 21, 8, 24, 3, 22, 31, 4, 4, 24, 24, 12, 4, 4, 9, 27, 2, 10, 6, 9, 10, 40, 39, 2, 6, 1, 101, 11, 1, 17, 7, 9, 9, 1, 2, 26, 10, 10, 21, 49, 11, 13, 4, 11, 25, 3, 1, 11, 3, 2, 2, 24, 6, 2, 1, 14, 16, 3, 1, 3, 18, 5, 2, 3, 2, 1, 11, 2, 9, 4, 14, 8, 5, 4, 4, 13, 6, 7, 1, 9, 8, 7, 18, 11, 12, 25, 30, 11, 4, 11, 6, 71, 11, 16, 5, 41, 4, 1, 43, 3, 3, 17, 1, 10, 4, 17, 10, 1, 36, 4, 17, 2, 70, 84, 33, 24, 2, 40, 4, 8, 10, 21, 1, 4, 2, 52, 20, 7, 4, 5, 2, 38, 26, 8, 35, 51, 2, 23, 57, 4, 29, 5, 3, 15, 68, 2, 27, 10, 23, 38, 20, 23, 10, 1, 5, 8, 25, 7, 42, 17, 7, 7, 3, 33, 5, 9, 6, 21, 29, 2, 9, 7, 1, 78, 18, 72, 14, 4, 11, 28, 6, 8, 4, 5, 17, 1, 42, 3, 19, 7, 30, 2, 7, 2, 22, 8, 10, 3, 18, 1, 11, 20, 2, 4, 2, 4, 2, 1, 26, 33, 44, 12, 23, 4, 5, 32, 9, 32, 4, 2, 7, 27, 3, 1, 3, 7, 9, 1, 3, 2, 8, 1, 10, 6, 6, 4, 1, 36, 15, 27, 7, 6, 12, 23, 6, 25, 8, 5, 36, 22, 8, 8, 17, 11, 33, 21, 66, 1, 10, 18, 3, 22, 8, 72, 31, 5, 6, 5, 22, 6, 32, 65, 1, 20, 4, 7, 7, 5, 8, 1, 4, 30, 7, 3, 1, 1, 24, 16, 1, 3, 23, 2, 2, 18, 5, 13, 4, 6, 21, 12, 1, 39, 23, 1, 5, 6, 1, 13, 3, 6, 7, 57, 1, 12, 4, 19, 30, 3, 8, 22, 12, 3, 1, 6, 42, 15, 1, 6, 20, 29, 31, 8, 48, 17, 1, 23, 2, 1, 3, 2, 1, 4, 1, 10, 6, 36, 3, 1, 2, 3, 3, 5, 3, 12, 4, 5, 10, 25, 11, 28, 3, 7, 4, 17, 2, 6, 3, 8, 55, 4, 3, 5, 64, 13, 3, 5, 2, 31, 5, 8, 2, 2, 12, 14, 12, 14, 6, 3, 3, 17, 11, 8, 8, 3, 5, 3, 2, 2, 3, 4, 13, 15, 4, 4, 8, 3, 8, 2, 5, 20, 15, 7, 42, 8, 1, 2, 7, 29, 4, 23, 8, 4, 16, 25, 6, 4, 28, 21, 1, 1, 36, 5, 5, 7, 2, 14, 3, 7, 51, 17, 21, 6, 1, 2, 60, 7, 3, 12, 17, 27, 5, 13, 54, 4, 7, 37, 22, 3, 13, 49, 28, 2, 5, 1, 2, 1, 5, 2, 5, 5, 7, 4, 3, 12, 3, 89, 9, 21, 4, 3, 13, 20, 2, 3, 5, 70, 15, 2, 5, 8, 13, 7, 10, 7, 42, 1, 5, 8, 4, 1, 3, 78, 13, 8, 7, 8, 1, 1, 3, 3, 5, 6, 15, 10, 22, 3, 1, 4, 1, 3, 9, 5, 1, 1, 1, 2, 2, 1, 1, 2, 12, 27, 30, 1, 11, 8, 6, 12, 13, 3, 4, 8, 45, 7, 4, 18, 42, 32, 2, 17, 24, 6, 1, 26, 21, 7, 12, 33, 5, 4, 1, 5, 4, 23, 6, 9, 6, 1, 1, 2, 5, 20, 2, 29, 2, 7, 32, 1, 2, 4, 6, 6, 2, 13, 60, 1, 2, 7, 15, 21, 6, 4, 2, 3, 74, 3, 2, 5, 26, 13, 3, 12, 32, 7, 1, 5, 12, 7, 7, 8, 3, 50, 2, 40, 9, 8, 4, 1, 1, 11, 3, 8, 9, 3, 6, 2, 9, 1, 5, 3, 21, 16, 4, 3, 7, 13, 7, 6, 15, 51, 2, 5, 1, 1, 11, 1, 3, 1, 1, 29, 3, 5, 5, 23, 8, 16, 32, 8, 1, 19, 2, 62, 13, 5, 3, 2, 1, 9, 11, 11, 18, 28, 5, 12, 8, 3, 11, 31, 3, 22, 2, 2, 7, 2, 11, 3, 17, 3, 8, 12, 8, 13, 2, 3, 11, 4, 27, 1, 8, 5, 3, 5, 1, 41, 40, 12, 5, 38, 14, 6, 5, 11, 29, 7, 2, 130, 36, 1, 19, 2, 41, 1, 60, 6, 24, 10, 1, 9, 23, 3, 38, 6, 1, 1, 1, 7, 10, 2, 3, 13, 7, 3, 16, 24, 3, 37, 10, 26, 2, 79, 12, 1, 4, 1, 3, 3, 4, 20, 2, 15, 6, 26, 2, 11, 7, 5, 10, 2, 3, 3, 4, 7, 1, 22, 14, 8, 11, 12, 6, 2, 6, 1, 2, 3, 26, 1, 18, 7, 5, 3, 2, 2, 1, 2, 1, 1, 5, 3, 3, 1, 41, 1, 2, 4, 4, 9, 3, 49, 23, 1, 17, 6, 3, 27, 5, 1, 11, 13, 17, 3, 9, 9, 6, 1, 2, 19, 1, 3, 2, 10, 4, 4, 7, 1, 16, 4, 4, 14, 2, 1, 50, 2, 85, 7, 7, 4, 21, 14, 17, 1, 1, 8, 13, 6, 7, 28, 15, 2, 19, 12, 1, 50, 7, 6, 14, 4, 1, 18, 23, 14, 69, 1, 47, 1, 23, 22, 2, 1, 2, 1, 1, 8, 3, 8, 3, 2, 2, 29, 6, 5, 30, 13, 4, 5, 1, 1, 21, 4, 49, 11, 7, 1, 15, 9, 5, 14, 4, 10, 2, 2, 21, 14, 18, 5, 28, 1, 7, 6, 7, 6, 3, 5, 1, 59, 7, 4, 1, 1, 8, 2, 7, 1, 39, 5, 10, 10, 11, 49, 1, 8, 1, 15, 10, 19, 2, 10, 18, 9, 34, 19, 18, 2, 16, 27, 23, 24, 19, 12, 2, 15, 8, 2, 2, 12, 6, 7, 2, 9, 23, 9, 8, 17, 47, 4, 13, 7, 8, 36, 6, 4, 8, 3, 6, 66, 21, 3, 8, 3, 11, 8, 23, 5, 57, 6, 3, 5, 18, 4, 3, 2, 5, 7, 4, 6, 3, 25, 4, 10, 20, 93, 59, 39, 22, 3, 10, 7, 9, 15, 7, 16, 4, 14, 13, 8, 4, 14, 5, 24, 12, 4, 10, 10, 2, 24, 2, 2, 9, 1, 3, 25, 1, 10, 12, 17, 10, 21, 19, 15, 37, 1, 4, 2, 10, 8, 7, 1, 1, 6, 3, 30, 15, 1, 19, 1, 6, 8, 2, 2, 34, 41, 6, 31, 19, 20, 14, 1, 3, 28, 3, 29, 12, 12, 17, 3, 11, 19, 14, 6, 11, 6, 1, 3, 4, 21, 2, 3, 2, 27, 3, 4, 3, 16, 9, 20, 9, 3, 11, 5, 8, 33, 18, 3, 5, 18, 17, 6, 1, 10, 2, 1, 1, 9, 1, 1, 48, 1, 1, 2, 1, 9, 5, 10, 2, 17, 10, 1, 4, 14, 111, 2, 11, 27, 14, 4, 3, 4, 47, 7, 1, 38, 12, 38, 5, 1, 1, 3, 2, 15, 2, 1, 35, 1, 11, 13, 6, 17, 20, 4, 43, 1, 5, 9, 26, 25, 1, 1, 1, 12, 31, 27, 33, 32, 2, 1, 37, 53, 2, 9, 85, 10, 11, 1, 34, 4, 6, 4, 1, 13, 1, 1, 11, 1, 1, 1, 3, 6, 6, 8, 8, 6, 2, 6, 11, 6, 5, 3, 9, 1, 22, 11, 22, 15, 7, 1, 1, 1, 13, 1, 3, 71, 15, 19, 11, 15, 39, 3, 3, 5, 2, 1, 2, 2, 2, 1, 163, 1, 3, 11, 2, 1, 1, 17, 7, 2, 3, 11, 29, 16, 1, 11, 2, 1, 19, 6, 6, 4, 9, 1, 14, 1, 5, 1, 16, 6, 1, 10, 6, 3, 7, 3, 1, 28, 9, 2, 4, 12, 1, 2, 1, 11, 26, 6, 1, 17, 7, 2, 19, 1, 1, 11, 4, 2, 25, 15, 77, 4, 4, 11, 2, 26, 19, 1, 4, 4, 5, 8, 1, 3, 3, 5, 8, 3, 5, 2, 9, 31, 14, 3, 5, 16, 4, 11, 11, 1, 11, 15, 1, 1, 76, 2, 3, 3, 1, 2, 9, 7, 42, 13, 17, 1, 20, 3, 18, 10, 13, 6, 2, 2, 11, 51, 15, 11, 9, 11, 6, 4, 6, 8, 11, 5, 17, 30, 33, 11, 7, 12, 29, 3, 4, 9, 3, 17, 9, 8, 18, 5, 46, 8, 31, 5, 10, 3, 17, 1, 10, 1, 15, 10, 39, 14, 8, 13, 2, 5, 62, 44, 7, 7, 29, 25, 2, 14, 8, 10, 24, 11, 2, 16, 1, 3, 6, 2, 41, 6, 21, 16, 24, 3, 1, 4, 3, 2, 17, 9, 20, 2, 2, 4, 88, 15, 2, 7, 24, 8, 1, 5, 5, 13, 1, 7, 6, 10, 4, 5, 7, 2, 14, 8, 1, 7, 6, 3, 5, 7, 4, 11, 7, 3, 2, 1, 8, 9, 39, 32, 36, 1, 5, 5, 8, 5, 8, 1, 1, 3, 2, 1, 9, 3, 2, 16, 24, 2, 21, 13, 6, 3, 12, 12, 28, 11, 17, 7, 1, 13, 10, 3, 5, 2, 2, 8, 4, 8, 1, 1, 31, 1, 22, 10, 2, 35, 2, 29, 26, 38, 14, 4, 2, 22, 8, 7, 1, 87, 1, 8, 17, 3, 35, 4, 1, 7, 16, 1, 13, 3, 2, 17, 8, 1, 13, 10, 3, 6, 36, 6, 3, 74, 10, 1, 7, 5, 22, 15, 2, 45, 5, 2, 2, 24, 5, 6, 11, 5, 1, 12, 3, 5, 4, 2, 1, 21, 20, 1, 18, 46, 4, 1, 4, 7, 2, 21, 7, 27, 4, 12, 19, 1, 12, 9, 43, 4, 6, 22, 9, 13, 10, 25, 6, 2, 7, 26, 3, 18, 20, 28, 27, 18, 39, 1, 2, 9, 10, 17, 37, 132, 2, 13, 18, 7, 8, 11, 2, 6, 5, 3, 5, 3, 8, 4, 16, 1, 14, 2, 2, 4, 18, 9, 1, 3, 3, 1, 1, 6, 17, 11, 1, 7, 24, 1, 6, 10, 1, 1, 9, 12, 6, 2, 3, 4, 2, 2, 27, 6, 1, 1, 13, 30, 31, 19, 6, 4, 2, 2, 5, 1, 15, 5, 8, 1, 1, 17, 7, 2, 1, 15, 1, 9, 1, 7, 4, 2, 2, 12, 4, 7, 1, 51, 31, 4, 9, 22, 17, 17, 1, 1, 16, 3, 12, 9, 15, 10, 3, 3, 20, 6, 11, 2, 1, 1, 4, 33, 7, 2, 1, 66, 3, 5, 9, 8, 3, 10, 1, 2, 8, 1, 28, 4, 1, 2, 6, 1, 12, 19, 21, 4, 12, 2, 1, 1, 1, 3, 8, 8, 5, 13, 1, 3, 12, 1, 1, 1, 4, 2, 2, 6, 8, 41, 17, 5, 3, 13, 7, 10, 10, 5, 27, 1, 10, 21, 3, 24, 3, 3, 88, 3, 12, 16, 25, 9, 4, 7, 49, 10, 67, 4, 9, 12, 3, 6, 1, 7, 1, 3, 2, 9, 15, 2, 7, 1, 21, 17, 26, 19, 12, 4, 8, 6, 5, 3, 4, 1, 6, 1, 3, 21, 13, 15, 4, 9, 4, 7, 7, 20, 35, 9, 11, 6, 5, 22, 2, 2, 8, 4, 6, 22, 11, 3, 17, 12, 8, 1, 1, 54, 15, 4, 1, 6, 1, 2, 8, 1, 3, 4, 18, 1, 1, 28, 22, 50, 5, 7, 15, 19, 30, 17, 59, 22, 4, 4, 9, 2, 10, 62, 13, 5, 43, 18, 21, 1, 28, 4, 1, 1, 2, 1, 2, 12, 10, 10, 5, 7, 18, 14, 2, 6, 2, 7, 7, 27, 73, 34, 15, 16, 20, 17, 74, 2, 14, 4, 1, 1, 6, 1, 10, 12, 13, 2, 8, 3, 44, 5, 2, 7, 4, 1, 1, 7, 1, 21, 31, 4, 4, 5, 5, 10, 2, 19, 4, 1, 3, 1, 13, 25, 2, 8, 1, 39, 1, 7, 22, 2, 32, 2, 14, 3, 10, 16, 7, 9, 8, 1, 3, 1, 8, 3, 31, 6, 5, 57, 7, 3, 14, 10, 3, 1, 45, 6, 5, 2, 3, 1, 26, 1, 1, 2, 1, 4, 13, 6, 1, 5, 36, 2, 5, 26, 45, 1, 12, 2, 17, 5, 27, 4, 20, 10, 10, 10, 21, 8, 11, 4, 6, 7, 7, 10, 19, 3, 10, 5, 16, 49, 2, 39, 8, 4, 5, 8, 10, 5, 30, 1, 1, 4, 2, 1, 23, 1, 15, 2, 4, 7, 2, 5, 4, 7, 122, 20, 4, 13, 3, 3, 21, 4, 8, 9, 24, 2, 5, 1, 16, 52, 1, 18, 23, 24, 39, 23, 3, 27, 4, 4, 5, 6, 2, 13, 4, 7, 1, 1, 1, 9, 9, 13, 1, 1, 2, 5, 6, 1, 5, 7, 3, 2, 2, 1, 12, 16, 1, 10, 7, 7, 51, 40, 11, 11, 1, 2, 2, 16, 37, 2, 4, 2, 17, 24, 7, 10, 13, 11, 16, 6, 1, 22, 15, 4, 1, 2, 21, 1, 3, 11, 7, 8, 1, 2, 9, 8, 2, 1, 1, 45, 4, 1, 2, 2, 17, 12, 2, 20, 8, 15, 5, 22, 25, 14, 49, 1, 54, 1, 1, 18, 4, 2, 4, 13, 1, 2, 15, 9, 3, 2, 4, 5, 2, 1, 5, 1, 12, 1, 1, 5, 79, 3, 7, 2, 6, 10, 7, 8, 3, 40, 5, 3, 30, 19, 10, 4, 9, 1, 11, 18, 2, 1, 3, 1, 3, 8, 1, 5, 11, 1, 26, 8, 4, 3, 1, 10, 1, 4, 4, 8, 2, 3, 23, 11, 9, 10, 30, 24, 20, 6, 3, 1, 55, 14, 1, 1, 1, 2, 1, 1, 8, 2, 65, 9, 11, 1, 6, 1, 2, 36, 25, 7, 26, 3, 1, 2, 3, 1, 1, 6, 1, 3, 1, 18, 31, 5, 12, 6, 19, 1, 6, 11, 1, 1, 54, 2, 3, 2, 3, 14, 7, 2, 5, 3, 9, 4, 4, 21, 8, 1, 3, 3, 4, 20, 2, 3, 4, 1, 2, 6, 30, 5, 9, 3, 2, 6, 9, 17, 7, 8, 5, 1, 18, 6, 40, 29, 9, 16, 2, 18, 3, 14, 12, 2, 8, 1, 31, 5, 5, 7, 7, 19, 7, 12, 4, 7, 10, 1, 26, 3, 4, 49, 8, 3, 5, 3, 4, 3, 1, 25, 3, 2, 2, 1, 6, 2, 10, 2, 11, 29, 16, 10, 4, 4, 3, 16, 6, 13, 3, 3, 7, 19, 5, 23, 19, 50, 26, 6, 1, 6, 3, 21, 1, 54, 32, 12, 1, 3, 1, 10, 2, 2, 2, 4, 2, 12, 4, 31, 8, 11, 20, 31, 77, 3, 3, 3, 2, 4, 6, 3, 15, 3, 1, 2, 1, 4, 13, 53, 4, 4, 4, 22, 12, 2, 23, 14, 12, 13, 17, 3, 12, 1, 4, 5, 1, 5, 6, 14, 2, 2, 6, 26, 16, 8, 9, 9, 7, 9, 25, 6, 1, 1, 6, 56, 1, 3, 41, 20, 5, 2, 10, 3, 7, 2, 6, 3, 5, 13, 10, 22, 4, 9, 4, 33, 32, 6, 1, 6, 3, 6, 3, 1, 5, 1, 1, 33, 22, 5, 4, 27, 18, 1, 11, 4, 6, 17, 11, 1, 53, 2, 11, 12, 2, 27, 1, 15, 7, 7, 16, 6, 1, 30, 1, 2, 2, 2, 32, 28, 35, 3, 2, 7, 10, 14, 4, 1, 1, 1, 2, 1, 1, 1, 1, 1, 1, 8, 7, 8, 1, 35, 16, 4, 6, 4, 3, 2, 1, 2, 1, 3, 1, 16, 1, 37, 4, 7, 2, 1, 1, 1, 7, 14, 2, 7, 5, 9, 14, 6, 11, 7, 2, 2, 9, 4, 5, 8, 12, 5, 1, 26, 2, 5, 17, 11, 1, 47, 4, 25, 2, 1, 23, 7, 10, 5, 6, 21, 7, 5, 1, 4, 3, 5, 19, 17, 1, 1, 1, 1, 1, 1, 2, 17, 3, 5, 5, 2, 1, 1, 6, 1, 7, 1, 2, 4, 1, 1, 5, 2, 3, 1, 2, 8, 1, 1, 1, 2, 1, 1, 11, 2, 2, 6, 7, 3, 4, 1, 15, 7, 3, 15, 7, 4, 1, 4, 2, 17, 1, 5, 3, 1, 1, 4, 28, 3, 2, 1, 4, 9, 12, 23, 1, 6, 1, 1, 22, 3, 3, 16, 5, 2, 1, 3, 60, 20, 10, 4, 14, 9, 3, 3, 4, 1, 1, 1, 14, 6, 10, 4, 2, 7, 3, 2, 29, 1, 3, 9, 6, 1, 7, 38, 7, 8, 10, 8, 6, 40, 14, 11, 3, 7, 1, 1, 1, 2, 5, 11, 6, 5, 2, 12, 1, 12, 10, 10, 3, 21, 11, 13, 8, 3, 5, 12, 4, 4, 16, 41, 42, 7, 8, 6, 14, 8, 13, 1, 2, 10, 8, 10, 2, 2, 1, 2, 10, 1, 11, 14, 29, 5, 1, 16, 6, 3, 5, 10, 2, 2, 7, 12, 49, 12, 14, 1, 1, 3, 2, 3, 4, 9, 5, 5, 15, 4, 1, 8, 8, 18, 33, 6, 14, 2, 15, 1, 3, 11, 11, 7, 24, 13, 3, 35, 1, 2, 24, 6, 2, 2, 15, 14, 4, 2, 3, 15, 26, 7, 1, 3, 15, 1, 3, 2, 7, 5, 20, 25, 4, 23, 2, 6, 2, 5, 1, 4, 2, 6, 9, 7, 5, 2, 4, 23, 32, 2, 1, 10, 4, 5, 1, 1, 22, 13, 7, 3, 1, 3, 1, 7, 11, 15, 10, 13, 1, 4, 2, 2, 2, 13, 2, 2, 2, 2, 44, 2, 25, 12, 11, 6, 2, 20, 3, 17, 6, 19, 5, 1, 2, 1, 10, 13, 36, 7, 7, 3, 2, 2, 2, 12, 23, 12, 8, 6, 3, 4, 22, 16, 17, 13, 3, 1, 1, 1, 1, 5, 1, 1, 1, 18, 3, 2, 13, 1, 9, 47, 1, 4, 6, 4, 13, 11, 7, 1, 3, 1, 3, 7, 1, 28, 11, 1, 1, 3, 4, 2, 2, 1, 5, 8, 1, 28, 1, 2, 7, 1, 8, 7, 1, 25, 1, 26, 5, 5, 2, 1, 3, 5, 45, 6, 15, 11, 2, 2, 3, 11, 4, 12, 6, 7, 1, 2, 2, 3, 1, 1, 11, 3, 3, 1, 5, 2, 14, 31, 1, 1, 5, 1, 4, 17, 5, 2, 4, 13, 16, 13, 22, 19, 49, 7, 1, 6, 9, 7, 14, 3, 8, 6, 3, 1, 3, 13, 4, 10, 9, 1, 6, 4, 6, 22, 10, 1, 7, 1, 4, 2, 2, 6, 13, 5, 13, 5, 1, 7, 4, 4, 1, 7, 10, 6, 4, 50, 9, 1, 7, 26, 1, 5, 21, 1, 48, 17, 20, 1, 72, 9, 23, 7, 1, 10, 4, 1, 19, 4, 6, 5, 2, 3, 4, 2, 7, 1, 6, 13, 16, 1, 19, 3, 11, 5, 4, 3, 2, 27, 6, 2, 6, 8, 1, 9, 23, 4, 27, 2, 20, 13, 13, 5, 2, 3, 30, 34, 8, 16, 10, 5, 1, 4, 4, 14, 9, 1, 3, 31, 7, 1, 3, 1, 19, 4, 1, 21, 12, 36, 45, 7, 35, 5, 15, 12, 1, 1, 16, 2, 12, 8, 1, 8, 4, 9, 5, 31, 9, 12, 1, 24, 18, 26, 24, 7, 1, 2, 7, 2, 16, 2, 20, 26, 13, 3, 2, 17, 16, 1, 1, 1, 3, 8, 3, 13, 13, 16, 9, 13, 19, 6, 4, 42, 4, 9, 1, 4, 4, 1, 4, 10, 9, 6, 3, 1, 7, 22, 8, 1, 13, 11, 10, 4, 14, 13, 3, 4, 24, 2, 1, 1, 5, 8, 4, 2, 7, 2, 20, 8, 5, 6, 8, 9, 1, 5, 6, 21, 3, 1, 2, 6, 14, 5, 4, 8, 2, 1, 46, 12, 8, 7, 26, 2, 2, 1, 7, 7, 13, 2, 12, 9, 5, 39, 5, 1, 16, 5, 18, 6, 1, 3, 11, 5, 3, 1, 8, 5, 2, 13, 2, 30, 2, 5, 20, 12, 1, 1, 3, 9, 8, 8, 12, 2, 1, 1, 4, 10, 1, 4, 1, 3, 1, 1, 8, 7, 28, 9, 3, 1, 11, 32, 7, 3, 15, 2, 10, 2, 14, 12, 7, 4, 10, 9, 2, 4, 21, 2, 51, 2, 19, 8, 38, 12, 2, 11, 1, 2, 1, 9, 1, 10, 2, 5, 10, 1, 17, 4, 4, 4, 2, 17, 10, 3, 6, 2, 2, 21, 13, 15, 1, 12, 1, 10, 3, 6, 3, 2, 4, 19, 17, 22, 20, 1, 13, 4, 17, 6, 6, 13, 9, 26, 27, 2, 3, 6, 15, 20, 7, 41, 4, 1, 1, 16, 11, 18, 17, 1, 7, 1, 10, 1, 2, 9, 6, 2, 4, 1, 10, 3, 4, 2, 3, 6, 2, 3, 5, 2, 1, 4, 32, 3, 3, 2, 1, 4, 1, 1, 10, 2, 14, 22, 18, 3, 2, 3, 1, 12, 20, 5, 4, 1, 5, 1, 2, 16, 11, 1, 1, 9, 20, 1, 1, 6, 6, 5, 3, 1, 1, 4, 6, 24, 2, 5, 3, 6, 1, 1, 12, 1, 7, 4, 1, 1, 12, 12, 2, 6, 2, 14, 9, 7, 6, 12, 1, 2, 1, 2, 2, 21, 4, 13, 8, 8, 4, 17, 7, 2, 6, 4, 2, 19, 4, 2, 8, 1, 9, 3, 12, 2, 7, 8, 9, 5, 3, 4, 20, 4, 5, 18, 44, 1, 4, 6, 1, 21, 57, 9, 26, 9, 1, 1, 6, 7, 7, 3, 11, 6, 3, 12, 2, 2, 4, 12, 10, 32, 6, 2, 2, 2, 7, 6, 10, 13, 1, 3, 31, 3, 32, 20, 7, 6, 15, 2, 6, 2, 6, 10, 1, 18, 16, 5, 10, 30, 5, 2, 2, 7, 3, 8, 2, 3, 14, 1, 11, 13, 6, 3, 13, 11, 3, 1, 8, 1, 3, 2, 1, 3, 19, 6, 19, 4, 30, 2, 48, 13, 55, 22, 3, 3, 6, 5, 42, 9, 3, 3, 5, 12, 1, 2, 5, 2, 2, 2, 1, 1, 3, 24, 10, 3, 2, 59, 3, 7, 6, 1, 8, 4, 6, 4, 11, 5, 43, 2, 5, 17, 4, 2, 11, 3, 24, 3, 18, 17, 4, 2, 5, 6, 3, 11, 1, 5, 3, 6, 1, 12, 9, 5, 1, 3, 4, 27, 27, 3, 2, 3, 9, 6, 21, 15, 1, 7, 1, 2, 8, 3, 19, 1, 1, 3, 2, 12, 6, 7, 15, 2, 2, 13, 1, 7, 4, 2, 35, 19, 4, 2, 1, 12, 6, 2, 10, 16, 27, 1, 3, 4, 4, 22, 15, 13, 15, 14, 18, 5, 2, 10, 3, 9, 1, 4, 7, 16, 20, 36, 2, 23, 4, 2, 13, 5, 8, 2, 2, 1, 2, 1, 1, 1, 5, 5, 8, 6, 3, 6, 26, 5, 19, 6, 11, 2, 1, 11, 13, 1, 2, 12, 20, 10, 2, 7, 20, 5, 7, 13, 2, 1, 7, 12, 11, 5, 34, 5, 11, 11, 5, 4, 28, 3, 1, 7, 72, 15, 8, 11, 6, 22, 1, 4, 36, 8, 1, 1, 3, 3, 3, 15, 1, 1, 2, 7, 10, 4, 4, 3, 2, 7, 4, 5, 4, 1, 22, 3, 8, 6, 17, 1, 1, 7, 1, 7, 12, 50, 23, 2, 16, 7, 36, 2, 2, 6, 7, 1, 1, 28, 1, 2, 2, 4, 7, 11, 8, 45, 6, 6, 32, 18, 1, 15, 8, 3, 1, 2, 1, 10, 1, 1, 11, 12, 12, 1, 1, 6, 4, 1, 3, 2, 26, 3, 1, 9, 20, 2, 8, 3, 2, 1, 2, 1, 5, 4, 6, 4, 20, 5, 1, 1, 4, 3, 8, 3, 3, 5, 4, 9, 1, 1, 1, 5, 3, 1, 86, 17, 2, 23, 3, 1, 4, 2, 4, 5, 2, 1, 5, 6, 24, 2, 10, 32, 9, 1, 38, 40, 2, 10, 13, 14, 2, 3, 8, 9, 2, 1, 1, 4, 1, 1, 1, 3, 5, 1, 3, 50, 2, 1, 14, 3, 5, 2, 1, 19, 2, 9, 19, 2, 2, 2, 6, 2, 8, 2, 2, 5, 3, 6, 14, 4, 2, 15, 29, 2, 2, 5, 10, 6, 5, 2, 64, 1, 10, 6, 2, 12, 7, 2, 2, 8, 1, 9, 1, 11, 1, 7, 2, 6, 8, 2, 30, 23, 11, 3, 10, 23, 6, 2, 1, 22, 3, 25, 7, 6, 1, 1, 1, 12, 1, 9, 3, 3, 37, 9, 17, 18, 12, 8, 3, 4, 4, 2, 24, 4, 1, 11, 2, 1, 1, 4, 7, 10, 9, 5, 24, 1, 21, 8, 10, 1, 1, 2, 3, 9, 4, 1, 3, 5, 27, 2, 38, 8, 7, 12, 28, 16, 3, 3, 8, 9, 16, 15, 6, 10, 7, 1, 2, 4, 6, 12, 16, 35, 9, 1, 5, 5, 15, 3, 2, 3, 3, 1, 12, 4, 2, 5, 3, 1, 2, 2, 1, 1, 4, 4, 6, 9, 5, 2, 2, 2, 8, 22, 14, 1, 2, 11, 1, 18, 7, 20, 2, 4, 1, 11, 1, 17, 1, 4, 12, 11, 11, 1, 4, 5, 11, 3, 9, 2, 14, 29, 1, 6, 2, 3, 1, 6, 11, 7, 20, 57, 1, 9, 1, 21, 14, 8, 7, 34, 6, 12, 19, 3, 23, 22, 1, 1, 1, 1, 1, 4, 21, 24, 16, 13, 2, 12, 24, 4, 3, 1, 6, 1, 42, 5, 12, 10, 15, 1, 5, 8, 2, 2, 4, 7, 6, 17, 5, 14, 19, 23, 6, 1, 2, 19, 11, 5, 18, 5, 19, 24, 1, 2, 8, 5, 18, 10, 5, 2, 1, 2, 3, 2, 2, 6, 15, 7, 9, 1, 3, 8, 1, 45, 34, 9, 16, 7, 4, 12, 16, 7, 8, 1, 3, 1, 6, 18, 1, 8, 8, 1, 10, 2, 5, 24, 5, 4, 15, 7, 1, 50, 7, 1, 4, 2, 1, 2, 8, 3, 4, 2, 6, 32, 19, 48, 7, 19, 19, 3, 14, 1, 4, 4, 2, 19, 11, 4, 1, 1, 2, 1, 12, 7, 1, 10, 4, 16, 1, 1, 21, 12, 4, 9, 19, 9, 11, 10, 7, 30, 2, 2, 6, 3, 4, 11, 2, 4, 4, 27, 12, 33, 1, 1, 19, 2, 3, 16, 15, 6, 1, 3, 5, 2, 4, 1, 4, 1, 16, 21, 7, 12, 3, 4, 4, 5, 1, 2, 10, 4, 3, 4, 1, 1, 2, 2, 2, 5, 5, 22, 2, 2, 7, 1, 4, 2, 1, 1, 6, 12, 21, 40, 1, 3, 1, 10, 5, 3, 1, 14, 3, 31, 4, 1, 11, 3, 6, 2, 2, 2, 1, 1, 2, 9, 5, 7, 2, 6, 5, 3, 11, 1, 28, 1, 5, 1, 5, 2, 7, 12, 1, 26, 4, 9, 10, 12, 1, 15, 6, 1, 1, 5, 12, 3, 6, 6, 1, 4, 5, 1, 2, 2, 5, 5, 29, 2, 3, 9, 4, 2, 3, 7, 1, 2, 1, 15, 6, 8, 2, 2, 4, 1, 5, 1, 2, 3, 25, 14, 1, 20, 6, 6, 17, 16, 10, 2, 9, 14, 11, 1, 3, 2, 11, 1, 3, 1, 6, 3, 10, 1, 2, 9, 1, 9, 4, 4, 4, 23, 1, 25, 1, 10, 3, 8, 17, 18, 6, 1, 2, 4, 18, 2, 1, 2, 2, 15, 1, 2, 16, 5, 8, 6, 1, 31, 7, 2, 1, 5, 26, 14, 163, 35, 3, 21, 6, 9, 1, 5, 3, 9, 8, 1, 4, 1, 3, 1, 6, 9, 9, 4, 5, 2, 1, 1, 1, 4, 17, 17, 3, 2, 2, 1, 11, 6, 1, 3, 27, 2, 3, 7, 24, 30, 1, 12, 22, 52, 22, 3, 10, 3, 34, 5, 7, 1, 4, 3, 55, 10, 1, 11, 11, 5, 2, 8, 2, 5, 3, 2, 25, 3, 5, 6, 26, 62, 13, 1, 2, 3, 1, 6, 5, 9, 10, 2, 53, 3, 6, 3, 2, 1, 5, 10, 2, 7, 1, 34, 5, 15, 1, 14, 13, 21, 11, 17, 5, 4, 5, 3, 3, 28, 8, 11, 1, 23, 8, 12, 12, 18, 1, 1, 2, 2, 29, 1, 13, 2, 38, 48, 12, 18, 4, 3, 2, 3, 4, 5, 2, 2, 4, 34, 18, 6, 3, 5, 3, 4, 3, 5, 10, 17, 8, 13, 5, 6, 3, 18, 13, 1, 27, 8, 4, 6, 2, 2, 2, 4, 2, 23, 3, 7, 60, 2, 8, 37, 3, 20, 2, 44, 17, 6, 5, 12, 3, 2, 6, 2, 3, 6, 2, 2, 2, 1, 9, 14, 1, 1, 1, 2, 2, 1, 2, 9, 3, 1, 8, 2, 1, 28, 23, 1, 10, 3, 7, 6, 2, 5, 1, 24, 16, 4, 1, 1, 3, 2, 3, 4, 4, 8, 2, 6, 1, 13, 1, 3, 3, 6, 21, 10, 7, 3, 6, 28, 13, 8, 2, 1, 7, 2, 13, 8, 7, 2, 1, 1, 1, 8, 1, 13, 3, 1, 1, 1, 38, 2, 24, 11, 14, 18, 17, 11, 3, 14, 1, 25, 5, 1, 1, 2, 1, 2, 17, 3, 10, 11, 1, 1, 4, 2, 2, 11, 4, 1, 1, 2, 1, 5, 12, 1, 12, 4, 32, 2, 1, 1, 1, 9, 1, 1, 5, 5, 3, 13, 1, 44, 1, 10, 10, 4, 20, 10, 3, 1, 1, 7, 80, 3, 8, 10, 2, 20, 1, 11, 4, 1, 1, 8, 3, 36, 7, 2, 7, 12, 12, 15, 16, 1, 3, 3, 5, 9, 1, 1, 1, 1, 14, 8, 6, 2, 19, 15, 15, 9, 31, 2, 2, 6, 1, 1, 14, 3, 1, 3, 10, 6, 6, 4, 4, 4, 33, 3, 4, 4, 19, 47, 1, 10, 41, 1, 1, 10, 12, 1, 8, 5, 5, 2, 8, 5, 4, 1, 24, 3, 10, 2, 2, 4, 12, 17, 33, 10, 1, 1, 1, 1, 3, 3, 27, 1, 8, 3, 6, 4, 7, 10, 5, 5, 9, 1, 1, 5, 4, 11, 22, 1, 12, 6, 3, 3, 12, 7, 2, 5, 3, 5, 1, 3, 11, 10, 4, 3, 4, 1, 29, 2, 20, 1, 1, 1, 2, 3, 10, 4, 5, 9, 3, 3, 6, 1, 9, 2, 8, 3, 4, 29, 22, 5, 5, 12, 1, 4, 2, 8, 9, 2, 9, 7, 24, 15, 6, 28, 11, 8, 2, 2, 16, 1, 7, 10, 7, 2, 1, 1, 12, 4, 2, 20, 3, 2, 1, 4, 5, 1, 7, 16, 2, 1, 4, 3, 7, 1, 1, 4, 13, 1, 12, 1, 1, 11, 1, 1, 5, 5, 34, 5, 125, 2, 1, 4, 18, 9, 3, 5, 7, 3, 1, 5, 12, 12, 2, 2, 4, 9, 6, 5, 10, 2, 12, 3, 11, 36, 4, 8, 20, 11, 1, 14, 7, 1, 3, 37, 2, 9, 8, 5, 8, 1, 10, 5, 2, 2, 2, 11, 3, 6, 1, 1, 1, 6, 5, 5, 10, 2, 10, 1, 18, 4, 4, 2, 1, 13, 4, 2, 1, 1, 1, 4, 24, 2, 10, 1, 3, 11, 20, 3, 3, 9, 2, 2, 2, 1, 8, 1, 2, 1, 16, 18, 7, 1, 3, 31, 10, 7, 11, 17, 2, 13, 2, 9, 14, 5, 4, 5, 14, 8, 11, 3, 4, 13, 8, 2, 4, 4, 10, 17, 6, 30, 17, 2, 10, 3, 14, 7, 15, 6, 3, 1, 8, 15, 2, 1, 3, 12, 3, 13, 8, 1, 4, 4, 1, 37, 1, 4, 12, 1, 10, 13, 2, 1, 8, 3, 31, 2, 6, 1, 1, 1, 1, 1, 1, 13, 8, 2, 3, 8, 5, 3, 23, 5, 8, 15, 4, 8, 7, 12, 14, 1, 5, 7, 12, 16, 1, 1, 3, 1, 39, 9, 21, 9, 1, 1, 1, 44, 8, 9, 1, 1, 3, 4, 1, 1, 1, 1, 1, 5, 5, 1, 3, 45, 9, 2, 20, 40, 2, 5, 2, 10, 1, 8, 1, 4, 11, 4, 3, 1, 4, 10, 13, 21, 5, 8, 1, 1, 7, 1, 1, 4, 9, 1, 8, 3, 38, 3, 17, 1, 14, 18, 15, 9, 3, 3, 3, 11, 10, 12, 3, 5, 1, 2, 10, 9, 1, 2, 19, 25, 2, 4, 6, 1, 4, 6, 15, 14, 12, 4, 11, 6, 1, 16, 2, 9, 9, 1, 2, 1, 3, 1, 5, 1, 17, 7, 1, 1, 8, 10, 1, 10, 11, 6, 1, 2, 3, 2, 11, 2, 1, 2, 8, 1, 2, 2, 3, 16, 3, 1, 14, 1, 1, 6, 2, 10, 1, 1, 2, 4, 6, 2, 5, 1, 9, 9, 1, 11, 1, 1, 19, 4, 15, 5, 4, 3, 24, 1, 6, 7, 3, 8, 3, 8, 3, 1, 6, 1, 5, 2, 8, 32, 12, 2, 1, 29, 9, 1, 8, 3, 7, 3, 1, 29, 47, 23, 9, 3, 1, 11, 10, 5, 10, 1, 1, 5, 11, 4, 1, 5, 3, 3, 9, 12, 3, 12, 8, 34, 5, 23, 25, 6, 17, 24, 6, 2, 9, 7, 4, 4, 4, 2, 6, 1, 14, 2, 8, 19, 1, 2, 2, 1, 15, 5, 6, 11, 20, 9, 8, 1, 13, 7, 1, 2, 1, 1, 13, 3, 23, 4, 4, 3, 4, 1, 10, 13, 6, 4, 4, 5, 7, 1, 1, 27, 6, 3, 2, 5, 7, 5, 1, 2, 12, 12, 3, 5, 5, 1, 2, 2, 8, 1, 12, 3, 5, 8, 7, 1, 3, 19, 1, 8, 3, 29, 15, 3, 7, 4, 18, 9, 11, 13, 2, 4, 3, 3, 1, 5, 1, 11, 4, 12, 9, 5, 2, 6, 2, 10, 3, 3, 2, 28, 5, 15, 3, 17, 14, 9, 2, 4, 7, 14, 6, 9, 3, 6, 1, 21, 6, 12, 10, 3, 17, 13, 9, 5, 13, 4, 2, 18, 2, 3, 7, 2, 3, 9, 2, 7, 12, 3, 7, 1, 7, 1, 2, 5, 15, 5, 6, 11, 2, 2, 2, 18, 2, 1, 2, 2, 7, 1, 10, 45, 6, 10, 1, 2, 4, 1, 17, 1, 1, 30, 8, 1, 4, 1, 1, 15, 4, 4, 11, 3, 15, 1, 3, 35, 5, 13, 2, 10, 16, 20, 31, 4, 1, 9, 2, 2, 23, 6, 3, 12, 12, 3, 4, 16, 1, 4, 17, 3, 4, 6, 2, 2, 38, 30, 6, 2, 2, 3, 6, 3, 2, 3, 6, 9, 43, 14, 2, 2, 8, 2, 12, 5, 8, 1, 1, 9, 1, 2, 6, 4, 4, 8, 7, 1, 1, 2, 27, 13, 17, 11, 5, 1, 3, 1, 21, 1, 5, 1, 2, 5, 1, 8, 4, 13, 8, 2, 1, 23, 1, 24, 5, 6, 7, 1, 7, 18, 5, 5, 11, 1, 2, 1, 18, 1, 6, 3, 1, 1, 4, 11, 4, 2, 3, 22, 1, 3, 1, 38, 11, 4, 1, 3, 2, 19, 2, 1, 19, 2, 7, 7, 4, 27, 12, 1, 13, 17, 9, 3, 2, 6, 5, 2, 6, 3, 13, 1, 3, 1, 14, 3, 11, 7, 1, 3, 1, 3, 16, 2, 6, 3, 3, 2, 38, 2, 10, 3, 5, 5, 4, 3, 1, 1, 8, 8, 1, 1, 2, 1, 9, 4, 13, 9, 1, 8, 13, 11, 1, 14, 10, 11, 3, 3, 4, 3, 4, 1, 10, 20, 2, 2, 3, 4, 7, 1, 6, 13, 9, 1, 3, 3, 9, 8, 6, 22, 22, 1, 12, 5, 1, 2, 3, 3, 12, 6, 1, 5, 2, 2, 1, 18, 14, 13, 1, 2, 3, 2, 1, 4, 22, 25, 3, 4, 5, 7, 1, 2, 1, 2, 28, 15, 2, 3, 3, 2, 1, 2, 17, 1, 6, 17, 2, 2, 5, 1, 1, 2, 1, 2, 18, 7, 20, 2, 17, 7, 3, 3, 4, 18, 1, 2, 1, 1, 1, 2, 25, 2, 14, 2, 6, 2, 4, 11, 6, 5, 8, 5, 3, 10, 4, 4, 2, 3, 3, 5, 3, 8, 2, 2, 2, 2, 2, 2, 5, 8, 8, 2, 2, 12, 5, 6, 5, 3, 2, 4, 2, 4, 3, 4, 10, 10, 8, 8, 15, 21, 8, 8, 3, 4, 6, 23, 2, 1, 1, 3, 1, 2, 1, 2, 5, 4, 10, 11, 12, 4, 15, 1, 1, 3, 21, 2, 1, 2, 7, 9, 8, 8, 2, 3, 1, 4, 4, 3, 4, 3, 9, 5, 3, 2, 2, 4, 4, 19, 14, 4, 1, 1, 4, 48, 6, 15, 1, 2, 9, 5, 5, 3, 11, 1, 1, 2, 1, 5, 1, 2, 2, 6, 2, 8, 6, 12, 6, 6, 5, 2, 25, 30, 8, 1, 8, 9, 25, 4, 9, 3, 1, 1, 11, 11, 1, 1, 4, 17, 1, 10, 1, 1, 5, 6, 8, 1, 19, 1, 1, 13, 9, 11, 1, 1, 30, 18, 1, 9, 1, 1, 1, 1, 19, 9, 30, 48, 12, 5, 7, 2, 1, 4, 11, 1, 1, 4, 8, 3, 1, 1, 2, 3, 5, 1, 3, 10, 3, 18, 15, 1, 1, 7, 9, 1, 3, 1, 9, 5, 2, 4, 50, 3, 1, 10, 1, 3, 1, 5, 20, 1, 3, 3, 3, 4, 14, 5, 4, 10, 2, 1, 4, 2, 11, 15, 2, 1, 2, 3, 1, 7, 7, 1, 1, 1, 7, 1, 3, 6, 2, 5, 5, 2, 1, 2, 9, 6, 10, 1, 9, 2, 1, 1, 18, 2, 4, 3, 3, 1, 4, 1, 1, 31, 1, 25, 3, 5, 10, 14, 14, 2, 2, 5, 1, 3, 1, 24, 3, 2, 9, 3, 4, 3, 19, 1, 2, 2, 13, 9, 3, 3, 3, 3, 2, 40, 2, 13, 1, 5, 1, 7, 4, 12, 20, 20, 8, 13, 6, 3, 3, 5, 8, 6, 4, 5, 2, 1, 2, 7, 16, 1, 8, 3, 32, 3, 1, 1, 3, 1, 8, 30, 31, 1, 5, 23, 7, 10, 1, 26, 6, 4, 1, 9, 7, 9, 1, 1, 20, 1, 5, 2, 13, 29, 1, 2, 2, 1, 3, 22, 1, 5, 2, 8, 2, 8, 3, 2, 3, 1, 2, 1, 4, 15, 1, 4, 2, 1, 2, 4, 3, 17, 1, 4, 4, 1, 8, 4, 3, 1, 1, 5, 3, 6, 1, 4, 3, 1, 3, 1, 2, 1, 1, 6, 3, 3, 2, 2, 3, 41, 6, 4, 2, 12, 6, 2, 2, 13, 9, 1, 1, 9, 4, 6, 5, 2, 4, 4, 18, 12, 3, 3, 16, 8, 13, 17, 1, 1, 4, 20, 6, 1, 2, 1, 14, 2, 1, 4, 1, 2, 1, 4, 3, 4, 1, 5, 1, 9, 46, 1, 1, 8, 2, 2, 2, 1, 3, 2, 1, 1, 6, 11, 5, 4, 5, 1, 1, 1, 7, 1, 2, 1, 2, 1, 7, 4, 1, 8, 22, 6, 2, 3, 1, 21, 1, 1, 1, 2, 9, 3, 12, 2, 4, 8, 2, 4, 12, 8, 1, 1, 7, 4, 7, 8, 1, 1, 3, 4, 5, 5, 5, 18, 1, 3, 3, 2, 10, 8, 9, 2, 13, 1, 1, 1, 7, 12, 14, 10, 1, 1, 8, 5, 1, 11, 2, 1, 1, 1, 3, 2, 4, 4, 6, 3, 5, 2, 3, 3, 4, 10, 7, 3, 5, 2, 4, 5, 25, 9, 24, 4, 10, 20, 1, 8, 1, 4, 1, 5, 17, 80, 16, 2, 4, 3, 8, 4, 6, 3, 1, 5, 1, 22, 1, 2, 1, 2, 35, 2, 1, 33, 2, 3, 1, 1, 1, 11, 1, 3, 1, 4, 2, 2, 3, 2, 1, 16, 1, 1, 4, 6, 1, 10, 7, 8, 2, 5, 1, 4, 5, 1, 9, 8, 2, 2, 15, 6, 9, 1, 8, 9, 5, 11, 12, 2, 8, 2, 6, 15, 6, 1, 11, 4, 2, 11, 10, 14, 4, 12, 2, 3, 1, 2, 15, 6, 5, 5, 1, 2, 3, 15, 10, 2, 1, 1, 3, 2, 6, 4, 4, 2, 12, 3, 3, 4, 6, 3, 4, 2, 2, 4, 14, 5, 7, 4, 2, 1, 1, 17, 7, 10, 12, 2, 5, 1, 8, 4, 1, 7, 13, 1, 2, 4, 2, 4, 5, 3, 1, 1, 6, 15, 2, 3, 2, 4, 1, 2, 5, 4, 4, 6, 12, 2, 17, 16, 1, 5, 4, 21, 4, 13, 1, 3, 9, 4, 1, 8, 16, 4, 5, 2, 1, 2, 1, 7, 1, 11, 4, 8, 2, 9, 8, 14, 4, 1, 3, 1, 1, 1, 1, 10, 10, 6, 10, 5, 8, 1, 1, 5, 12, 9, 1, 2, 6, 3, 3, 1, 7, 3, 2, 16, 5, 4, 1, 23, 19, 5, 1, 1, 2, 12, 14, 35, 20, 1, 1, 8, 10, 1, 5, 3, 16, 5, 1, 1, 5, 4, 10, 8, 4, 2, 4, 1, 12, 1, 1, 1, 4, 1, 1, 7, 11, 2, 6, 22, 1, 2, 3, 4, 7, 3, 5, 1, 4, 6, 6, 4, 2, 6, 17, 7, 2, 2, 1, 9, 1, 8, 10, 6, 3, 9, 4, 5, 9, 5, 15, 3, 6, 2, 2, 6, 7, 28, 1, 1, 1, 7, 2, 2, 2, 13, 13, 19, 3, 9, 2, 7, 3, 7, 16, 2, 11, 7, 6, 6, 5, 13, 1, 5, 1, 4, 1, 6, 4, 2, 7, 1, 2, 1, 5, 5, 1, 1, 6, 1, 1, 5, 34, 14, 18, 4, 4, 15, 1, 2, 1, 8, 30, 1, 1, 1, 11, 6, 10, 7, 19, 11, 1, 1, 19, 3, 9, 11, 10, 3, 4, 3, 2, 1, 1, 1, 2, 15, 5, 2, 3, 4, 1, 17, 1, 10, 4, 1, 5, 3, 7, 11, 7, 1, 4, 1, 1, 4, 1, 1, 2, 4, 2, 9, 2, 11, 3, 1, 2, 1, 1, 2, 4, 3, 1, 2, 3, 16, 6, 4, 3, 21, 5, 1, 10, 27, 18, 9, 4, 13, 10, 3, 1, 1, 1, 3, 2, 4, 3, 1, 4, 1, 8, 8, 2, 2, 6, 1, 1, 15, 24, 17, 3, 16, 1, 1, 14, 8, 15, 3, 3, 3, 4, 1, 4, 1, 2, 3, 4, 5, 5, 25, 36, 1, 2, 19, 6, 8, 5, 10, 5, 5, 6, 3, 12, 7, 6, 12, 1, 3, 4, 1, 8, 12, 7, 20, 5, 2, 1, 19, 16, 4, 15, 1, 2, 10, 8, 1, 5, 7, 7, 1, 3, 4, 2, 11, 4, 4, 3, 1, 15, 1, 4, 11, 1, 8, 4, 1, 2, 15, 19, 26, 6, 1, 3, 5, 1, 5, 13, 4, 9, 4, 15, 2, 1, 16, 4, 1, 3, 1, 4, 6, 6, 17, 5, 2, 2, 5, 1, 5, 4, 8, 2, 7, 1, 10, 6, 5, 8, 1, 1, 1, 28, 9, 1, 1, 5, 5, 1, 1, 2, 2, 2, 2, 1, 20, 3, 4, 5, 1, 5, 2, 2, 7, 5, 5, 12, 1, 4, 1, 1, 4, 1, 1, 1, 1, 3, 2, 18, 2, 18, 3, 4, 7, 7, 16, 1, 2, 5, 6, 1, 41, 1, 3, 3, 1, 2, 2, 4, 7, 6, 5, 2, 12, 5, 2, 2, 10, 10, 8, 8, 1, 1, 4, 34, 14, 34, 3, 7, 9, 3, 6, 7, 31, 8, 11, 3, 4, 39, 5, 6, 12, 6, 6, 4, 2, 12, 5, 8, 12, 1, 2, 3, 2, 21, 4, 21, 2, 2, 14, 3, 1, 2, 2, 1, 4, 6, 5, 2, 1, 1, 20, 3, 3, 6, 6, 3, 12, 9, 5, 8, 4, 3, 11, 3, 1, 14, 7, 11, 7, 5, 4, 4, 8, 9, 2, 3, 1, 1, 3, 3, 1, 4, 1, 5, 19, 1, 4, 9, 1, 17, 5, 6, 1, 1, 1, 1, 3, 2, 1, 7, 2, 29, 10, 2, 3, 3, 7, 1, 1, 5, 22, 2, 3, 1, 1, 4, 4, 2, 18, 1, 3, 6, 1, 1, 4, 12, 1, 1, 1, 6, 5, 6, 1, 7, 8, 12, 5, 1, 8, 1, 2, 1, 5, 1, 4, 2, 4, 3, 1, 3, 4, 1, 7, 17, 7, 21, 4, 6, 4, 1, 2, 35, 23, 2, 12, 4, 12, 6, 1, 4, 4, 1, 7, 1, 9, 3, 4, 7, 3, 9, 2, 9, 1, 11, 1, 9, 1, 1, 17, 13, 2, 8, 6, 8, 14, 4, 7, 3, 1, 1, 1, 8, 2, 3, 8, 1, 1, 1, 2, 3, 4, 1, 1, 13, 1, 10, 1, 10, 1, 1, 5, 1, 2, 9, 2, 2, 7, 15, 3, 3, 1, 10, 7, 1, 4, 4, 2, 9, 3, 6, 6, 3, 7, 3, 6, 6, 7, 6, 1, 4, 10, 12, 7, 3, 5, 3, 5, 1, 11, 19, 2, 16, 1, 3, 1, 2, 10, 5, 5, 1, 11, 4, 1, 2, 1, 18, 3, 1, 4, 1, 4, 4, 11, 1, 1, 1, 2, 11, 2, 2, 1, 10, 1, 2, 1, 3, 1, 3, 1, 1, 2, 3, 13, 8, 4, 3, 23, 2, 9, 2, 6, 15, 3, 39, 2, 9, 2, 11, 11, 26, 1, 5, 9, 3, 4, 7, 1, 1, 2, 5, 1, 1, 5, 8, 7, 3, 2, 13, 3, 1, 1, 2, 15, 14, 16, 5, 1, 15, 3, 3, 1, 7, 1, 1, 4, 2, 3, 8, 2, 1, 1, 5, 1, 5, 7, 8, 1, 2, 1, 1, 2, 7, 6, 1, 16, 7, 1, 3, 10, 14, 2, 4, 6, 1, 1, 7, 1, 4, 5, 15, 1, 8, 2, 2, 1, 1, 4, 1, 1, 1, 5, 1, 7, 3, 4, 8, 4, 1, 2, 1, 2, 8, 1, 1, 2, 17, 5, 2, 1, 6, 4, 2, 7, 2, 8, 4, 2, 1, 3, 11, 7, 3, 2, 3, 3, 2, 1, 10, 1, 1, 9, 3, 3, 1, 1, 5, 3, 1, 2, 1, 3, 3, 35, 6, 2, 7, 1, 1, 1, 1, 9, 2, 11, 3, 10, 1, 1, 1, 3, 2, 2, 26, 1, 8, 5, 15, 14, 1, 2, 1, 4, 1, 7, 2, 7, 3, 4, 4, 5, 9, 1, 1, 3, 4, 5, 13, 2, 5, 2, 1, 1, 7, 3, 5, 1, 1, 5, 1, 31, 4, 4, 2, 4, 21, 3, 1, 3, 3, 2, 6, 7, 3, 31, 31, 1, 1, 5, 1, 13, 14, 5, 7, 1, 1, 8, 2, 1, 2, 1, 3, 3, 1, 1, 12, 1, 1, 4, 6, 6, 10, 1, 1, 1, 6, 10, 3, 14, 11, 1, 3, 2, 1, 1, 7, 3, 24, 1, 11, 2, 2, 1, 5, 22, 1, 2, 7, 1, 4, 9, 1, 3, 4, 24, 3, 10, 8, 5, 9, 1, 1, 6, 3, 1, 6, 4, 11, 13, 2, 3, 11, 2, 6, 9, 7, 22, 19, 4, 14, 14, 19, 2, 3, 3, 1, 10, 1, 1, 1, 1, 1, 7, 1, 7, 1, 4, 1, 4, 1, 1, 19, 6, 5, 13, 4, 14, 13, 11, 20, 9, 9, 3, 9, 2, 16, 5, 1, 2, 8, 4, 6, 3, 10, 22, 9, 2, 1, 29, 7, 3, 3, 3, 4, 14, 1, 9, 1, 5, 10, 6, 3, 2, 5, 8, 4, 3, 12, 19, 18, 6, 5, 1, 1, 6, 9, 3, 1, 11, 1, 3, 2, 8, 18, 1, 16, 1, 8, 12, 9, 4, 2, 8, 9, 1, 3, 12, 3, 11, 5, 32, 2, 2, 8, 4, 1, 4, 24, 7, 13, 16, 1, 3, 4, 4, 1, 15, 2, 4, 23, 2, 25, 16, 3, 15, 4, 6, 8, 1, 10, 2, 1, 23, 8, 11, 1, 3, 4, 4, 3, 1, 7, 1, 7, 2, 2, 4, 6, 1, 1, 2, 10, 1, 1, 1, 2, 2, 4, 1, 2, 6, 4, 1, 4, 23, 3, 3, 2, 4, 26, 4, 1, 2, 5, 1, 1, 1, 1, 3, 3, 6, 1, 7, 4, 1, 9, 1, 21, 1, 6, 2, 9, 1, 3, 1, 1, 13, 1, 8, 3, 4, 7, 2, 9, 13, 1, 19, 6, 1, 5, 1, 7, 7, 2, 5, 2, 9, 1, 6, 1, 2, 7, 11, 11, 5, 1, 8, 8, 4, 11, 8, 3, 9, 9, 2, 1, 6, 2, 1, 5, 3, 1, 1, 4, 4, 5, 1, 2, 1, 2, 5, 5, 1, 2, 3, 9, 21, 1, 9, 32, 4, 1, 19, 2, 3, 6, 3, 3, 3, 1, 7, 1, 2, 2, 8, 2, 12, 2, 4, 2, 2, 4, 2, 31, 13, 8, 5, 23, 5, 24, 5, 1, 4, 1, 7, 6, 3, 2, 2, 1, 6, 11, 2, 4, 2, 1, 8, 22, 4, 5, 2, 2, 15, 9, 2, 3, 5, 3, 13, 10, 1, 12, 3, 4, 1, 5, 2, 2, 4, 2, 1, 1, 13, 4, 1, 3, 6, 3, 1, 6, 3, 4, 1, 3, 1, 1, 1, 1, 5, 1, 7, 1, 15, 1, 2, 1, 18, 6, 3, 8, 1, 2, 6, 9, 2, 3, 2, 6, 14, 4, 2, 5, 29, 1, 1, 6, 12, 2, 1, 3, 2, 3, 1, 1, 2, 9, 6, 1, 1, 1, 10, 5, 1, 1, 10, 1, 4, 1, 3, 1, 2, 27, 11, 3, 2, 3, 2, 1, 1, 1, 3, 2, 1, 19, 13, 1, 7, 4, 4, 8, 9, 22, 1, 1, 3, 2, 6, 1, 3, 2, 2, 1, 2, 7, 4, 1, 7, 3, 12, 14, 3, 2, 3, 1, 2, 6, 7, 1, 1, 1, 1, 6, 5, 4, 5, 6, 1, 3, 6, 3, 1, 7, 1, 5, 3, 1, 6, 2, 3, 1, 1, 9, 3, 7, 1, 3, 1, 28, 7, 4, 2, 7, 3, 8, 7, 1, 3, 16, 4, 10, 1, 1, 2, 4, 5, 4, 1, 3, 1, 5, 7, 3, 2, 2, 6, 1, 1, 1, 8, 2, 20, 6, 10, 4, 23, 16, 17, 9, 2, 10, 2, 2, 5, 7, 1, 12, 1, 3, 2, 9, 2, 1, 4, 2, 12, 1, 1, 5, 1, 1, 2, 10, 3, 4, 20, 7, 2, 1, 1, 3, 3, 2, 10, 18, 1, 5, 1, 6, 3, 14, 3, 12, 1, 2, 7, 5, 1, 10, 5, 10, 3, 2, 8, 9, 5, 2, 13, 4, 1, 1, 6, 1, 3, 21, 6, 1, 2, 4, 9, 4, 10, 11, 2, 3, 4, 1, 10, 4, 7, 4, 2, 3, 2, 1, 1, 4, 6, 5, 4, 2, 3, 1, 10, 4, 1, 20, 6, 3, 5, 8, 8, 9, 4, 3, 3, 2, 4, 5, 6, 10, 6, 13, 1, 1, 1, 3, 3, 11, 14, 4, 2, 2, 8, 10, 4, 9, 1, 6, 9, 2, 7, 1, 7, 4, 5, 1, 3, 4, 2, 14, 1, 3, 14, 6, 1, 1, 7, 2, 1, 1, 1, 2, 4, 3, 3, 8, 14, 1, 4, 3, 8, 1, 1, 1, 2, 2, 1, 1, 19, 5, 4, 3, 1, 14, 18, 1, 1, 7, 9, 3, 14, 1, 1, 4, 1, 1, 2, 1, 5, 7, 9, 6, 9, 2, 7, 2, 1, 1, 1, 5, 4, 3, 8, 1, 2, 1, 2, 1, 4, 11, 12, 2, 1, 7, 7, 7, 1, 5, 12, 12, 5, 2, 2, 7, 9, 7, 24, 1, 1, 2, 3, 5, 5, 2, 5, 22, 5, 1, 1, 9, 5, 1, 14, 1, 11, 4, 8, 8, 6, 2, 2, 1, 2, 8, 8, 1, 1, 1, 1, 2, 2, 2, 5, 1, 2, 1, 1, 8, 4, 9, 6, 18, 12, 2, 3, 5, 1, 2, 3, 4, 1, 1, 21, 8, 1, 2, 1, 1, 1, 6, 1, 13, 2, 3, 1, 3, 1, 2, 2, 3, 7, 1, 3, 1, 5, 1, 1, 10, 4, 2, 2, 3, 2, 2, 7, 5, 12, 1, 1, 6, 3, 3, 3, 5, 2, 4, 3, 4, 5, 11, 1, 23, 2, 3, 5, 3, 5, 2, 1, 7, 1, 6, 4, 8, 3, 4, 10, 1, 14, 2, 4, 2, 18, 1, 1, 1, 1, 9, 4, 1, 7, 1, 4, 3, 1, 9, 9, 20, 2, 2, 1, 2, 2, 2, 1, 3, 13, 4, 5, 1, 8, 5, 4, 5, 6, 1, 1, 8, 23, 16, 1, 6, 1, 9, 1, 1, 1, 6, 3, 1, 4, 8, 1, 15, 4, 5, 6, 2, 1, 3, 6, 1, 1, 8, 24, 7, 4, 7, 26, 5, 4, 3, 2, 12, 4, 2, 3, 1, 15, 31, 11, 6, 5, 2, 2, 1, 1, 1, 2, 1, 2, 4, 8, 1, 3, 5, 1, 1, 2, 1, 4, 8, 3, 1, 2, 4, 9, 2, 3, 1, 2, 4, 1, 1, 13, 24, 2, 6, 1, 7, 13, 4, 6, 6, 3, 1, 2, 2, 2, 1, 3, 29, 9, 14, 7, 25, 1, 1, 7, 4, 1, 20, 8, 5, 3, 1, 2, 4, 1, 7, 7, 3, 7, 13, 4, 1, 5, 2, 4, 1, 1, 1, 4, 12, 2, 5, 10, 4, 2, 11, 1, 13, 8, 1, 1, 7, 11, 9, 5, 1, 3, 7, 4, 1, 4, 4, 15, 1, 12, 1, 6, 1, 3, 2, 1, 3, 7, 2, 9, 8, 1, 1, 1, 13, 5, 11, 5, 3, 1, 1, 1, 1, 1, 3, 1, 2, 3, 6, 2, 1, 1, 1, 1, 1, 2, 1, 1, 1, 8, 1, 1, 1, 1, 3, 1, 1, 1, 1, 2, 3, 2, 1, 3, 7, 2, 2, 2, 1, 13, 2, 1, 8, 4, 19, 2, 1, 12, 4, 12, 1, 1, 1, 6, 4, 2, 1, 5, 1, 2, 2, 36, 12, 2, 17, 2, 3, 4, 4, 4, 26, 3, 2, 5, 6, 21, 3, 8, 2, 5, 5, 2, 5, 3, 2, 3, 2, 3, 2, 10, 2, 6, 10, 2, 2, 2, 2, 15, 18, 2, 3, 3, 2, 5, 5, 3, 3, 4, 5, 11, 2, 11, 2, 1, 6, 25, 6, 4, 3, 2, 2, 2, 7, 6, 1, 11, 8, 1, 1, 5, 8, 1, 8, 2, 26, 2, 6, 1, 4, 4, 1, 7, 4, 2, 3, 6, 4, 1, 14, 4, 17, 6, 7, 2, 8, 1, 1, 1, 1, 2, 3, 1, 13, 4, 7, 8, 2, 7, 2, 10, 3, 2, 1, 1, 7, 1, 3, 10, 1, 3, 7, 9, 8, 2, 1, 2, 3, 3, 4, 8, 1, 1, 1, 1, 4, 7, 7, 1, 1, 1, 1, 1, 7, 1, 3, 2, 4, 1, 1, 1, 2, 2, 4, 1, 32, 7, 3, 10, 1, 6, 6, 6, 7, 3, 1, 2, 8, 2, 4, 1, 6, 2, 3, 1, 4, 6, 6, 4, 2, 3, 3, 7, 3, 1, 10, 1, 1, 19, 22, 11, 1, 5, 1, 1, 3, 1, 4, 4, 6, 7, 5, 7, 1, 6, 3, 2, 6, 2, 1, 4, 2, 11, 10, 2, 2, 7, 1, 1, 2, 11, 2, 1, 2, 1, 3, 2, 12, 8, 2, 2, 1, 5, 1, 1, 3, 2, 7, 14, 2, 1, 1, 1, 1, 3, 3, 3, 7, 1, 2, 18, 13, 3, 3, 4, 2, 2, 3, 11, 6, 1, 1, 1, 1, 3, 2, 2, 5, 27, 1, 2, 1, 1, 1, 4, 6, 3, 7, 8, 1, 3, 1, 3, 6, 2, 3, 8, 3, 3, 7, 25, 2, 15, 4, 3, 11, 3, 1, 4, 2, 1, 1, 4, 2, 2, 1, 4, 6, 2, 1, 4, 2, 1, 4, 2, 2, 1, 7, 5, 3, 2, 3, 3, 8, 11, 1, 1, 1, 3, 3, 3, 9, 19, 1, 3, 6, 5, 4, 2, 10, 2, 4, 5, 1, 17, 1, 3, 6, 2, 1, 1, 7, 2, 8, 5, 1, 1, 3, 5, 1, 4, 5, 1, 1, 2, 5, 2, 25, 1, 1, 10, 1, 2, 3, 1, 4, 6, 2, 1, 8, 1, 52, 1, 1, 7, 1, 4, 17, 1, 1, 3, 1, 1, 8, 3, 1, 1, 9, 6, 1, 11, 3, 1, 1, 4, 3, 1, 2, 5, 3, 4, 1, 4, 2, 3, 6, 2, 1, 13, 2, 1, 2, 7, 7, 2, 7, 12, 2, 1, 1, 6, 2, 2, 1, 3, 2, 17, 6, 2, 6, 10, 3, 37, 8, 6, 20, 1, 1, 2, 2, 2, 2, 3, 1, 5, 2, 1, 2, 9, 1, 1, 7, 3, 10, 5, 3, 1, 8, 2, 1, 1, 3, 16, 1, 1, 1, 1, 1, 4, 4, 7, 2, 1, 1, 5, 4, 1, 19, 2, 1, 6, 1, 6, 1, 4, 3, 7, 5, 2, 3, 2, 5, 7, 3, 1, 6, 4, 25, 8, 1, 6, 1, 2, 1, 3, 5, 2, 1, 4, 11, 1, 5, 1, 1, 19, 1, 1, 34, 1, 1, 1, 8, 3, 7, 3, 4, 2, 3, 9, 2, 1, 8, 5, 4, 1, 1, 10, 2, 2, 2, 2, 1, 4, 5, 2, 7, 6, 3, 9, 1, 9, 3, 18, 2, 1, 1, 16, 1, 2, 1, 1, 4, 3, 3, 5, 4, 1, 1, 5, 2, 4, 2, 29, 7, 10, 1, 1, 2, 4, 2, 6, 8, 4, 10, 3, 4, 4, 6, 3, 3, 2, 38, 5, 10, 2, 3, 2, 1, 5, 7, 1, 2, 1, 2, 1, 1, 1, 1, 29, 5, 11, 2, 4, 7, 13, 8, 4, 1, 1, 2, 2, 1, 3, 2, 2, 11, 7, 1, 2, 2, 7, 3, 2, 6, 2, 3, 2, 1, 1, 1, 1, 4, 4, 1, 6, 1, 4, 1, 1, 1, 1, 7, 7, 7, 19, 3, 1, 4, 4, 1, 6, 8, 11, 2, 19, 1, 4, 5, 3, 1, 2, 3, 3, 4, 4, 2, 2, 1, 2, 1, 5, 3, 1, 3, 6, 10, 14, 1, 2, 1, 1, 3, 3, 1, 1, 1, 8, 1, 1, 4, 1, 1, 3, 2, 3, 3, 1, 1, 3, 2, 3, 4, 2, 7, 11, 7, 1, 6, 3, 2, 4, 3, 2, 4, 7, 4, 4, 1, 11, 3, 2, 3, 6, 2, 8, 1, 9, 4, 3, 2, 9, 13, 3, 1, 2, 9, 3, 2, 5, 2, 8, 2, 19, 1, 3, 2, 2, 21, 8, 1, 4, 1, 1, 6, 4, 3, 1, 2, 2, 1, 2, 1, 1, 1, 1, 3, 1, 1, 1, 7, 3, 1, 1, 2, 6, 1, 9, 4, 5, 6, 1, 3, 7, 8, 17, 1, 1, 1, 1, 4, 2, 1, 1, 3, 5, 1, 2, 2, 2, 1, 3, 13, 2, 1, 1, 4, 7, 3, 1, 1, 1, 1, 1, 1, 2, 1, 3, 1, 1, 5, 3, 5, 8, 2, 2, 1, 2, 3, 12, 2, 1, 1, 10, 8, 1, 2, 3, 1, 1, 1, 2, 6, 1, 5, 13, 8, 6, 2, 5, 1, 4, 2, 4, 2, 6, 1, 4, 12, 1, 1, 3, 2, 5, 4, 1, 3, 4, 2, 1, 4, 1, 7, 11, 2, 1, 3, 1, 6, 1, 1, 1, 1, 3, 32, 2, 5, 5, 4, 1, 6, 2, 2, 5, 1, 2, 1, 1, 2, 2, 4, 2, 2, 1, 2, 5, 1, 1, 1, 1, 2, 6, 7, 1, 1, 5, 2, 1, 3, 9, 1, 2, 2, 57, 5, 5, 5, 3, 5, 4, 5, 2, 5, 1, 2, 1, 8, 1, 7, 8, 11, 2, 10, 18, 1, 1, 4, 3, 4, 2, 1, 2, 7, 2, 5, 3, 3, 11, 9, 1, 2, 6, 8, 1, 3, 4, 8, 1, 1, 9, 17, 2, 4, 4, 2, 1, 3, 1, 4, 4, 3, 2, 1, 1, 2, 1, 1, 1, 1, 6, 2, 1, 2, 4, 24, 9, 1, 3, 3, 1, 4, 7, 4, 2, 6, 19, 1, 5, 1, 1, 5, 1, 4, 2, 2, 5, 1, 5, 1, 16, 4, 5, 6, 9, 16, 1, 1, 1, 2, 8, 1, 9, 5, 15, 2, 3, 4, 7, 1, 1, 1, 1, 1, 1, 1, 1, 3, 11, 1, 4, 5, 1, 7, 4, 1, 14, 5, 5, 7, 10, 3, 2, 3, 4, 23, 1, 7, 1, 4, 8, 9, 4, 1, 6, 6, 1, 4, 7, 26, 1, 2, 4, 3, 4, 1, 1, 6, 2, 6, 14, 17, 1, 2, 15, 10, 6, 1, 1, 1, 20, 4, 1, 4, 1, 1, 8, 3, 1, 1, 1, 4, 2, 13, 1, 3, 3, 2, 1, 16, 4, 1, 2, 1, 7, 3, 3, 1, 2, 1, 10, 2, 1, 1, 1, 1, 3, 5, 19, 4, 1, 2, 26, 3, 1, 1, 5, 1, 7, 6, 8, 1, 17, 1, 1, 1, 3, 1, 2, 4, 10, 1, 1, 2, 8, 2, 1, 8, 1, 3, 1, 2, 1, 1, 12, 2, 3, 1, 4, 12, 1, 3, 7, 6, 1, 2, 13, 3, 4, 2, 28, 1, 1, 3, 2, 5, 1, 43, 15, 6, 2, 2, 1, 10, 1, 1, 3, 4, 5, 5, 17, 3, 1, 3, 3, 4, 14, 1, 6, 3, 2, 1, 2, 2, 1, 16, 5, 1, 4, 1, 7, 5, 9, 10, 1, 5, 1, 22, 10, 2, 7, 1, 2, 3, 4, 2, 6, 10, 23, 7, 6, 1, 1, 1, 3, 1, 4, 6, 4, 21, 9, 6, 11, 2, 2, 4, 1, 2, 1, 3, 6, 35, 5, 2, 8, 11, 4, 6, 4, 1, 2, 4, 6, 3, 10, 13, 22, 3, 5, 2, 6, 4, 1, 2, 2, 2, 4, 5, 9, 11, 4, 5, 2, 7, 5, 1, 1, 1, 1, 3, 2, 14, 1, 10, 7, 2, 11, 1, 3, 3, 1, 7, 2, 7, 7, 3, 1, 1, 1, 2, 1, 8, 3, 5, 4, 1, 5, 7, 20, 3, 6, 6, 31, 4, 1, 2, 9, 9, 4, 17, 1, 4, 4, 1, 2, 11, 10, 4, 1, 16, 8, 1, 4, 1, 8, 2, 3, 7, 1, 3, 8, 2, 1, 2, 1, 14, 7, 2, 1, 3, 1, 5, 20, 1, 1, 1, 3, 2, 2, 2, 1, 4, 1, 1, 4, 12, 21, 3, 4, 17, 4, 1, 1, 14, 1, 1, 2, 17, 2, 16, 28, 12, 6, 1, 3, 20, 7, 2, 1, 1, 1, 3, 13, 2, 2, 3, 8, 10, 1, 5, 7, 3, 1, 2, 10, 2, 2, 1, 1, 2, 10, 19, 24, 7, 12, 3, 2, 3, 1, 6, 6, 1, 8, 2, 1, 1, 1, 18, 4, 28, 1, 3, 6, 1, 2, 5, 4, 11, 10, 1, 2, 1, 28, 1, 1, 1, 1, 1, 1, 1, 8, 3, 4, 13, 7, 2, 2, 1, 2, 5, 1, 1, 15, 1, 1, 1, 1, 3, 1, 1, 1, 1, 2, 4, 1, 6, 3, 4, 1, 2, 5, 4, 1, 2, 1, 9, 7, 1, 1, 2, 3, 10, 2, 4, 1, 13, 3, 1, 7, 5, 1, 2, 1, 3, 13, 3, 3, 1, 8, 97, 2, 2, 1, 2, 3, 4, 1, 11, 1, 7, 3, 1, 4, 2, 1, 2, 2, 1, 2, 3, 1, 2, 1, 5, 8, 1, 1, 5, 1, 9, 1, 1, 1, 1, 2, 1, 2, 1, 1, 28, 1, 4, 5, 1, 4, 2, 2, 3, 10, 2, 1, 3, 1, 8, 2, 10, 3, 2, 1, 1, 2, 1, 4, 3, 3, 4, 3, 2, 2, 1, 4, 4, 2, 11, 5, 9, 1, 1, 3, 9, 3, 2, 8, 1, 2, 1, 13, 1, 1, 1, 2, 3, 1, 2, 1, 5, 1, 1, 2, 6, 2, 1, 2, 2, 1, 2, 2, 5, 1, 2, 2, 1, 2, 3, 22, 3, 12, 1, 1, 2, 5, 1, 2, 3, 4, 3, 2, 7, 9, 1, 4, 1, 7, 3, 2, 1, 1, 4, 2, 2, 1, 6, 3, 6, 4, 1, 3, 1, 1, 3, 8, 5, 1, 1, 2, 6, 1, 2, 3, 2, 1, 2, 3, 6, 10, 24, 19, 2, 12, 1, 2, 2, 1, 1, 12, 1, 3, 11, 11, 2, 11, 2, 4, 2, 10, 5, 2, 5, 2, 3, 4, 2, 2, 1, 1, 4, 7, 2, 1, 2, 2, 1, 1, 2, 4, 7, 2, 4, 2, 1, 5, 1, 5, 3, 4, 1, 4, 4, 6, 13, 4, 1, 1, 3, 2, 1, 1, 2, 5, 5, 1, 2, 1, 1, 1, 1, 2, 1, 3, 2, 3, 5, 2, 7, 1, 1, 1, 1, 5, 1, 1, 3, 2, 2, 4, 3, 4, 6, 1, 1, 14, 6, 1, 1, 1, 1, 1, 13, 2, 4, 1, 1, 3, 4, 1, 1, 2, 4, 2, 3, 4, 5, 3, 1, 2, 4, 2, 4, 2, 9, 4, 1, 1, 1, 1, 2, 10, 8, 11, 6, 2, 1, 5, 1, 3, 6, 2, 4, 3, 2, 2, 3, 5, 1, 4, 4, 10, 10, 15, 1, 1, 1, 1, 2, 4, 1, 2, 14, 2, 16, 4, 7, 8, 2, 1, 3, 2, 1, 3, 3, 2, 3, 1, 1, 5, 30, 6, 4, 8, 2, 1, 5, 2, 1, 1, 25, 3, 2, 5, 3, 1, 11, 7, 17, 2, 2, 1, 1, 9, 3, 1, 17, 2, 5, 1, 7, 1, 5, 9, 6, 1, 4, 14, 5, 1, 1, 4, 1, 2, 1, 1, 1, 7, 1, 2, 4, 5, 1, 20, 3, 2, 2, 2, 1, 2, 3, 1, 1, 4, 1, 1, 1, 7, 4, 1, 2, 4, 4, 5, 1, 11, 4, 2, 1, 14, 9, 1, 1, 1, 4, 5, 2, 2, 1, 1, 2, 1, 1, 6, 1, 1, 1, 2, 1, 5, 1, 1, 6, 2, 1, 1, 3, 3, 2, 1, 5, 1, 3, 1, 1, 20, 1, 21, 16, 1, 1, 17, 4, 2, 2, 4, 2, 1, 2, 1, 14, 7, 9, 2, 2, 4, 2, 3, 1, 1, 2, 4, 1, 1, 4, 1, 12, 2, 2, 1, 3, 3, 15, 3, 5, 5, 4, 1, 4, 2, 2, 1, 3, 10, 21, 1, 1, 1, 2, 3, 30, 1, 1, 5, 2, 4, 4, 2, 1, 4, 6, 1, 3, 1, 1, 5, 6, 2, 12, 1, 7, 9, 4, 1, 3, 2, 2, 3, 1, 3, 4, 1, 11, 3, 4, 2, 2, 2, 5, 2, 3, 6, 7, 1, 2, 3, 1, 2, 1, 1, 1, 1, 4, 11, 1, 1, 4, 2, 2, 6, 3, 10, 5, 7, 11, 6, 2, 1, 8, 1, 3, 2, 5, 3, 3, 1, 1, 1, 5, 1, 1, 7, 3, 1, 1, 2, 2, 6, 6, 1, 1, 2, 1, 2, 1, 3, 1, 5, 3, 1, 5, 17, 4, 1, 2, 9, 4, 7, 3, 3, 1, 9, 2, 5, 7, 2, 3, 4, 5, 2, 8, 8, 10, 10, 1, 19, 3, 6, 9, 5, 1, 2, 2, 1, 1, 2, 9, 4, 3, 4, 2, 8, 4, 11, 3, 3, 2, 11, 2, 2, 5, 2, 2, 2, 3, 10, 5, 1, 2, 3, 1, 15, 5, 8, 5, 1, 11, 14, 9, 5, 1, 2, 22, 2, 3, 6, 1, 2, 1, 1, 2, 4, 1, 1, 11, 1, 2, 1, 5, 3, 3, 5, 2, 1, 3, 2, 2, 4, 4, 4, 4, 1, 2, 2, 1, 8, 1, 1, 1, 1, 3, 8, 5, 1, 4, 3, 3, 3, 1, 5, 2, 3, 1, 36, 9, 1, 2, 4, 6, 9, 6, 4, 2, 1, 13, 1, 3, 1, 4, 22, 3, 4, 3, 1, 2, 1, 2, 1, 5, 1, 1, 1, 2, 3, 6, 3, 6, 2, 10, 1, 13, 4, 11, 4, 4, 1, 2, 1, 2, 2, 3, 1, 2, 3, 1, 1, 4, 3, 14, 9, 1, 1, 1, 2, 1, 1, 1, 5, 1, 2, 4, 13, 2, 1, 15, 2, 1, 6, 6, 1, 2, 11, 3, 2, 1, 4, 1, 1, 23, 2, 74, 17, 6, 2, 11, 9, 5, 1, 5, 1, 16, 1, 3, 1, 1, 1, 9, 6, 2, 10, 13, 1, 3, 3, 1, 2, 9, 5, 1, 1, 3, 3, 1, 4, 3, 6, 1, 3, 4, 1, 4, 4, 21, 1, 1, 3, 3, 2, 8, 1, 13, 3, 9, 2, 3, 1, 6, 1, 3, 12, 5, 1, 3, 1, 1, 1, 3, 17, 3, 3, 1, 3, 2, 11, 3, 2, 2, 1, 2, 2, 1, 1, 9, 1, 2, 1, 21, 4, 7, 7, 3, 2, 1, 3, 1, 2, 14, 1, 1, 5, 3, 2, 2, 1, 3, 1, 1, 9, 6, 9, 8, 3, 1, 3, 1, 5, 5, 18, 2, 5, 2, 9, 2, 8, 29, 1, 3, 1, 3, 5, 2, 12, 27, 2, 9, 2, 8, 1, 1, 1, 1, 4, 1, 1, 5, 1, 1, 2, 5, 4, 4, 1, 1, 3, 4, 4, 1, 2, 5, 1, 1, 1, 5, 6, 11, 2, 7, 5, 1, 2, 7, 3, 1, 4, 10, 1, 1, 5, 1, 2, 5, 1, 3, 1, 24, 1, 7, 1, 2, 6, 1, 3, 1, 7, 5, 2, 5, 7, 5, 2, 4, 5, 2, 2, 2, 2, 5, 8, 1, 9, 2, 3, 1, 8, 2, 3, 3, 1, 2, 3, 1, 1, 21, 15, 6, 1, 2, 5, 2, 3, 7, 2, 11, 2, 12, 6, 1, 10, 6, 2, 1, 3, 1, 4, 13, 2, 7, 4, 1, 2, 11, 10, 4, 3, 1, 4, 1, 1, 1, 1, 1, 1, 3, 4, 3, 2, 1, 4, 1, 1, 2, 2, 3, 4, 4, 1, 8, 10, 2, 1, 10, 2, 1, 8, 1, 3, 2, 5, 9, 2, 7, 3, 1, 1, 8, 6, 4, 2, 6, 1, 2, 7, 2, 1, 6, 1, 1, 3, 1, 2, 1, 1, 7, 6, 2, 2, 5, 1, 7, 1, 1, 14, 12, 6, 5, 1, 2, 8, 4, 4, 15, 6, 14, 21, 1, 14, 4, 5, 9, 4, 1, 1, 2, 6, 2, 7, 1, 8, 5, 2, 3, 4, 11, 40, 1, 1, 3, 11, 3, 3, 1, 2, 7, 18, 5, 3, 3, 3, 5, 2, 2, 1, 1, 1, 4, 1, 3, 1, 1, 2, 1, 1, 6, 5, 2, 1, 2, 1, 1, 4, 1, 1, 1, 1, 1, 5, 1, 1, 3, 1, 2, 10, 14, 1, 1, 1, 1, 13, 1, 1, 8, 4, 3, 8, 1, 1, 7, 1, 7, 2, 2, 1, 1, 2, 5, 3, 3, 1, 1, 1, 1, 2, 6, 1, 1, 1, 3, 1, 4, 2, 4, 11, 1, 10, 1, 7, 1, 16, 1, 1, 5, 2, 30, 1, 5, 1, 4, 8, 1, 5, 6, 1, 2, 1, 4, 1, 2, 7, 2, 4, 1, 8, 2, 16, 3, 1, 4, 2, 5, 1, 7, 1, 6, 2, 12, 1, 4, 1, 1, 2, 7, 1, 3, 3, 3, 1, 11, 2, 1, 1, 1, 1, 2, 4, 1, 13, 2, 11, 1, 1, 1, 3, 2, 1, 1, 1, 1, 8, 3, 1, 2, 1, 1, 1, 1, 3, 5, 1, 1, 1, 13, 5, 1, 1, 1, 1, 5, 1, 6, 1, 5, 2, 6, 2, 1, 8, 5, 1, 1, 1, 4, 3, 2, 2, 8, 4, 10, 1, 2, 5, 18, 7, 5, 4, 12, 1, 1, 14, 6, 2, 2, 1, 1, 2, 1, 4, 5, 2, 1, 16, 4, 3, 2, 1, 1, 2, 1, 8, 17, 8, 1, 1, 13, 10, 5, 3, 1, 1, 2, 6, 5, 2, 2, 3, 1, 6, 3, 3, 3, 5, 4, 3, 12, 1, 1, 6, 3, 2, 1, 10, 18, 2, 5, 9, 2, 1, 1, 1, 5, 3, 1, 1, 1, 5, 6, 1, 7, 3, 6, 2, 1, 5, 5, 1, 3, 3, 6, 5, 3, 5, 2, 3, 11, 2, 6, 1, 4, 1, 7, 19, 1, 1, 2, 1, 2, 3, 3, 2, 2, 1, 1, 2, 4, 2, 17, 2, 1, 3, 2, 8, 4, 2, 3, 1, 1, 1, 1, 1, 4, 7, 3, 13, 3, 3, 4, 2, 1, 1, 10, 2, 2, 2, 1, 3, 1, 3, 1, 4, 2, 1, 1, 4, 19, 1, 6, 1, 3, 1, 1, 6, 1, 8, 2, 2, 1, 1, 9, 3, 8, 9, 4, 25, 6, 3, 2, 8, 1, 1, 2, 2, 9, 1, 1, 1, 2, 1, 2, 2, 3, 1, 1, 3, 1, 3, 13, 2, 18, 1, 2, 1, 2, 1, 4, 4, 1, 4, 5, 12, 13, 7, 1, 2, 1, 4, 1, 5, 14, 1, 3, 5, 4, 2, 1, 3, 1, 6, 1, 7, 9, 5, 7, 23, 4, 2, 4, 1, 1, 4, 1, 2, 1, 5, 3, 1, 1, 1, 15, 3, 4, 1, 1, 2, 5, 2, 4, 4, 2, 5, 15, 2, 4, 3, 2, 1, 1, 3, 20, 1, 2, 1, 1, 1, 3, 6, 6, 5, 5, 2, 16, 2, 1, 19, 8, 1, 4, 2, 2, 1, 4, 1, 7, 1, 2, 1, 3, 1, 1, 4, 5, 2, 6, 8, 2, 10, 1, 1, 1, 1, 1, 1, 2, 1, 3, 25, 18, 3, 11, 3, 1, 6, 4, 12, 3, 2, 5, 3, 2, 7, 2, 4, 6, 5, 1, 9, 3, 1, 5, 2, 4, 2, 3, 3, 1, 1, 25, 3, 2, 2, 2, 3, 1, 1, 1, 2, 1, 10, 2, 1, 2, 4, 1, 1, 1, 2, 5, 8, 3, 21, 1, 3, 2, 1, 8, 2, 1, 18, 1, 1, 2, 1, 2, 1, 1, 13, 6, 1, 4, 1, 7, 1, 2, 7, 30, 2, 3, 1, 15, 8, 5, 2, 1, 3, 6, 2, 6, 15, 2, 4, 3, 2, 3, 11, 3, 5, 14, 2, 2, 2, 3, 5, 12, 34, 5, 3, 8, 13, 1, 2, 1, 8, 1, 10, 4, 1, 6, 6, 12, 5, 10, 4, 7, 1, 3, 1, 6, 1, 1, 5, 4, 2, 5, 1, 1, 2, 4, 3, 1, 2, 1, 1, 1, 1, 2, 13, 4, 3, 2, 4, 29, 3, 8, 4, 3, 2, 7, 3, 1, 1, 3, 1, 2, 1, 8, 1, 1, 1, 1, 6, 3, 14, 3, 1, 1, 1, 4, 4, 6, 5, 2, 1, 2, 4, 2, 4, 1, 2, 4, 6, 4, 1, 12, 1, 2, 2, 5, 3, 1, 2, 2, 2, 3, 4, 1, 5, 4, 4, 1, 8, 4, 8, 6, 2, 1, 1, 6, 20, 2, 1, 1, 7, 1, 1, 1, 3, 1, 1, 2, 1, 2, 1, 4, 1, 1, 4, 2, 1, 1, 1, 1, 1, 7, 1, 1, 1, 1, 3, 1, 4, 19, 10, 4, 11, 6, 18, 1, 1, 6, 3, 3, 1, 7, 4, 4, 3, 1, 5, 12, 1, 4, 2, 4, 2, 2, 2, 3, 9, 2, 2, 6, 1, 1, 1, 9, 1, 1, 7, 1, 1, 1, 1, 7, 4, 1, 1, 2, 1, 5, 1, 2, 2, 2, 6, 1, 10, 1, 5, 3, 3, 1, 1, 4, 2, 7, 4, 3, 4, 1, 1, 2, 1, 3, 4, 1, 4, 1, 1, 3, 3, 1, 14, 1, 9, 2, 2, 1, 6, 1, 1, 1, 4, 1, 12, 1, 4, 7, 3, 4, 13, 1, 6, 2, 4, 3, 1, 1, 10, 2, 1, 1, 2, 6, 10, 2, 2, 2, 2, 1, 1, 1, 1, 1, 5, 1, 9, 5, 1, 1, 1, 7, 2, 1, 1, 1, 4, 16, 1, 1, 1, 3, 16, 1, 1, 4, 1, 7, 1, 2, 1, 2, 2, 2, 4, 5, 8, 1, 12, 3, 8, 5, 2, 4, 1, 6, 1, 1, 1, 2, 1, 2, 1, 9, 1, 5, 3, 2, 4, 2, 3, 3, 2, 4, 2, 2, 7, 3, 5, 2, 1, 2, 1, 1, 6, 1, 1, 1, 1, 8, 3, 1, 25, 11, 4, 4, 1, 7, 11, 1, 3, 3, 3, 1, 1, 2, 8, 1, 1, 3, 1, 2, 1, 2, 3, 5, 2, 1, 2, 1, 7, 1, 25, 1, 3, 3, 1, 1, 4, 9, 1, 2, 2, 2, 1, 13, 2, 1, 1, 4, 17, 5, 4, 3, 4, 1, 2, 6, 8, 3, 1, 3, 5, 2, 7, 2, 1, 3, 1, 2, 6, 1, 2, 1, 9, 1, 2, 29, 3, 4, 1, 6, 4, 1, 6, 3, 1, 5, 1, 1, 1, 4, 2, 5, 2, 10, 1, 8, 1, 3, 1, 6, 1, 1, 11, 2, 12, 3, 2, 6, 2, 1, 3, 1, 1, 2, 2, 4, 3, 4, 1, 1, 3, 1, 1, 1, 3, 9, 1, 4, 4, 10, 10, 3, 8, 2, 4, 7, 1, 2, 1, 5, 3, 8, 6, 3, 2, 3, 6, 3, 1, 1, 1, 24, 2, 2, 3, 4, 5, 1, 5, 2, 3, 2, 1, 2, 3, 3, 1, 3, 1, 2, 10, 1, 2, 1, 1, 1, 5, 3, 2, 3, 19, 2, 1, 3, 4, 3, 1, 1, 1, 2, 1, 5, 1, 1, 10, 3, 2, 1, 1, 4, 1, 1, 7, 1, 4, 2, 4, 2, 12, 2, 1, 1, 1, 1, 1, 1, 3, 10, 1, 8, 3, 2, 3, 2, 5, 1, 4, 14, 16, 2, 7, 1, 2, 4, 1, 4, 1, 1, 2, 1, 1, 10, 1, 1, 4, 3, 2, 1, 2, 4, 2, 4, 7, 3, 1, 1, 5, 2, 1, 2, 1, 1, 2, 2, 3, 5, 2, 16, 3, 3, 2, 1, 2, 1, 8, 2, 2, 1, 4, 6, 17, 11, 4, 14, 1, 3, 6, 1, 5, 1, 3, 2, 1, 1, 28, 2, 1, 1, 1, 1, 2, 1, 1, 1, 1, 1, 1, 3, 2, 4, 2, 1, 1, 1, 2, 7, 1, 5, 6, 1, 9, 2, 1, 2, 2, 3, 7, 2, 3, 3, 2, 4, 1, 5, 3, 2, 10, 8, 1, 1, 6, 2, 2, 3, 1, 3, 1, 2, 1, 2, 2, 2, 2, 3, 1, 1, 1, 2, 7, 2, 1, 4, 4, 2, 1, 5, 1, 13, 1, 1, 1, 23, 2, 1, 1, 4, 3, 1, 5, 6, 2, 1, 2, 1, 2, 6, 1, 3, 5, 7, 19, 1, 1, 1, 1, 1, 1, 1, 1, 2, 5, 1, 5, 2, 1, 1, 2, 1, 2, 3, 1, 1, 3, 3, 4, 4, 1, 1, 3, 3, 2, 6, 1, 1, 1, 2, 1, 1, 3, 2, 2, 1, 4, 1, 3, 1, 7, 1, 1, 9, 4, 6, 2, 9, 2, 1, 4, 5, 1, 1, 4, 5, 1, 1, 3, 8, 2, 5, 7, 3, 2, 1, 1, 1, 1, 2, 1, 3, 5, 2, 1, 1, 2, 1, 1, 7, 4, 2, 4, 2, 4, 3, 4, 1, 4, 3, 11, 1, 2, 1, 3, 3, 4, 1, 1, 4, 2, 3, 1, 1, 3, 3, 22, 1, 2, 5, 1, 2, 1, 3, 1, 1, 3, 1, 1, 6, 1, 1, 2, 2, 1, 1, 1, 4, 1, 2, 2, 15, 13, 1, 4, 3, 2, 1, 1, 1, 2, 1, 5, 1, 1, 2, 2, 3, 6, 1, 1, 1, 4, 1, 1, 1, 3, 2, 1, 3, 3, 2, 2, 5, 2, 10, 8, 2, 3, 5, 2, 3, 1, 1, 5, 1, 3, 2, 2, 5, 3, 4, 18, 1, 1, 2, 4, 1, 4, 7, 1, 4, 1, 3, 2, 5, 8, 4, 4, 3, 1, 1, 3, 1, 1, 10, 13, 2, 1, 4, 1, 7, 2, 1, 1, 2, 1, 3, 2, 7, 7, 3, 1, 23, 1, 1, 2, 2, 6, 2, 1, 5, 27, 2, 2, 2, 1, 2, 1, 2, 2, 2, 1, 2, 1, 1, 1, 2, 1, 3, 4, 1, 1, 1, 1, 1, 1, 6, 1, 1, 6, 6, 2, 3, 2, 21, 1, 1, 1, 1, 1, 1, 1, 1, 3, 3, 2, 3, 1, 1, 1, 1, 3, 4, 1, 1, 5, 10, 1, 2, 2, 1, 1, 7, 3, 3, 1, 1, 1, 1, 3, 2, 2, 5, 2, 6, 9, 1, 7, 1, 7, 1, 1, 2, 1, 2, 2, 1, 1, 1, 1, 8, 6, 1, 4, 1, 1, 4, 2, 2, 1, 1, 4, 1, 1, 3, 1, 7, 1, 2, 3, 12, 7, 2, 1, 6, 1, 1, 1, 13, 7, 3, 2, 1, 5, 2, 7, 4, 2, 5, 6, 1, 7, 1, 1, 1, 5, 19, 1, 4, 23, 2, 5, 2, 4, 5, 1, 3, 2, 1, 1, 1, 2, 1, 3, 6, 13, 2, 1, 1, 2, 3, 1, 2, 4, 2, 8, 1, 2, 3, 3, 1, 6, 3, 7, 5, 4, 3, 1, 6, 1, 2, 2, 1, 1, 9, 1, 1, 8, 2, 1, 1, 2, 2, 2, 5, 1, 6, 1, 2, 1, 3, 1, 1, 7, 1, 1, 2, 2, 4, 4, 6, 1, 3, 2, 3, 2, 1, 1, 17, 14, 1, 8, 1, 1, 2, 5, 1, 1, 2, 2, 2, 1, 2, 6, 2, 3, 5, 1, 7, 2, 5, 1, 1, 1, 3, 2, 6, 1, 13, 6, 2, 1, 1, 2, 8, 2, 1, 1, 7, 1, 10, 1, 18, 3, 42, 4, 2, 1, 3, 4, 1, 1, 3, 7, 4, 3, 23, 5, 2, 3, 5, 1, 1, 4, 2, 2, 2, 1, 2, 1, 1, 2, 1, 1, 13, 2, 1, 7, 8, 2, 4, 4, 1, 1, 2, 1, 2, 13, 4, 3, 1, 1, 2, 5, 3, 1, 9, 1, 1, 1, 1, 1, 1, 2, 2, 1, 1, 39, 2, 1, 1, 1, 1, 2, 3, 1, 3, 3, 1, 6, 1, 1, 1, 1, 1, 3, 3, 1, 1, 2, 4, 14, 1, 1, 1, 1, 1, 1, 2, 8, 1, 4, 3, 2, 33, 4, 2, 5, 1, 2, 1, 1, 1, 11, 10, 3, 2, 1, 4, 1, 3, 1, 1, 2, 1, 1, 1, 1, 1, 1, 6, 6, 1, 3, 1, 3, 3, 9, 4, 1, 3, 2, 6, 4, 1, 2, 2, 1, 3, 3, 2, 1, 4, 1, 1, 1, 1, 6, 9, 3, 2, 1, 3, 9, 1, 1, 5, 7, 1, 6, 7, 2, 3, 7, 1, 2, 2, 2, 1, 6, 2, 11, 1, 3, 6, 4, 10, 1, 7, 2, 3, 1, 1, 4, 1, 2, 4, 1, 3, 2, 2, 2, 2, 4, 3, 1, 1, 1, 2, 1, 3, 1, 1, 10, 1, 7, 6, 1, 2, 5, 3, 3, 3, 2, 1, 1, 5, 9, 4, 4, 1, 9, 1, 1, 1, 3, 3, 2, 5, 13, 1, 4, 2, 9, 1, 8, 1, 7, 3, 2, 1, 1, 1, 16, 3, 1, 2, 8, 3, 1, 1, 1, 3, 4, 1, 4, 1, 1, 2, 8, 5, 2, 1, 6, 4, 3, 1, 4, 1, 2, 2, 1, 3, 2, 3, 5, 6, 13, 1, 1, 1, 1, 1, 5, 1, 1, 5, 1, 2, 2, 1, 3, 2, 1, 4, 1, 3, 5, 1, 6, 13, 1, 2, 1, 4, 6, 3, 3, 2, 2, 5, 2, 3, 1, 4, 3, 2, 1, 1, 1, 1, 8, 4, 5, 2, 6, 13, 1, 13, 1, 1, 2, 1, 3, 1, 1, 3, 2, 1, 1, 9, 1, 1, 5, 1, 3, 8, 1, 1, 1, 2, 1, 2, 2, 1, 1, 2, 2, 1, 5, 1, 7, 7, 1, 1, 1, 11, 1, 1, 1, 2, 3, 1, 1, 1, 6, 1, 1, 1, 1, 1, 2, 1, 1, 1, 2, 1, 1, 1, 2, 5, 15, 3, 6, 6, 1, 2, 2, 3, 3, 8, 1, 1, 4, 1, 1, 1, 1, 1, 1, 1, 2, 5, 3, 2, 4, 2, 1, 5, 12, 1, 4, 11, 1, 4, 1, 1, 1, 1, 1, 1, 1, 1, 1, 1, 3, 1, 1, 1, 1, 5, 1, 17, 1, 1, 1, 2, 1, 5, 1, 1, 1, 1, 1, 9, 2, 1, 2, 8, 1, 4, 2, 1, 5, 1, 1, 3, 1, 3, 3, 2, 2, 2, 3, 2, 2, 4, 11, 1, 1, 5, 3, 3, 3, 4, 7, 3, 4, 5, 4, 4, 3, 4, 1, 5, 1, 1, 4, 5, 3, 1, 1, 1, 4, 1, 2, 2, 1, 3, 2, 2, 1, 4, 5, 1, 3, 2, 3, 1, 2, 1, 1, 4, 2, 2, 1, 2, 3, 17, 1, 2, 8, 2, 3, 1, 1, 1, 1, 9, 4, 3, 2, 2, 1, 3, 3, 4, 5, 2, 3, 2, 1, 2, 2, 5, 4, 1, 1, 2, 1, 1, 6, 5, 3, 1, 1, 3, 1, 1, 1, 1, 1, 1, 1, 3, 2, 6, 2, 4, 1, 3, 1, 1, 1, 1, 2, 4, 1, 3, 4, 2, 1, 1, 6, 10, 1, 1, 3, 8, 1, 1, 1, 2, 1, 1, 9, 9, 1, 1, 1, 4, 1, 3, 1, 1, 1, 1, 2, 3, 8, 2, 2, 1, 1, 9, 1, 3, 2, 4, 1, 1, 1, 1, 7, 1, 1, 2, 2, 1, 3, 2, 3, 4, 1, 1, 1, 4, 2, 1, 9, 1, 1, 10, 1, 3, 1, 5, 1, 1, 3, 1, 1, 1, 2, 1, 5, 5, 2, 1, 2, 2, 2, 2, 3, 7, 1, 1, 7, 3, 1, 1, 1, 3, 3, 16, 1, 5, 3, 2, 1, 1, 3, 2, 7, 2, 1, 2, 2, 4, 3, 1, 2, 1, 1, 1, 1, 4, 6, 1, 1, 2, 6, 3, 1, 2, 1, 1, 4, 2, 1, 1, 1, 8, 1, 2, 4, 2, 1, 3, 6, 3, 2, 4, 3, 2, 1, 2, 1, 7, 1, 1, 9, 3, 1, 3, 2, 2, 1, 1, 1, 1, 2, 17, 2, 2, 5, 2, 2, 1, 1, 1, 1, 1, 2, 1, 1, 3, 1, 3, 9, 4, 2, 3, 2, 3, 2, 2, 3, 4, 3, 1, 2, 1, 2, 11, 2, 3, 11, 2, 1, 3, 2, 2, 1, 2, 2, 1, 1, 1, 1, 2, 1, 1, 1, 1, 2, 1, 2, 1, 1, 1, 3, 1, 10, 1, 3, 6, 4, 1, 2, 1, 4, 3, 1, 2, 1, 1, 2, 1, 1, 1, 1, 3, 3, 1, 2, 4, 7, 1, 3, 2, 1, 1, 1, 1, 1, 1, 1, 3, 2, 1, 2, 5, 3, 1, 2, 1, 4, 1, 3, 3, 3, 7, 2, 1, 1, 1, 1, 1, 2, 1, 1, 1, 4, 8, 2, 1, 3, 1, 4, 2, 2, 1, 6, 2, 1, 1, 2, 5, 3, 7, 9, 1, 1, 1, 1, 2, 1, 3, 5, 7, 1, 1, 1, 1, 2, 1, 1, 1, 1, 4, 5, 3, 6, 5, 3, 2, 1, 1, 10, 3, 8, 1, 3, 1, 4, 10, 2, 1, 4, 1, 1, 2, 10, 2, 1, 1, 3, 1, 3, 1, 4, 1, 1, 1, 1, 1, 1, 1, 2, 5, 2, 10, 2, 2, 2, 10, 4, 1, 1, 1, 2, 1, 7, 8, 3, 3, 3, 1, 5, 2, 5, 4, 1, 3, 1, 2, 1, 1, 2, 1, 3, 1, 2, 1, 2, 1, 5, 1, 1, 3, 1, 2, 1, 1, 6, 10, 1, 4, 1, 1, 3, 2, 4, 2, 1, 1, 2, 5, 6, 1, 2, 2, 2, 1, 1, 2, 1, 1, 14, 2, 10, 2, 2, 1, 2, 2, 1, 2, 1, 1, 1, 1, 7, 3, 1, 5, 1, 1, 13, 5, 2, 1, 6, 1, 1, 1, 2, 3, 4, 2, 1, 1, 1, 3, 7, 1, 2, 3, 1, 2, 1, 1, 7, 11, 1, 2, 1, 1, 2, 1, 4, 1, 1, 1, 2, 1, 1, 4, 1, 1, 1, 2, 2, 1, 1, 1, 2, 1, 5, 1, 1, 1, 1, 1, 1, 1, 1, 3, 7, 1, 1, 3, 3, 13, 5, 1, 3, 2, 1, 1, 3, 3, 6, 2, 1, 1, 2, 1, 5, 2, 3, 3, 1, 1, 2, 3, 1, 1, 1, 1, 1, 7, 3, 2, 1, 1, 5, 2, 3, 2, 1, 1, 2, 2, 1, 2, 3, 1, 1, 2, 2, 1, 4, 3, 21, 4, 2, 2, 1, 4, 1, 1, 3, 1, 3, 3, 2, 2, 6, 3, 3, 3, 1, 4, 2, 2, 5, 1, 2, 3, 1, 1, 3, 4, 1, 1, 6, 3, 1, 9, 3, 4, 2, 14, 1, 1, 1, 4, 1, 6, 4, 1, 1, 1, 5, 1, 1, 1, 1, 3, 4, 1, 1, 1, 3, 1, 1, 1, 1, 3, 1, 2, 2, 4, 1, 1, 3, 2, 1, 1, 1, 1, 2, 1, 1, 3, 2, 7, 1, 2, 1, 1, 1, 2, 1, 3, 1, 1, 1, 1, 1, 1, 1, 6, 5, 4, 2, 9, 1, 2, 1, 5, 8, 4, 1, 4, 6, 5, 1, 2, 1, 7, 1, 3, 1, 2, 4, 2, 1, 1, 2, 2, 3, 1, 1, 1, 1, 1, 3, 1, 3, 1, 3, 3, 2, 1, 3, 6, 1, 2, 1, 1, 1, 1, 3, 1, 6, 4, 2, 5, 1, 4, 1, 1, 1, 6, 2, 2, 1, 1, 4, 8, 15, 1, 1, 13, 1, 1, 1, 1, 5, 1, 4, 1, 4, 4, 1, 2, 6, 1, 6, 1, 4, 1, 11, 1, 1, 1, 1, 3, 1, 9, 2, 7, 4, 9, 1, 1, 3, 4, 1, 1, 3, 1, 1, 5, 4, 1, 2, 3, 2, 2, 3, 2, 2, 1, 1, 1, 1, 4, 1, 4, 3, 6, 4, 4, 4, 1, 5, 4, 8, 3, 6, 2, 6, 5, 3, 2, 2, 2, 5, 8, 3, 7, 3, 2, 2, 3, 5, 4, 3, 9, 4, 1, 58, 1, 1, 1, 1, 2, 1, 1, 1, 14, 6, 2, 3, 2, 2, 1, 1, 1, 2, 2, 3, 2, 1, 4, 2, 1, 2, 1, 1, 5, 2, 1, 1, 1, 3, 3, 2, 1, 1, 2, 5, 1, 5, 3, 5, 1, 3, 4, 2, 3, 1, 3, 1, 6, 2, 2, 8, 1, 3, 2, 2, 1, 1, 2, 1, 4, 2, 1, 1, 1, 21, 2, 1, 4, 1, 2, 5, 1, 3, 2, 7, 4, 1, 2, 3, 1, 5, 1, 1, 1, 1, 1, 1, 1, 4, 1, 6, 4, 5, 1, 3, 3, 5, 4, 3, 1, 1, 2, 7, 2, 1, 2, 1, 4, 1, 1, 1, 5, 2, 6, 3, 1, 6, 1, 1, 1, 5, 1, 3, 1, 8, 1, 1, 1, 4, 5, 6, 10, 4, 6, 2, 4, 4, 6, 1, 1, 4, 1, 1, 1, 3, 2, 4, 9, 10, 1, 1, 7, 2, 3, 3, 1, 1, 2, 2, 3, 1, 5, 2, 1, 1, 3, 2, 1, 1, 2, 1, 1, 8, 1, 3, 2, 1, 2, 1, 4, 4, 3, 3, 1, 1, 1, 7, 4, 3, 5, 1, 5, 1, 1, 4, 2, 4, 3, 10, 7, 3, 1, 4, 1, 4, 2, 3, 3, 6, 1, 3, 5, 3, 1, 1, 3, 5, 3, 8, 4, 4, 2, 5, 1, 1, 1, 1, 1, 1, 37, 1, 4, 12, 4, 1, 1, 1, 2, 1, 1, 1, 1, 1, 4, 1, 3, 1, 3, 4, 5, 4, 1, 1, 3, 1, 6, 3, 6, 13, 3, 1, 4, 2, 7, 1, 1, 5, 2, 8, 1, 3, 2, 3, 1, 2, 2, 4, 3, 2, 3, 1, 1, 1, 1, 30, 1, 2, 2, 2, 1, 1, 1, 1, 5, 1, 2, 1, 7, 3, 1, 5, 2, 4, 1, 1, 1, 2, 5, 4, 5, 4, 1, 3, 7, 1, 1, 5, 2, 6, 2, 3, 7, 1, 9, 1, 2, 7, 8, 5, 4, 8, 2, 3, 5, 5, 2, 1, 3, 1, 1, 3, 7, 1, 1, 2, 1, 10, 1, 1, 1, 1, 2, 3, 5, 4, 2, 1, 1, 2, 1, 3, 1, 1, 3, 1, 1, 1, 3, 1, 1, 1, 1, 2, 2, 1, 3, 1, 2, 1, 8, 1, 1, 4, 4, 5, 2, 1, 1, 4, 3, 1, 1, 4, 2, 5, 3, 1, 2, 2, 2, 16, 1, 1, 1, 4, 1, 1, 3, 3, 2, 2, 2, 1, 2, 2, 1, 18, 1, 2, 2, 1, 1, 8, 1, 1, 5, 1, 3, 1, 2, 1, 1, 1, 1, 2, 2, 1, 1, 8, 1, 2, 4, 1, 1, 1, 1, 2, 4, 1, 3, 4, 1, 4, 6, 3, 5, 2, 1, 8, 6, 6, 6, 9, 3, 5, 2, 1, 4, 1, 2, 6, 6, 1, 12, 3, 1, 1, 1, 1, 1, 30, 1, 1, 1, 1, 1, 1, 1, 1, 1, 1, 3, 1, 8, 1, 2, 4, 1, 1, 1, 1, 1, 9, 1, 1, 3, 3, 1, 1, 5, 1, 5, 1, 4, 1, 4, 1, 3, 5, 1, 6, 1, 2, 1, 1, 3, 3, 2, 9, 2, 1, 3, 2, 1, 7, 2, 2, 1, 1, 3, 1, 1, 1, 1, 2, 1, 4, 1, 2, 2, 4, 3, 1, 2, 2, 8, 2, 2, 1, 2, 1, 2, 2, 1, 3, 1, 1, 1, 2, 1, 2, 1, 1, 1, 2, 2, 1, 2, 1, 1, 6, 1, 4, 2, 1, 1, 2, 10, 3, 5, 2, 1, 3, 6, 5, 1, 1, 1, 1, 1, 3, 2, 1, 2, 12, 10, 4, 8, 3, 1, 2, 9, 2, 2, 3, 1, 1, 3, 2, 2, 1, 2, 20, 6, 2, 3, 1, 3, 1, 10, 2, 3, 5, 2, 1, 2, 3, 1, 1, 4, 1, 2, 8, 3, 4, 3, 1, 1, 1, 1, 1, 5, 1, 3, 1, 1, 1, 1, 3, 10, 11, 10, 1, 6, 1, 2, 1, 4, 1, 1, 1, 3, 1, 1, 2, 3, 1, 4, 3, 1, 7, 1, 1, 2, 1, 1, 1, 2, 3, 3, 2, 6, 2, 2, 1, 1, 2, 2, 1, 3, 4, 1, 1, 2, 1, 4, 1, 1, 1, 1, 4, 1, 1, 2, 1, 1, 1, 3, 1, 1, 2, 2, 2, 3, 1, 1, 1, 1, 1, 2, 2, 1, 4, 2, 2, 1, 1, 1, 3, 3, 1, 1, 3, 2, 2, 1, 1, 3, 2, 1, 1, 1, 1, 1, 15, 2, 3, 2, 3, 1, 2, 3, 1, 4, 1, 1, 1, 3, 10, 4, 2, 2, 2, 1, 4, 1, 2, 2, 5, 4, 5, 1, 2, 3, 1, 2, 3, 1, 6, 1, 2, 3, 4, 12, 2, 2, 5, 1, 3, 1, 2, 1, 6, 2, 1, 1, 2, 1, 1, 1, 1, 1, 4, 4, 1, 3, 1, 1, 2, 1, 2, 1, 1, 5, 1, 11, 1, 5, 2, 5, 3, 1, 17, 2, 1, 1, 4, 1, 1, 1, 4, 1, 3, 1, 5, 1, 1, 5, 1, 1, 1, 1, 2, 2, 2, 1, 1, 3, 2, 1, 2, 2, 2, 3, 9, 1, 6, 1, 2, 3, 1, 2, 2, 3, 1, 1, 1, 2, 2, 2, 1, 7, 1, 6, 1, 1, 1, 2, 7, 1, 2, 1, 1, 2, 2, 5, 1, 2, 3, 1, 1, 5, 2, 5, 1, 1, 1, 1, 8, 1, 1, 1, 2, 1, 2, 1, 1, 2, 1, 9, 2, 2, 1, 6, 2, 1, 2, 1, 1, 1, 1, 1, 1, 2, 3, 2, 4, 3, 5, 3, 1, 3, 3, 1, 1, 1, 1, 2, 3, 1, 6, 2, 4, 2, 2, 1, 2, 1, 2, 1, 1, 5, 1, 4, 1, 1, 1, 1, 6, 2, 6, 1, 1, 1, 1, 1, 2, 4, 4, 3, 2, 1, 2, 1, 1, 2, 2, 4, 3, 3, 1, 2, 2, 1, 1, 1, 3, 3, 22, 3, 1, 1, 1, 1, 1, 2, 7, 8, 11, 2, 3, 6, 3, 7, 1, 2, 1, 2, 8, 1, 12, 10, 1, 3, 1, 1, 2, 6, 2, 2, 1, 1, 5, 3, 1, 1, 2, 1, 1, 1, 1, 2, 1, 1, 2, 4, 1, 2, 1, 1, 1, 1, 2, 2, 3, 3, 1, 1, 2, 8, 1, 2, 1, 5, 1, 1, 1, 12, 1, 5, 1, 1, 1, 3, 2, 1, 2, 2, 2, 1, 6, 2, 2, 1, 2, 1, 5, 1, 3, 1, 1, 2, 2, 1, 6, 1, 3, 1, 1, 7, 1, 2, 2, 2, 2, 3, 1, 1, 2, 2, 1, 1, 1, 2, 1, 1, 1, 1, 10, 7, 9, 1, 3, 6, 1, 3, 2, 3, 3, 8, 1, 1, 1, 1, 1, 1, 3, 1, 3, 3, 3, 1, 1, 1, 1, 1, 1, 1, 3, 3, 1, 5, 7, 3, 3, 1, 5, 1, 1, 6, 1, 5, 3, 2, 6, 3, 2, 2, 3, 1, 1, 1, 1, 3, 3, 1, 1, 3, 2, 15, 1, 2, 2, 1, 2, 2, 1, 2, 3, 1, 35, 5, 3, 1, 3, 1, 5, 1, 3, 7, 2, 1, 4, 1, 7, 2, 4, 5, 4, 2, 4, 3, 3, 1, 1, 2, 6, 2, 1, 3, 1, 4, 3, 1, 1, 5, 2, 5, 2, 1, 6, 1, 2, 4, 5, 1, 1, 1, 2, 1, 3, 1, 2, 1, 1, 2, 6, 2, 1, 1, 1, 1, 1, 3, 1, 1, 7, 1, 1, 1, 1, 2, 4, 3, 3, 4, 1, 18, 2, 16, 1, 2, 1, 1, 1, 3, 2, 1, 1, 1, 1, 1, 2, 5, 6, 2, 3, 1, 3, 1, 1, 1, 4, 2, 3, 5, 1, 3, 2, 1, 1, 1, 1, 10, 2, 2, 7, 2, 1, 2, 7, 1, 1, 1, 2, 4, 2, 16, 1, 1, 1, 6, 6, 5, 2, 1, 2, 4, 1, 1, 1, 1, 3, 6, 1, 3, 2, 3, 10, 2, 1, 1, 2, 1, 8, 5, 2, 1, 1, 2, 2, 1, 5, 1, 3, 4, 1, 1, 6, 2, 3, 2, 1, 1, 3, 1, 4, 12, 1, 1, 1, 2, 1, 2, 3, 1, 5, 3, 3, 6, 1, 11, 2, 2, 1, 1, 1, 2, 1, 2, 1, 1, 1, 3, 1, 1, 2, 1, 1, 1, 1, 1, 2, 1, 6, 1, 2, 5, 1, 2, 1, 1, 3, 1, 2, 3, 4, 1, 1, 3, 9, 1, 1, 2, 2, 3, 2, 1, 1, 2, 3, 5, 2, 2, 1, 6, 6, 2, 1, 1, 1, 1, 5, 1, 3, 1, 1, 2, 1, 2, 2, 1, 2, 2, 2, 1, 1, 2, 1, 1, 2, 3, 3, 2, 3, 1, 1, 1, 1, 1, 3, 1, 1, 1, 2, 15, 1, 1, 3, 2, 1, 2, 4, 4, 3, 1, 1, 5, 2, 1, 1, 2, 1, 1, 4, 1, 1, 1, 1, 1, 3, 3, 1, 5, 6, 2, 1, 1, 1, 9, 1, 1, 1, 2, 2, 3, 1, 3, 4, 5, 4, 1, 1, 1, 1, 1, 1, 2, 1, 6, 1, 2, 3, 2, 1, 1, 3, 1, 8, 16, 2, 1, 1, 2, 4, 1, 1, 3, 1, 1, 1, 1, 1, 3, 1, 6, 1, 2, 1, 2, 3, 2, 1, 1, 1, 1, 2, 2, 2, 1, 1, 4, 1, 1, 3, 3, 1, 7, 1, 1, 4, 1, 7, 2, 3, 1, 1, 1, 11, 5, 1, 5, 2, 1, 1, 21, 1, 2, 4, 2, 1, 4, 2, 1, 3, 1, 1, 5, 2, 5, 1, 1, 1, 3, 1, 2, 13, 3, 1, 10, 1, 1, 5, 2, 1, 3, 5, 1, 4, 1, 1, 3, 9, 1, 2, 1, 2, 3, 4, 2, 2, 2, 1, 1, 2, 1, 2, 2, 1, 1, 15, 9, 10, 5, 1, 1, 2, 1, 2, 2, 1, 12, 6, 3, 2, 7, 1, 2, 1, 1, 7, 15, 2, 3, 2, 1, 1, 2, 5, 1, 1, 5, 1, 2, 1, 1, 1, 1, 1, 2, 2, 4, 2, 1, 1, 1, 1, 1, 1, 1, 2, 1, 4, 2, 1, 1, 1, 2, 1, 1, 1, 1, 1, 2, 2, 1, 1, 1, 2, 6, 2, 1, 1, 1, 1, 1, 2, 1, 2, 1, 2, 2, 4, 1, 5, 1, 2, 3, 1, 2, 1, 3, 1, 1, 1, 1, 1, 4, 1, 2, 2, 1, 2, 2, 2, 4, 1, 3, 1, 1, 1, 2, 7, 1, 3, 1, 3, 3, 2, 4, 1, 3, 1, 1, 2, 3, 1, 2, 9, 1, 2, 1, 1, 2, 1, 6, 4, 1, 4, 1, 1, 4, 2, 2, 4, 3, 1, 2, 1, 1, 1, 1, 1, 1, 1, 2, 6, 2, 4, 4, 9, 2, 1, 1, 6, 3, 2, 2, 2, 3, 4, 2, 2, 1, 1, 2, 1, 2, 1, 2, 2, 3, 1, 2, 2, 2, 2, 2, 2, 2, 1, 1, 1, 1, 1, 1, 9, 1, 3, 2, 5, 3, 4, 1, 3, 4, 1, 1, 4, 1, 1, 15, 1, 1, 1, 7, 5, 2, 3, 4, 1, 1, 1, 1, 1, 4, 1, 1, 1, 1, 1, 1, 4, 2, 2, 1, 1, 12, 2, 9, 2, 1, 1, 1, 1, 1, 2, 1, 1, 1, 3, 14, 3, 2, 3, 1, 1, 5, 5, 1, 2, 3, 2, 1, 3, 1, 3, 3, 1, 3, 1, 1, 5, 2, 4, 3, 5, 1, 10, 1, 1, 2, 1, 1, 2, 1, 1, 1, 2, 4, 1, 1, 2, 1, 2, 2, 1, 4, 9, 1, 1, 30, 2, 5, 1, 2, 4, 2, 4, 7, 3, 2, 1, 2, 1, 1, 1, 3, 2, 1, 1, 2, 1, 8, 1, 1, 1, 1, 1, 1, 1, 1, 5, 4, 2, 4, 2, 4, 3, 1, 4, 6, 1, 15, 4, 1, 3, 1, 4, 1, 2, 2, 2, 2, 1, 3, 1, 1, 2, 6, 1, 1, 4, 1, 1, 1, 2, 1, 1, 6, 1, 1, 2, 6, 2, 2, 1, 1, 1, 1, 2, 1, 1, 1, 2, 3, 12, 2, 3, 1, 4, 6, 18, 2, 2, 3, 1, 1, 1, 1, 2, 3, 2, 1, 1, 1, 2, 1, 1, 1, 3, 4, 1, 1, 1, 1, 4, 1, 8, 1, 1, 3, 6, 1, 1, 1, 2, 4, 11, 5, 2, 2, 1, 2, 1, 4, 1, 1, 1, 3, 1, 1, 2, 1, 1, 1, 1, 1, 2, 1, 1, 2, 2, 1, 7, 1, 2, 2, 1, 1, 14, 1, 3, 3, 2, 4, 1, 1, 2, 4, 2, 1, 1, 1, 2, 2, 2, 3, 1, 2, 1, 1, 5, 1, 1, 1, 1, 1, 3, 6, 2, 1, 1, 2, 4, 5, 4, 2, 2, 4, 1, 1, 1, 1, 3, 1, 1, 1, 1, 3, 12, 1, 2, 1, 2, 2, 1, 5, 2, 1, 3, 3, 1, 3, 3, 3, 2, 2, 5, 1, 1, 1, 1, 1, 2, 1, 8, 2, 3, 4, 2, 1, 3, 1, 1, 1, 1, 1, 2, 1, 3, 3, 1, 2, 1, 4, 5, 4, 1, 1, 3, 1, 4, 1, 1, 1, 4, 1, 3, 9, 2, 1, 1, 1, 1, 1, 5, 3, 3, 1, 1, 1, 1, 1, 1, 1, 1, 1, 1, 1, 2, 2, 4, 9, 2, 1, 3, 1, 1, 3, 2, 1, 2, 2, 2, 15, 1, 11, 2, 2, 2, 5, 1, 1, 1, 1, 1, 1, 1, 1, 4, 5, 2, 1, 1, 1, 1, 6, 3, 1, 3, 2, 3, 2, 5, 4, 2, 1, 3, 1, 1, 4, 1, 1, 4, 1, 2, 9, 1, 1, 1, 1, 2, 1, 3, 3, 3, 2, 1, 2, 3, 1, 1, 2, 2, 1, 2, 2, 2, 2, 3, 4, 5, 2, 1, 1, 3, 1, 2, 4, 1, 8, 2, 1, 1, 4, 4, 15, 1, 2, 4, 1, 5, 3, 1, 7, 1, 1, 5, 1, 3, 2, 4, 1, 1, 2, 1, 3, 1, 2, 1, 16, 7, 1, 1, 3, 1, 8, 1, 2, 7, 5, 1, 1, 1, 1, 3, 6, 1, 1, 3, 1, 4, 6, 2, 1, 1, 1, 3, 1, 1, 2, 4, 1, 2, 2, 2, 2, 1, 5, 2, 7, 3, 4, 2, 1, 2, 1, 3, 4, 2, 1, 2, 2, 1, 3, 4, 1, 6, 1, 5, 2, 1, 1, 2, 1, 1, 2, 2, 1, 1, 3, 1, 3, 1, 1, 4, 1, 1, 2, 1, 1, 1, 3, 2, 1, 1, 1, 3, 1, 2, 3, 1, 12, 1, 1, 1, 7, 1, 1, 4, 1, 1, 2, 1, 1, 3, 1, 3, 1, 1, 1, 6, 1, 4, 1, 1, 1, 1, 3, 2, 2, 4, 2, 1, 5, 1, 1, 6, 10, 1, 1, 2, 4, 4, 1, 3, 1, 5, 2, 8, 1, 3, 5, 1, 1, 4, 1, 1, 1, 1, 4, 6, 9, 1, 3, 1, 1, 4, 2, 2, 6, 1, 2, 3, 1, 1, 1, 3, 1, 1, 2, 2, 1, 1, 1, 1, 2, 1, 4, 4, 8, 2, 1, 1, 1, 3, 10, 1, 1, 2, 1, 3, 2, 1, 1, 2, 1, 1, 1, 2, 1, 2, 2, 2, 2, 1, 1, 2, 1, 2, 5, 2, 1, 1, 1, 1, 1, 1, 2, 1, 3, 1, 1, 1, 2, 1, 2, 1, 1, 1, 1, 2, 1, 2, 2, 2, 3, 1, 17, 1, 4, 1, 1, 1, 1, 1, 8, 4, 2, 1, 5, 1, 1, 7, 8, 1, 7, 1, 1, 14, 1, 3, 1, 1, 1, 1, 1, 2, 3, 1, 2, 1, 1, 1, 5, 1, 1, 1, 1, 2, 2, 3, 2, 2, 2, 4, 1, 1, 2, 1, 2, 1, 2, 1, 2, 1, 1, 1, 3, 1, 4, 3, 1, 1, 2, 2, 1, 2, 1, 1, 5, 2, 1, 2, 1, 1, 1, 1, 1, 3, 1, 1, 1, 2, 1, 2, 2, 2, 1, 1, 2, 2, 2, 3, 2, 1, 3, 2, 3, 2, 1, 3, 1, 7, 2, 1, 2, 1, 2, 7, 1, 1, 1, 2, 2, 1, 1, 4, 3, 2, 1, 2, 1, 1, 1, 3, 10, 1, 2, 1, 1, 3, 3, 1, 1, 17, 1, 1, 1, 1, 3, 3, 1, 1, 1, 1, 1, 17, 4, 1, 3, 2, 4, 2, 3, 5, 1, 1, 2, 5, 1, 2, 1, 1, 2, 2, 1, 1, 1, 6, 1, 6, 2, 1, 1, 1, 1, 1, 2, 3, 1, 2, 1, 4, 1, 1, 1, 1, 4, 1, 3, 1, 2, 3, 1, 1, 2, 3, 1, 3, 1, 4, 1, 2, 3, 1, 3, 1, 2, 3, 1, 3, 1, 1, 1, 2, 3, 1, 1, 1, 3, 5, 1, 1, 12, 1, 2, 1, 7, 3, 2, 1, 3, 2, 6, 5, 2, 1, 1, 9, 1, 3, 1, 1, 1, 3, 3, 2, 1, 1, 2, 1, 2, 3, 1, 2, 1, 3, 2, 1, 8, 3, 1, 1, 1, 1, 1, 1, 1, 1, 4, 2, 2, 1, 7, 9, 1, 1, 1, 1, 1, 2, 1, 2, 1, 2, 1, 1, 7, 1, 1, 1, 6, 1, 1, 4, 1, 2, 2, 3, 1, 1, 2, 2, 1, 1, 1, 8, 1, 1, 1, 2, 4, 1, 2, 1, 2, 2, 2, 2, 4, 3, 2, 1, 1, 2, 1, 5, 3, 4, 2, 4, 3, 1, 1, 2, 1, 3, 5, 5, 1, 5, 2, 2, 4, 4, 1, 9, 1, 1, 1, 14, 2, 2, 6, 1, 1, 1, 1, 1, 1, 1, 2, 2, 1, 2, 1, 1, 1, 1, 7, 3, 3, 1, 1, 2, 5, 12, 3, 3, 3, 1, 1, 1, 3, 1, 1, 1, 1, 4, 1, 2, 1, 1, 4, 1, 2, 5, 1, 6, 1, 1, 1, 1, 1, 3, 2, 1, 1, 4, 2, 3, 4, 1, 1, 1, 3, 1, 1, 1, 2, 1, 1, 1, 1, 5, 1, 1, 2, 7, 4, 1, 1, 2, 2, 4, 3, 4, 1, 1, 2, 2, 1, 1, 3, 4, 2, 1, 1, 1, 4, 1, 1, 2, 3, 1, 1, 2, 1, 1, 5, 1, 3, 1, 2, 2, 1, 2, 3, 1, 3, 1, 1, 1, 3, 3, 1, 2, 1, 1, 1, 5, 2, 1, 1, 5, 1, 2, 1, 3, 1, 4, 1, 2, 1, 1, 2, 1, 5, 1, 2, 1, 2, 1, 1, 1, 9, 11, 1, 2, 4, 1, 1, 1, 1, 1, 1, 1, 1, 3, 6, 1, 1, 4, 1, 4, 1, 3, 2, 1, 1, 1, 3, 3, 1, 1, 4, 3, 1, 6, 2, 1, 1, 1, 1, 1, 1, 1, 3, 1, 1, 1, 2, 2, 1, 2, 1, 1, 1, 1, 1, 4, 3, 1, 1, 4, 2, 2, 1, 2, 3, 4, 1, 3, 2, 1, 1, 1, 1, 1, 2, 1, 1, 2, 2, 1, 1, 2, 1, 1, 1, 1, 4, 4, 1, 2, 3, 2, 1, 3, 3, 3, 2, 3, 2, 1, 1, 2, 1, 5, 2, 1, 1, 5, 7, 4, 7, 2, 3, 4, 1, 1, 1, 1, 1, 2, 1, 1, 2, 1, 1, 1, 1, 10, 1, 1, 3, 2, 3, 1, 9, 2, 1, 1, 1, 2, 2, 2, 1, 2, 1, 8, 5, 1, 1, 1, 5, 1, 1, 1, 3, 5, 1, 4, 3, 1, 1, 1, 12, 1, 3, 5, 6, 3, 2, 2, 4, 3, 1, 2, 1, 3, 2, 2, 1, 1, 1, 1, 1, 1, 2, 2, 2, 3, 1, 2, 1, 3, 3, 1, 1, 2, 4, 5, 2, 1, 1, 2, 3, 4, 1, 1, 1, 1, 1, 1, 3, 1, 1, 1, 1, 4, 1, 2, 1, 2, 1, 1, 5, 1, 1, 1, 1, 7, 7, 2, 1, 1, 3, 4, 9, 3, 2, 3, 2, 2, 1, 1, 5, 2, 11, 1, 1, 1, 2, 2, 1, 1, 3, 5, 2, 4, 2, 1, 3, 1, 1, 3, 1, 1, 3, 3, 1, 3, 2, 1, 1, 4, 4, 1, 1, 1, 3, 1, 1, 1, 1, 1, 5, 2, 3, 2, 1, 4, 1, 3, 6, 2, 4, 2, 1, 6, 1, 2, 3, 1, 1, 1, 1, 2, 2, 3, 1, 3, 1, 2, 1, 3, 1, 1, 1, 2, 1, 3, 1, 2, 2, 1, 4, 1, 1, 1, 1, 3, 18, 1, 1, 1, 2, 1, 1, 1, 2, 1, 1, 1, 4, 1, 1, 1, 1, 3, 1, 2, 1, 2, 2, 2, 1, 2, 3, 4, 1, 1, 1, 5, 2, 3, 4, 4, 4, 1, 5, 2, 1, 3, 5, 2, 1, 1, 2, 5, 1, 1, 1, 3, 1, 1, 2, 3, 2, 1, 1, 1, 1, 1, 1, 7, 1, 2, 1, 1, 1, 2, 1, 1, 1, 1, 6, 1, 3, 1, 1, 3, 3, 1, 1, 4, 3, 1, 3, 6, 1, 1, 3, 2, 1, 2, 2, 1, 1, 1, 1, 1, 1, 1, 1, 1, 1, 4, 1, 1, 2, 2, 6, 2, 3, 1, 2, 1, 6, 3, 1, 2, 1, 1, 2, 1, 2, 1, 1, 7, 2, 6, 6, 1, 1, 1, 9, 6, 2, 4, 2, 3, 1, 1, 5, 1, 1, 1, 1, 1, 1, 1, 3, 4, 1, 1, 3, 2, 5, 1, 2, 1, 1, 10, 1, 1, 1, 5, 1, 1, 3, 1, 1, 1, 2, 4, 1, 3, 1, 1, 1, 2, 1, 1, 4, 1, 1, 1, 1, 3, 3, 1, 1, 1, 2, 3, 3, 3, 1, 2, 1, 1, 2, 2, 12, 5, 3, 1, 1, 1, 1, 4, 1, 2, 3, 2, 1, 3, 1, 1, 2, 1, 1, 1, 2, 1, 2, 1, 1, 1, 6, 1, 2, 2, 1, 2, 1, 2, 2, 1, 2, 1, 6, 3, 2, 1, 1, 2, 1, 7, 1, 4, 2, 21, 7, 6, 2, 1, 1, 2, 1, 11, 3, 1, 1, 1, 1, 1, 3, 3, 1, 2, 4, 1, 1, 2, 1, 3, 1, 2, 5, 1, 1, 1, 2, 1, 1, 1, 1, 1, 2, 1, 3, 1, 5, 1, 2, 14, 2, 2, 1, 1, 1, 6, 1, 1, 3, 21, 6, 2, 6, 8, 2, 1, 1, 2, 2, 2, 3, 2, 4, 1, 4, 2, 1, 2, 2, 2, 2, 1, 1, 3, 16, 1, 3, 2, 2, 2, 1, 2, 1, 3, 1, 1, 1, 1, 1, 1, 1, 2, 3, 1, 4, 3, 4, 3, 1, 6, 2, 15, 1, 5, 1, 6, 5, 1, 1, 5, 1, 1, 1, 4, 1, 1, 4, 1, 3, 1, 4, 2, 1, 1, 1, 1, 1, 1, 1, 1, 5, 1, 2, 2, 1, 1, 1, 2, 2, 1, 1, 5, 1, 4, 1, 25, 1, 1, 4, 1, 3, 2, 1, 1, 1, 1, 1, 7, 2, 3, 2, 1, 4, 2, 4, 2, 6, 2, 3, 1, 2, 4, 2, 3, 1, 2, 6, 1, 7, 3, 3, 1, 1, 12, 1, 1, 1, 2, 6, 2, 6, 3, 2, 2, 9, 2, 10, 1, 3, 5, 1, 1, 5, 2, 3, 2, 9, 2, 2, 3, 8, 1, 1, 5, 3, 1, 8, 1, 6, 2, 2, 7, 2, 1, 2, 3, 1, 4, 1, 1, 2, 3, 1, 1, 1, 1, 1, 1, 1, 1, 1, 1, 1, 1, 3, 2, 4, 4, 3, 17, 1, 8, 2, 3, 8, 3, 1, 1, 2, 5, 4, 1, 1, 1, 1, 2, 1, 1, 2, 1, 1, 4, 1, 2, 4, 1, 1, 1, 1, 1, 3, 2, 1, 1, 7, 2, 1, 2, 2, 6, 1, 4, 20, 2, 9, 3, 7, 8, 3, 1, 3, 1, 2, 3, 2, 7, 9, 1, 1, 3, 2, 3, 2, 5, 3, 4, 1, 5, 4, 5, 4, 1, 2, 2, 3, 3, 2, 1, 1, 1, 2, 1, 1, 1, 1, 1, 1, 1, 2, 2, 1, 1, 1, 2, 8, 1, 1, 1, 1, 2, 1, 2, 2, 2, 2, 2, 2, 1, 1, 2, 1, 1, 1, 1, 4, 7, 1, 1, 1, 1, 7, 2, 1, 1, 1, 2, 1, 3, 1, 4, 3, 2, 1, 3, 5, 5, 9, 2, 9, 1, 1, 3, 1, 1, 1, 1, 2, 3, 2, 1, 1, 1, 1, 1, 1, 1, 1, 1, 1, 1, 1, 1, 1, 2, 1, 2, 4, 1, 7, 1, 6, 6, 3, 1, 1, 12, 3, 8, 4, 4, 1, 1, 25, 8, 4, 4, 2, 5, 1, 2, 1, 1, 1, 5, 1, 4, 2, 6, 1, 1, 2, 2, 2, 2, 1, 1, 2, 3, 4, 1, 1, 1, 2, 3, 2, 1, 1, 1, 4, 1, 3, 3, 10, 11, 5, 12, 9, 1, 3, 1, 1, 1, 1, 6, 4, 1, 2, 2, 2, 1, 2, 16, 2, 2, 2, 1, 1, 1, 3, 1, 2, 7, 1, 1, 4, 1, 4, 14, 2, 2, 2, 8, 1, 3, 3, 6, 1, 1, 7, 1, 2, 1, 7, 2, 6, 2, 1, 1, 1, 2, 2, 5, 13, 2, 2, 6, 4, 1, 1, 2, 2, 1, 2, 8, 6, 1, 2, 2, 1, 5, 1, 2, 1, 13, 1, 2, 2, 2, 2, 2, 5, 1, 3, 1, 1, 1, 1, 2, 1, 1, 1, 1, 1, 1, 7, 6, 2, 2, 1, 2, 6, 1, 1, 1, 1, 16, 2, 4, 2, 1, 2, 2, 3, 5, 1, 2, 7, 5, 1, 1, 5, 1, 1, 1, 2, 1, 2, 4, 3, 4, 2, 2, 2, 1, 2, 2, 1, 1, 1, 1, 2, 4, 1, 5, 1, 1, 1, 1, 2, 8, 1, 2, 7, 3, 1, 3, 6, 1, 3, 1, 3, 3, 9, 2, 4, 7, 4, 3, 2, 4, 2, 3, 29, 6, 2, 1, 6, 1, 1, 1, 1, 1, 1, 1, 1, 2, 1, 9, 3, 4, 1, 5, 3, 3, 2, 1, 1, 2, 2, 1, 2, 1, 3, 2, 1, 1, 1, 1, 1, 2, 3, 1, 3, 1, 2, 2, 1, 2, 2, 5, 2, 1, 1, 2, 6, 3, 1, 4, 1, 1, 10, 1, 1, 3, 1, 1, 2, 3, 2, 1, 2, 3, 1, 1, 1, 1, 2, 2, 3, 2, 1, 1, 3, 4, 4, 1, 1, 3, 2, 3, 3, 1, 5, 3, 4, 4, 3, 1, 1, 6, 1, 1, 1, 1, 2, 1, 1, 1, 1, 1, 1, 1, 1, 1, 2, 2, 3, 2, 2, 2, 1, 1, 1, 1, 1, 2, 1, 1, 1, 2, 2, 1, 1, 1, 1, 1, 8, 2, 1, 1, 1, 1, 1, 1, 6, 2, 3, 1, 1, 1, 1, 1, 2, 1, 1, 1, 3, 1, 11, 1, 2, 5, 4, 2, 1, 1, 1, 8, 2, 1, 1, 6, 6, 1, 1, 1, 5, 2, 2, 3, 1, 2, 5, 2, 1, 1, 1, 1, 2, 2, 2, 3, 2, 1, 2, 1, 1, 1, 7, 1, 2, 2, 6, 3, 3, 2, 1, 2, 3, 1, 1, 4, 5, 1, 1, 1, 1, 1, 4, 1, 2, 2, 1, 2, 1, 1, 2, 3, 9, 2, 1, 7, 1, 2, 1, 2, 1, 1, 1, 2, 1, 1, 1, 1, 1, 1, 5, 1, 3, 1, 1, 9, 2, 1, 1, 1, 1, 3, 1, 63, 2, 2, 2, 5, 1, 23, 1, 1, 5, 15, 2, 2, 2, 24, 2, 1, 1, 2, 1, 5, 4, 1, 1, 4, 1, 1, 1, 5, 7, 11, 7, 1, 1, 2, 2, 1, 1, 1, 1, 2, 4, 1, 1, 1, 2, 2, 1, 2, 1, 1, 3, 1, 2, 1, 9, 2, 3, 1, 2, 2, 1, 9, 11, 2, 2, 2, 6, 10, 3, 4, 2, 1, 3, 1, 1, 1, 5, 1, 5, 2, 1, 2, 3, 1, 4, 1, 1, 1, 4, 1, 1, 1, 3, 2, 2, 2, 5, 2, 2, 5, 25, 18, 3, 5, 2, 3, 2, 1, 4, 32, 10, 4, 3, 1, 1, 1, 1, 4, 4, 1, 1, 3, 2, 3, 1, 1, 1, 1, 3, 1, 5, 4, 4, 3, 2, 3, 3, 41, 3, 1, 1, 13, 3, 18, 1, 1, 1, 1, 3, 1, 1, 1, 8, 1, 8, 1, 1, 1, 1, 1, 1, 10, 7, 4, 7, 36, 1, 1, 1, 4, 2, 3, 2, 1, 2, 1, 7, 2, 1, 1, 6, 4, 1, 4, 2, 11, 2, 3, 1, 1, 12, 2, 1, 2, 5, 1, 1, 4, 2, 1, 1, 1, 1, 1, 2, 2, 2, 5, 4, 10, 1, 1, 1, 11, 13, 2, 1, 1, 2, 1, 1, 2, 2, 2, 2, 5, 1, 2, 3, 1, 1, 5, 2, 1, 2, 3, 3, 2, 1, 1, 1, 1, 2, 1, 1, 2, 2, 1, 1, 1, 1, 1, 1, 1, 2, 3, 1, 1, 1, 1, 1, 1, 7, 1, 1, 2, 2, 5, 4, 2, 1, 1, 1, 1, 4, 1, 1, 1, 5, 6, 8, 1, 2, 3, 12, 5, 1, 1, 1, 21, 1, 1, 1, 4, 2, 1, 1, 1, 3, 2, 5, 2, 9, 1, 1, 2, 4, 3, 5, 1, 2, 4, 1, 1, 2, 1, 1, 2, 1, 1, 6, 5, 1, 2, 1, 2, 6, 1, 1, 2, 4, 1, 1, 3, 2, 3, 3, 2, 3, 1, 2, 1, 2, 1, 3, 1, 1, 6, 11, 6, 2, 3, 3, 1, 1, 5, 1, 1, 1, 3, 3, 5, 3, 4, 7, 1, 5, 3, 1, 4, 1, 7, 5, 3, 1, 2, 16, 4, 1, 3, 3, 22, 1, 3, 3, 5, 2, 1, 1, 2, 3, 3, 1, 1, 2, 2, 1, 3, 2, 5, 2, 1, 3, 1, 1, 5, 2, 1, 1, 5, 1, 3, 1, 3, 1, 1, 1, 1, 1, 1, 1, 2, 3, 1, 1, 1, 1, 1, 2, 1, 2, 7, 1, 2, 1, 1, 1, 1, 1, 1, 1, 2, 1, 1, 2, 1, 4, 1, 3, 2, 4, 3, 3, 1, 1, 1, 5, 2, 1, 1, 13, 1, 4, 2, 1, 13, 1, 1, 2, 8, 5, 1, 1, 10, 1, 3, 2, 2, 2, 2, 3, 1, 1, 1, 4, 4, 1, 3, 2, 2, 21, 1, 1, 5, 3, 2, 1, 9, 4, 4, 2, 5, 2, 1, 1, 1, 2, 1, 2, 1, 6, 3, 1, 4, 1, 1, 1, 1, 1, 1, 1, 2, 1, 1, 7, 2, 1, 5, 8, 8, 1, 3, 1, 1, 1, 1, 1, 1, 1, 1, 7, 1, 5, 2, 2, 1, 1, 2, 2, 1, 6, 2, 2, 6, 1, 6, 3, 1, 2, 1, 6, 1, 3, 2, 5, 2, 2, 3, 6, 3, 1, 1, 1, 2, 1, 9, 1, 4, 1, 5, 1, 2, 5, 1, 1, 1, 2, 4, 7, 1, 10, 1, 4, 1, 3, 1, 1, 2, 1, 1, 1, 8, 9, 2, 1, 5, 4, 1, 1, 2, 4, 1, 1, 1, 3, 1, 1, 1, 1, 3, 1, 1, 2, 2, 1, 1, 1, 1, 3, 1, 1, 1, 1, 1, 1, 1, 1, 1, 1, 2, 1, 2, 3, 1, 1, 1, 1, 1, 1, 1, 1, 1, 3, 2, 1, 1, 1, 2, 2, 1, 1, 6, 2, 1, 2, 1, 2, 1, 10, 1, 2, 1, 1, 2, 1, 1, 4, 1, 1, 1, 1, 1, 4, 4, 1, 11, 5, 2, 3, 1, 3, 3, 13, 4, 4, 3, 3, 1, 1, 1, 4, 1, 2, 1, 1, 1, 1, 1, 1, 1, 1, 3, 2, 5, 4, 1, 1, 6, 1, 3, 2, 1, 1, 4, 3, 3, 2, 1, 1, 1, 3, 1, 1, 1, 1, 1, 1, 2, 2, 6, 4, 4, 2, 10, 2, 5, 2, 2, 2, 1, 3, 2, 2, 2, 2, 4, 2, 7, 2, 2, 2, 6, 6, 1, 1, 2, 2, 1, 1, 1, 1, 1, 1, 2, 2, 1, 1, 1, 1, 2, 3, 1, 3, 1, 1, 5, 2, 1, 1, 3, 2, 1, 1, 1, 2, 2, 3, 1, 3, 3, 1, 2, 1, 1, 1, 10, 1, 2, 1, 2, 1, 1, 1, 1, 2, 2, 1, 1, 1, 2, 1, 3, 1, 2, 6, 1, 1, 1, 1, 1, 3, 1, 2, 1, 3, 1, 1, 1, 2, 5, 1, 1, 1, 1, 1, 1, 1, 2, 12, 4, 2, 2, 4, 1, 2, 2, 4, 1, 2, 2, 1, 2, 3, 1, 1, 2, 1, 1, 7, 3, 1, 1, 2, 1, 4, 1, 1, 3, 2, 1, 3, 7, 1, 1, 1, 2, 1, 1, 2, 2, 5, 1, 1, 9, 3, 2, 14, 1, 11, 1, 1, 1, 1, 6, 1, 3, 5, 2, 2, 2, 2, 2, 1, 1, 3, 2, 2, 2, 1, 1, 1, 1, 1, 1, 1, 1, 1, 2, 1, 2, 3, 1, 2, 1, 2, 1, 1, 1, 1, 1, 1, 1, 1, 3, 1, 2, 1, 4, 1, 2, 2, 2, 1, 4, 1, 3, 5, 1, 1, 1, 4, 1, 1, 2, 4, 4, 14, 1, 2, 1, 1, 1, 1, 1, 1, 1, 1, 5, 4, 1, 1, 1, 3, 2, 1, 2, 1, 2, 1, 1, 1, 1, 2, 3, 1, 1, 4, 3, 1, 1, 2, 2, 1, 2, 1, 2, 1, 1, 3, 3, 2, 2, 1, 2, 1, 1, 1, 2, 2, 1, 1, 1, 2, 1, 1, 1, 2, 1, 1, 2, 3, 1, 1, 4, 5, 1, 3, 1, 3, 2, 1, 1, 1, 1, 1, 1, 2, 1, 1, 1, 1, 2, 1, 2, 2, 1, 1, 1, 2, 4, 2, 2, 1, 1, 5, 1, 1, 1, 1, 5, 2, 1, 7, 1, 2, 8, 2, 2, 1, 1, 2, 1, 1, 1, 1, 2, 1, 3, 1, 2, 1, 1, 1, 2, 3, 2, 1, 1, 1, 4, 4, 1, 1, 1, 1, 1, 1, 3, 2, 5, 2, 7, 1, 2, 1, 16, 1, 3, 1, 1, 2, 1, 1, 5, 2, 3, 2, 6, 7, 1, 2, 1, 1, 5, 1, 2, 1, 1, 3, 1, 1, 14, 3, 1, 3, 1, 1, 2, 1, 1, 1, 1, 1, 4, 1, 2, 3, 1, 1, 1, 2, 1, 1, 1, 1, 2, 1, 6, 4, 2, 1, 1, 2, 1, 1, 2, 1, 1, 2, 1, 4, 1, 3, 3, 1, 1, 1, 1, 2, 3, 1, 2, 1, 1, 2, 2, 1, 4, 1, 1, 2, 1, 4, 2, 1, 1, 2, 1, 1, 2, 3, 3, 2, 5, 3, 1, 2, 9, 1, 2, 3, 2, 2, 1, 1, 1, 3, 3, 1, 2, 2, 1, 3, 1, 1, 7, 1, 1, 1, 1, 1, 1, 2, 5, 1, 1, 1, 1, 2, 1, 4, 1, 1, 1, 1, 1, 1, 1, 1, 1, 2, 1, 3, 2, 2, 1, 1, 3, 1, 2, 1, 3, 1, 1, 1, 2, 2, 2, 4, 4, 1, 3, 2, 1, 4, 3, 7, 3, 2, 1, 2, 1, 8, 7, 3, 1, 1, 2, 2, 4, 1, 1, 2, 19, 1, 9, 2, 1, 3, 1, 5, 2, 2, 1, 1, 1, 1, 2, 1, 1, 3, 3, 1, 2, 1, 3, 7, 2, 1, 1, 2, 1, 3, 2, 2, 1, 1, 3, 4, 1, 2, 1, 2, 2, 4, 2, 2, 1, 2, 2, 4, 1, 3, 1, 3, 3, 4, 7, 2, 1, 1, 1, 4, 1, 1, 1, 2, 3, 1, 1, 1, 2, 1, 2, 1, 1, 1, 1, 1, 1, 1, 1, 1, 1, 5, 2, 2, 2, 2, 3, 4, 1, 1, 1, 7, 1, 3, 1, 1, 1, 2, 1, 3, 1, 2, 1, 1, 2, 6, 2, 2, 1, 2, 1, 2, 2, 1, 2, 2, 1, 1, 1, 2, 4, 1, 1, 1, 1, 3, 3, 3, 2, 5, 1, 1, 6, 4, 5, 1, 1, 3, 2, 2, 1, 1, 3, 1, 2, 6, 1, 1, 1, 4, 2, 3, 4, 1, 3, 2, 1, 2, 1, 1, 3, 10, 1, 1, 1, 2, 1, 11, 2, 14, 8, 4, 3, 2, 1, 2, 7, 3, 1, 1, 3, 1, 1, 1, 2, 2, 5, 4, 1, 1, 1, 2, 1, 2, 2, 4, 14, 6, 4, 1, 7, 8, 1, 2, 4, 2, 2, 1, 11, 11, 1, 2, 1, 2, 1, 1, 2, 2, 3, 2, 1, 3, 1, 1, 1, 1, 5, 5, 1, 1, 4, 2, 1, 1, 1, 1, 1, 1, 3, 1, 1, 2, 1, 1, 1, 1, 1, 1, 1, 3, 1, 1, 4, 4, 2, 1, 1, 1, 3, 1, 1, 1, 1, 2, 2, 1, 1, 1, 2, 2, 1, 1, 1, 1, 5, 1, 2, 4, 2, 4, 1, 2, 2, 2, 30, 2, 2, 1, 1, 1, 1, 2, 1, 1, 2, 1, 3, 1, 1, 1, 1, 1, 1, 6, 1, 5, 3, 3, 1, 1, 1, 1, 1, 1, 1, 1, 10, 3, 1, 1, 1, 1, 1, 1, 4, 3, 2, 1, 2, 1, 1, 1, 3, 1, 11, 1, 3, 1, 2, 1, 2, 6, 1, 1, 15, 1, 2, 2, 1, 1, 1, 1, 5, 1, 3, 1, 1, 1, 1, 7, 1, 1, 3, 5, 1, 2, 4, 4, 1, 3, 2, 1, 4, 1, 1, 1, 3, 2, 1, 1, 1, 1, 5, 2, 2, 1, 1, 1, 1, 2, 3, 2, 1, 2, 1, 2, 1, 1, 2, 1, 1, 2, 1, 11, 1, 1, 2, 1, 1, 2, 2, 2, 1, 7, 2, 3, 2, 2, 3, 1, 2, 2, 1, 3, 1, 1, 1, 3, 4, 1, 18, 9, 1, 6, 1, 6, 2, 2, 3, 3, 1, 1, 1, 1, 1, 2, 1, 2, 1, 5, 3, 1, 3, 2, 3, 5, 3, 4, 1, 1, 1, 1, 1, 1, 1, 3, 1, 1, 2, 1, 3, 1, 2, 1, 2, 1, 1, 3, 1, 1, 1, 1, 1, 1, 1, 1, 1, 1, 1, 1, 3, 3, 1, 1, 4, 2, 1, 1, 1, 2, 4, 3, 3, 1, 5, 1, 1, 2, 2, 3, 6, 1, 1, 1, 1, 1, 2, 1, 1, 1, 1, 3, 1, 5, 1, 4, 1, 1, 1, 10, 1, 1, 5, 1, 1, 5, 8, 1, 1, 1, 7, 1, 2, 6, 2, 1, 1, 2, 2, 1, 8, 6, 1, 1, 1, 1, 1, 1, 1, 4, 2, 1, 2, 1, 2, 1, 2, 8, 7, 1, 2, 1, 1, 1, 3, 1, 3, 1, 2, 2, 1, 18, 4, 1, 1, 2, 1, 2, 4, 1, 1, 1, 1, 1, 1, 4, 1, 3, 1, 2, 2, 1, 1, 1, 1, 1, 2, 1, 1, 1, 1, 3, 1, 1, 3, 3, 3, 3, 2, 2, 7, 2, 2, 2, 2, 1, 2, 5, 2, 1, 1, 1, 1, 1, 1, 4, 1, 2, 2, 1, 1, 1, 3, 2, 2, 1, 3, 3, 4, 3, 2, 4, 1, 14, 3, 5, 2, 1, 5, 5, 5, 2, 3, 3, 1, 2, 1, 3, 13, 1, 1, 1, 1, 3, 3, 1, 2, 1, 1, 1, 4, 1, 9, 2, 1, 2, 1, 1, 3, 5, 3, 4, 3, 4, 3, 6, 3, 2, 1, 6, 1, 1, 2, 1, 3, 4, 5, 3, 3, 1, 1, 1, 5, 1, 1, 1, 1, 1, 3, 1, 1, 2, 1, 1, 1, 1, 1, 1, 2, 3, 1, 2, 1, 2, 1, 2, 1, 3, 3, 2, 2, 2, 2, 1, 1, 2, 2, 1, 1, 3, 1, 2, 2, 1, 1, 2, 1, 1, 2, 1, 3, 1, 1, 1, 3, 3, 1, 1, 1, 3, 1, 2, 1, 2, 10, 1, 2, 1, 2, 3, 1, 1, 1, 3, 2, 1, 2, 1, 3, 1, 1, 1, 2, 2, 2, 1, 1, 1, 1, 1, 3, 1, 1, 2, 5, 1, 1, 4, 4, 2, 3, 1, 3, 1, 3, 2, 1, 1, 3, 2, 1, 1, 2, 1, 1, 1, 1, 1, 1, 1, 2, 7, 1, 1, 1, 3, 2, 3, 12, 1, 3, 2, 2, 2, 2, 2, 2, 1, 1, 1, 1, 1, 10, 4, 1, 9, 1, 1, 1, 2, 1, 1, 3, 3, 3, 2, 1, 3, 1, 1, 2, 2, 2, 2, 2, 3, 1, 1, 1, 1, 1, 1, 1, 1, 1, 1, 1, 1, 1, 1, 5, 3, 1, 1, 1, 2, 1, 1, 1, 1, 1, 1, 1, 1, 1, 1, 3, 1, 2, 2, 1, 1, 3, 1, 1, 2, 1, 4, 1, 2, 1, 1, 1, 1, 2, 1, 1, 1, 1, 1, 1, 1, 3, 1, 2, 1, 1, 1, 1, 2, 1, 3, 3, 1, 1, 1, 1, 1, 1, 5, 4, 2, 1, 1, 1, 1, 1, 2, 2, 1, 2, 1, 10, 13, 1, 1, 7, 4, 1, 1, 4, 1, 1, 2, 1, 1, 1, 1, 2, 2, 1, 1, 3, 3, 2, 1, 3, 49, 7, 5, 1, 3, 3, 5, 1, 2, 2, 2, 3, 1, 2, 1, 1, 1, 1, 2, 4, 1, 2, 1, 2, 2, 3, 1, 2, 2, 3, 12, 2, 3, 1, 2, 1, 1, 1, 1, 1, 1, 1, 1, 1, 3, 1, 1, 2, 1, 1, 1, 1, 1, 1, 1, 6, 1, 1, 2, 1, 1, 1, 1, 3, 4, 1, 5, 1, 1, 1, 2, 1, 1, 4, 1, 1, 2, 1, 1, 1, 1, 1, 1, 1, 2, 1, 1, 1, 2, 1, 1, 1, 1, 3, 2, 1, 2, 2, 1, 1, 3, 2, 10, 1, 1, 1, 1, 1, 1, 1, 1, 2, 1, 1, 1, 1, 1, 1, 3, 21, 2, 1, 2, 1, 1, 1, 1, 2, 1, 3, 3, 1, 3, 1, 1, 1, 1, 1, 1, 1, 1, 2, 1, 1, 1, 1, 1, 1, 1, 1, 1, 1, 1, 6, 1, 1, 1, 1, 1, 1, 1, 4, 2, 1, 3, 1, 1, 7, 2, 1, 1, 1, 1, 10, 1, 1, 3, 3, 1, 1, 1, 1, 3, 1, 1, 1, 4, 6, 1, 2, 1, 3, 2, 1, 12, 2, 3, 1, 3, 3, 1, 1, 1, 1, 1, 3, 1, 1, 1, 3, 1, 1, 1, 1, 1, 2, 1, 2, 2, 1, 1, 1, 1, 1, 2, 4, 2, 1, 1, 4, 1, 3, 2, 10, 2, 1, 2, 1, 1, 1, 1, 1, 2, 1, 2, 3, 4, 1, 1, 2, 2, 3, 3, 2, 1, 1, 1, 1, 3, 2, 2, 2, 5, 5, 4, 2, 1, 1, 1, 1, 1, 1, 1, 1, 1, 2, 6, 2, 1, 3, 1, 2, 3, 1, 3, 1, 1, 2, 1, 2, 1, 1, 6, 1, 1, 1, 1, 2, 2, 2, 1, 1, 1, 3, 1, 1, 1, 1, 2, 7, 1, 1, 6, 1, 1, 1, 1, 3, 2, 1, 1, 7, 1, 11, 1, 2, 1, 1, 1, 1, 4, 1, 9, 6, 1, 1, 1, 2, 1, 1, 1, 3, 1, 1, 3, 1, 1, 1, 1, 2, 1, 1, 3, 1, 1, 1, 2, 1, 1, 1, 3, 1, 2, 1, 1, 2, 8, 1, 2, 1, 3, 1, 2, 2, 1, 1, 2, 1, 2, 1, 2, 1, 2, 1, 1, 1, 2, 1, 2, 1, 1, 1, 2, 7, 1, 1, 2, 4, 3, 1, 1, 1, 1, 1, 1, 1, 1, 2, 1, 2, 3, 1, 1, 1, 7, 1, 1, 1, 1, 2, 1, 8, 6, 18, 8, 2, 1, 2, 1, 2, 1, 2, 1, 3, 3, 3, 2, 1, 1, 2, 2, 1, 1, 1, 3, 1, 1, 1, 2, 2, 3, 1, 2, 1, 1, 3, 4, 4, 1, 1, 1, 3, 4, 1, 1, 1, 1, 13, 4, 1, 2, 1, 1, 1, 1, 1, 1, 1, 1, 2, 2, 2, 1, 2, 2, 1, 3, 1, 6, 3, 2, 2, 1, 1, 2, 2, 1, 1, 4, 1, 1, 11, 2, 1, 1, 2, 1, 2, 1, 1, 10, 2, 3, 1, 1, 5, 2, 2, 1, 3, 1, 3, 3, 2, 3, 2, 1, 1, 1, 2, 1, 2, 1, 2, 1, 1, 1, 3, 1, 3, 1, 1, 1, 1, 1, 1, 1, 3, 2, 1, 2, 6, 2, 1, 1, 1, 1, 1, 2, 8, 1, 1, 2, 1, 1, 1, 1, 1, 1, 3, 1, 2, 1, 2, 1, 1, 1, 1, 2, 3, 2, 1, 1, 2, 3, 1, 1, 1, 2, 1, 1, 2, 2, 1, 2, 2, 1, 1, 2, 4, 1, 1, 2, 1, 1, 1, 2, 2, 2, 5, 5, 1, 3, 2, 1, 1, 2, 1, 1, 1, 2, 1, 5, 1, 1, 1, 1, 1, 2, 2, 2, 1, 1, 7, 2, 1, 2, 12, 1, 2, 1, 1, 9, 28, 3, 2, 1, 1, 1, 1, 1, 2, 1, 1, 1, 1, 2, 1, 1, 1, 2, 1, 1, 2, 1, 1, 1, 2, 1, 1, 2, 3, 3, 1, 2, 1, 2, 2, 1, 3, 3, 1, 1, 1, 3, 1, 3, 3, 1, 1, 1, 1, 2, 1, 1, 3, 2, 1, 7, 2, 8, 1, 3, 3, 1, 2, 2, 6, 3, 6, 1, 8, 6, 3, 1, 1, 2, 5, 5, 2, 2, 1, 1, 1, 2, 4, 3, 1, 1, 1, 1, 1, 7, 2, 1, 1, 5, 2, 1, 3, 1, 1, 1, 1, 2, 2, 4, 1, 4, 4, 2, 4, 2, 2, 1, 3, 2, 1, 1, 2, 1, 1, 1, 1, 9, 2, 1, 2, 1, 1, 1, 4, 1, 1, 2, 1, 1, 1, 1, 2, 3, 1, 1, 1, 1, 2, 3, 2, 1, 2, 2, 1, 1, 1, 1, 3, 1, 7, 4, 5, 2, 4, 1, 1, 2, 1, 1, 1, 1, 1, 1, 2, 1, 1, 1, 1, 3, 1, 1, 1, 2, 1, 1, 1, 2, 4, 1, 1, 1, 1, 1, 2, 1, 1, 1, 1, 1, 1, 1, 1, 1, 1, 5, 1, 1, 1, 1, 6, 2, 4, 1, 1, 2, 1, 5, 21, 2, 2, 1, 1, 1, 3, 1, 1, 1, 1, 1, 1, 1, 3, 3, 3, 1, 4, 1, 2, 1, 2, 1, 1, 1, 1, 5, 3, 3, 3, 2, 4, 5, 4, 3, 1, 3, 1, 3, 1, 3, 1, 4, 3, 3, 4, 2, 2, 2, 2, 2, 2, 1, 10, 2, 2, 1, 3, 2, 1, 2, 2, 1, 1, 5, 1, 15, 2, 3, 2, 1, 1, 2, 1, 1, 1, 4, 3, 1, 1, 2, 4, 2, 2, 2, 1, 2, 3, 1, 1, 1, 1, 1, 3, 1, 1, 3, 3, 3, 3, 16, 1, 1, 1, 1, 1, 2, 3, 2, 8, 1, 1, 1, 3, 1, 1, 1, 1, 3, 2, 1, 1, 5, 9, 2, 4, 1, 2, 2, 3, 1, 1, 7, 2, 4, 1, 1, 2, 1, 1, 2, 3, 3, 6, 1, 1, 1, 1, 4, 1, 1, 1, 1, 2, 1, 2, 1, 3, 2, 1, 2, 4, 1, 1, 1, 1, 1, 1, 1, 1, 1, 7, 1, 1, 2, 1, 1, 2, 1, 1, 3, 3, 2, 1, 2, 1, 1, 1, 1, 2, 2, 1, 1, 3, 9, 7, 1, 6, 3, 1, 3, 1, 6, 5, 1, 1, 1, 1, 8, 1, 7, 1, 2, 2, 7, 5, 8, 1, 1, 1, 1, 1, 1, 1, 3, 2, 1, 1, 2, 1, 1, 1, 3, 1, 1, 1, 1, 2, 2, 1, 1, 3, 1, 3, 1, 3, 1, 1, 2, 1, 1, 3, 2, 1, 1, 2, 1, 1, 1, 3, 1, 1, 1, 1, 1, 1, 1, 1, 1, 1, 2, 4, 2, 1, 1, 1, 1, 2, 1, 1, 1, 1, 1, 1, 1, 1, 1, 1, 1, 1, 1, 1, 3, 2, 1, 2, 5, 1, 1, 2, 3, 1, 1, 7, 2, 1, 2, 1, 1, 1, 3, 1, 1, 3, 2, 1, 1, 1, 1, 1, 1, 1, 1, 1, 1, 3, 2, 1, 1, 4, 1, 2, 1, 1, 2, 1, 2, 4, 1, 11, 3, 1, 2, 1, 1, 1, 1, 1, 1, 1, 1, 1, 1, 1, 3, 1, 1, 2, 6, 1, 1, 1, 1, 1, 1, 4, 3, 1, 7, 2, 1, 1, 1, 1, 2, 5, 2, 1, 3, 1, 1, 7, 1, 1, 1, 1, 1, 1, 1, 1, 2, 1, 2, 1, 2, 2, 1, 1, 1, 1, 1, 1, 1, 1, 3, 2, 1, 1, 2, 1, 3, 4, 1, 1, 1, 6, 2, 1, 5, 2, 1, 2, 1, 1, 2, 3, 2, 1, 1, 3, 1, 1, 1, 2, 1, 1, 3, 3, 1, 1, 1, 1, 1, 1, 6, 9, 1, 1, 2, 6, 23, 2, 4, 1, 1, 1, 4, 1, 3, 1, 2, 2, 1, 1, 1, 1, 1, 3, 1, 1, 2, 2, 1, 1, 2, 1, 1, 1, 3, 1, 1, 1, 1, 2, 1, 1, 4, 1, 1, 1, 1, 4, 1, 1, 1, 2, 1, 1, 3, 1, 2, 1, 1, 1, 1, 4, 2, 1, 1, 1, 1, 2, 5, 1, 1, 4, 1, 1, 4, 2, 5, 1, 1, 1, 3, 1, 1, 3, 1, 1, 2, 1, 1, 3, 1, 4, 1, 1, 2, 2, 1, 2, 2, 1, 2, 1, 1, 1, 1, 10, 1, 1, 1, 2, 1, 1, 3, 1, 1, 1, 3, 2, 1, 3, 2, 3, 1, 1, 2, 4, 1, 1, 1, 1, 1, 3, 2, 1, 2, 1, 2, 2, 1, 1, 1, 3, 1, 2, 3, 1, 2, 5, 1, 1, 2, 1, 4, 1, 1, 3, 1, 2, 1, 14, 18, 21, 9, 3, 2, 1, 1, 1, 1, 2, 1, 1, 5, 1, 2, 2, 1, 1, 4, 2, 1, 1, 3, 1, 5, 2, 2, 1, 3, 3, 1, 1, 1, 1, 3, 1, 3, 3, 1, 1, 1, 1, 1, 1, 1, 4, 1, 3, 1, 3, 1, 1, 1, 1, 1, 3, 1, 1, 1, 1, 1, 1, 1, 4, 1, 1, 1, 1, 1, 1, 1, 1, 1, 2, 1, 4, 1, 2, 1, 2, 1, 1, 2, 1, 2, 2, 1, 1, 1, 1, 1, 2, 1, 1, 1, 2, 1, 1, 1, 2, 1, 1, 1, 3, 1, 1, 1, 1, 1, 1, 2, 1, 1, 2, 2, 1, 1, 1, 1, 6, 1, 1, 5, 1, 1, 2, 3, 1, 3, 1, 2, 2, 1, 1, 2, 2, 1, 2, 1, 2, 2, 2, 1, 6, 2, 1, 1, 3, 1, 1, 1, 1, 2, 1, 1, 1, 1, 1, 1, 1, 1, 3, 1, 1, 1, 1, 1, 8, 3, 1, 1, 1, 1, 1, 2, 1, 3, 1, 1, 1, 1, 1, 1, 2, 1, 1, 2, 1, 1, 1, 4, 1, 1, 1, 1, 1, 1, 4, 1, 1, 4, 1, 1, 1, 1, 1, 1, 2, 6, 1, 2, 1, 1, 3, 2, 1, 1, 2, 2, 1, 1, 2, 1, 1, 1, 3, 4, 4, 10, 2, 2, 8, 4, 4, 1, 4, 1, 1, 1, 2, 3, 3, 1, 2, 1, 3, 3, 1, 1, 1, 3, 1, 1, 1, 1, 1, 1, 4, 1, 1, 1, 1, 1, 1, 1, 1, 1, 1, 1, 2, 1, 1, 2, 3, 3, 2, 3, 3, 1, 1, 1, 1, 1, 1, 5, 2, 1, 1, 1, 1, 1, 1, 1, 3, 1, 1, 4, 2, 3, 1, 2, 1, 1, 3, 1, 2, 1, 1, 4, 1, 2, 1, 1, 1, 4, 2, 4, 1, 2, 4, 2, 2, 5, 4, 1, 2, 1, 1, 2, 1, 1, 3, 2, 3, 2, 2, 5, 2, 2, 2, 2, 2, 3, 2, 2, 1, 1, 2, 1, 1, 3, 1, 1, 1, 2, 8, 1, 1, 2, 1, 2, 1, 1, 6, 1, 1, 1, 1, 1, 2, 1, 2, 2, 1, 1, 1, 1, 2, 2, 1, 1, 2, 4, 1, 1, 1, 1, 1, 1, 1, 6, 1, 3, 1, 3, 1, 1, 4, 1, 1, 1, 1, 3, 1, 1, 1, 1, 1, 1, 1, 1, 1, 1, 1, 1, 4, 1, 3, 1, 1, 1, 1, 1, 4, 1, 1, 1, 1, 1, 1, 1, 1, 1, 1, 1, 1, 1, 1, 1, 2, 1, 2, 1, 1, 3, 4, 1, 2, 1, 1, 1, 1, 1, 1, 1, 1, 2, 3, 3, 1, 8, 1, 2, 2, 1, 2, 1, 1, 4, 1, 2, 1, 1, 1, 1, 1, 1, 1, 5, 1, 1, 1, 1, 1, 1, 1, 1, 1, 3, 1, 4, 1, 4, 1, 2, 3, 1, 1, 1, 3, 2, 1, 1, 1, 1, 1, 1, 1, 1, 2, 3, 2, 1, 1, 2, 3, 1, 1, 1, 1, 1, 4, 1, 1, 1, 2, 1, 2, 1, 2, 1, 1, 5, 1, 1, 1, 1, 1, 2, 1, 1, 2, 1, 1, 2, 1, 1, 1, 2, 2, 1, 1, 1, 1, 1, 1, 1, 1, 2, 3, 1, 5, 1, 1, 1, 3, 1, 2, 1, 1, 2, 1, 1, 1, 1, 1, 1, 1, 1, 2, 1, 1, 2, 1, 1, 1, 1, 2, 1, 1, 1, 2, 1, 1, 5, 3, 1, 3, 3, 1, 1, 2, 1, 1, 2, 6, 1, 1, 1, 2, 1, 4, 1, 1, 2, 1, 1, 2, 2, 1, 1, 1, 2, 1, 2, 1, 1, 1, 2, 1, 2, 1, 3, 5, 1, 1, 1, 1, 1, 1, 1, 1, 1, 1, 1, 1, 3, 1, 1, 2, 1, 2, 1, 1, 2, 2, 2, 2, 3, 1, 1, 1, 3, 2, 2, 1, 1, 3, 1, 1, 1, 2, 2, 2, 2, 1, 2, 2, 1, 1, 2, 1, 1, 2, 1, 1, 2, 2, 1, 1, 1, 1, 3, 1, 1, 1, 1, 2, 3, 3, 2, 2, 3, 2, 3, 3, 3, 1, 1, 16, 1, 1, 2, 2, 2, 2, 1, 1, 8, 4, 2, 4, 1, 2, 1, 1, 3, 2, 2, 1, 2, 1, 1, 1, 1, 1, 1, 1, 1, 2, 1, 1, 1, 1, 6, 1, 1, 2, 2, 1, 1, 7, 1, 1, 1, 1, 1, 1, 1, 3, 1, 2, 1, 1, 1, 1, 1, 1, 1, 2, 1, 2, 2, 1, 1, 2, 1, 1, 1, 1, 1, 1, 1, 1, 2, 1, 2, 2, 2, 2, 1, 1, 2, 1, 1, 1, 1, 1, 1, 1, 1, 1, 1, 1, 1, 1, 2, 2, 1, 6, 2, 1, 1, 1, 4, 1, 1, 1, 1, 1, 1, 4, 1, 1, 1, 1, 10, 1, 1, 1, 2, 1, 5, 1, 1, 1, 2, 1, 2, 1, 3, 1, 5, 2, 2, 1, 1, 1, 1, 1, 1, 1, 1, 1, 3, 2, 2, 1, 1, 1, 2, 1, 2, 2, 1, 1, 1, 1, 1, 1, 1, 2, 1, 5, 1, 1, 1, 1, 2, 1, 1, 1, 1, 1, 1, 1, 1, 1, 1, 2, 1, 1, 3, 1, 3, 1, 1, 1, 2, 1, 1, 1, 2, 2, 1, 3, 2, 2, 3, 1, 1, 2, 2, 1, 1, 1, 1, 1, 1, 4, 1, 2, 1, 2, 1, 1, 2, 1, 1, 1, 1, 1, 1, 2, 1, 1, 2, 1, 3, 3, 1, 4, 3, 2, 1, 1, 1, 1, 2, 1, 4, 3, 1, 1, 1, 1, 1, 1, 1, 1, 3, 1, 1, 2, 1, 2, 1, 1, 2, 2, 1, 1, 1, 2, 3, 2, 1, 1, 1, 1, 1, 1, 1, 1, 1, 2, 1, 4, 1, 1, 1, 1, 1, 5, 2, 1, 1, 1, 1, 1, 1, 1, 1, 2, 1, 4, 2, 3, 1, 1, 2, 1, 1, 1, 1, 1, 1, 1, 1, 1, 1, 1, 1, 1, 1, 1, 1, 1, 3, 1, 1, 1, 1, 3, 2, 2, 1, 2, 1, 3, 1, 1, 1, 1, 1, 1, 1, 1, 4, 3, 1, 2, 8, 2, 2, 1, 1, 1, 1, 2, 1, 1, 1, 2, 1, 1, 1, 4, 1, 1, 1, 2, 2, 1, 1, 2, 1, 2, 1, 1, 1, 1, 1, 3, 1, 1, 5, 4, 1, 1, 3, 1, 1, 1, 1, 1, 1, 1, 10, 1, 1, 10, 17, 1, 1, 1, 1, 1, 1, 7, 1, 1, 1, 1, 1, 2, 2, 3, 2, 1, 1, 7, 3, 1, 3, 3, 1, 1, 2, 3, 1, 1, 2, 1, 1, 4, 4, 1, 2, 2, 1, 2, 1, 1, 1, 2, 2, 2, 1, 1, 1, 2, 1, 1, 1, 1, 3, 3, 1, 4, 2, 1, 1, 1, 1, 1, 3, 1, 1, 1, 1, 1, 1, 2, 1, 4, 1, 1, 1, 1, 3, 2, 1, 2, 1, 1, 1, 1, 1, 1, 1, 1, 1, 1, 2, 1, 2, 1, 1, 1, 1, 1, 1, 1, 1, 2, 2, 1, 1, 1, 1, 1, 2, 2, 1, 2, 1, 6, 1, 1, 4, 1, 1, 2, 1, 1, 2, 1, 1, 1, 1, 1, 3, 1, 2, 1, 1, 1, 1, 1, 1, 1, 1, 1, 1, 1, 2, 1, 1, 1, 2, 1, 1, 3, 1, 1, 1, 3, 2, 1, 1, 1, 2, 1, 3, 1, 2, 1, 1, 3, 1, 1, 1, 1, 1, 1, 2, 1, 1, 1, 1, 1, 1, 2, 1, 1, 2, 1, 2, 1, 1, 1, 1, 1, 1, 1, 1, 1, 1, 2, 1, 1, 1, 1, 2, 1, 3, 1, 3, 1, 1, 1, 1, 1, 2, 3, 3, 1, 2, 1, 2, 1, 1, 1, 2, 1, 2, 1, 1, 1, 3, 11, 4, 2, 3, 1, 1, 3, 2, 2, 1, 1, 1, 1, 2, 4, 4, 2, 1, 7, 1, 1, 2, 1, 1, 1, 2, 1, 1, 2, 13, 1, 1, 12, 1, 1, 1, 1, 2, 1, 6, 1, 1, 2, 1, 1, 1, 1, 2, 1, 1, 1, 1, 1, 1, 4, 1, 1, 1, 1, 1, 1, 1, 1, 1, 1, 1, 1, 5, 1, 1, 1, 1, 1, 1, 1, 1, 3, 2, 1, 4, 2, 1, 1, 3, 1, 7, 7, 2, 3, 1, 5, 1, 1, 1, 1, 1, 1, 1, 1, 1, 1, 2, 31, 1, 1, 1, 4, 4, 16, 2, 1, 2, 2, 2, 2, 1, 2, 1, 1, 1, 1, 1, 1, 1, 1, 1, 3, 1, 1, 1, 1, 1, 1, 1, 1, 1, 1, 1, 3, 2, 4, 2, 2, 2, 2, 4, 3, 1, 2, 2, 1, 1, 2, 5, 1, 1, 1, 1, 1, 1, 1, 1, 4, 1, 1, 1, 3, 1, 1, 1, 1, 1, 1, 2, 1, 2, 1, 1, 1, 2, 1, 1, 2, 3, 3, 3, 1, 1, 1, 1, 2, 2, 2, 2, 2, 1, 1, 1, 1, 2, 3, 1, 1, 5, 2, 1, 1, 1, 1, 1, 3, 3, 1, 1, 1, 3, 1, 1, 2, 1, 7, 1, 1, 1, 2, 1, 2, 1, 1, 2, 3, 1, 1, 1, 1, 1, 1, 2, 1, 1, 1, 1, 1, 1, 9, 1, 1, 1, 1, 1, 1, 1, 1, 1, 17, 1, 3, 1, 1, 1, 2, 3, 1, 1, 2, 2, 1, 1, 1, 2, 1, 1, 1, 1, 1, 3, 1, 16, 1, 1, 2, 2, 1, 1, 1, 2, 1, 1, 1, 1, 1, 1, 2, 1, 2, 2, 4, 1, 1, 1, 1, 3, 1, 1, 1, 1, 1, 1, 1, 2, 1, 7, 1, 1, 2, 2, 1, 1, 1, 1, 1, 1, 1, 1, 1, 1, 1, 2, 1, 3, 1, 1, 1, 2, 2, 2, 3, 1, 1, 1, 1, 1, 1, 2, 2, 1, 1, 1, 1, 1, 5, 1, 1, 2, 2, 2, 1, 2, 1, 1, 1, 1, 1, 3, 10, 1, 1, 1, 1, 1, 2, 2, 1, 1, 2, 1, 1, 1, 1, 1, 1, 2, 1, 2, 2, 1, 1, 1, 1, 1, 2, 1, 1, 1, 4, 1, 2, 1, 1, 1, 1, 1, 1, 1, 4, 1, 2, 1, 1, 1, 1, 8, 1, 1, 1, 2, 1, 2, 2, 1, 1, 1, 1, 1, 1, 1, 1, 1, 2, 1, 1, 1, 1, 3, 1, 1, 1, 1, 1, 1, 1, 1, 1, 1, 1, 1, 1, 1, 2, 1, 1, 1, 1, 1, 1, 1, 4, 1, 1, 2, 1, 1, 1, 1, 1, 2, 2, 1, 3, 1, 5, 1, 1, 1, 1, 1, 1, 3, 3, 1, 1, 6, 5, 1, 1, 2, 1, 1, 1, 1, 1, 1, 1, 1, 1, 1, 1, 1, 1, 2, 1, 1, 13, 2, 3, 1, 1, 1, 1, 11, 2, 1, 3, 1, 1, 1, 2, 2, 2, 1, 1, 1, 1, 3, 1, 1, 1, 1, 1, 1, 1, 2, 1, 1, 1, 2, 1, 5, 3, 1, 1, 1, 1, 2, 1, 1, 1, 1, 2, 2, 2, 2, 1, 2, 2, 1, 1, 1, 1, 1, 3, 1, 1, 1, 1, 1, 3, 1, 2, 1, 1, 1, 1, 1, 1, 1, 1, 1, 3, 1, 1, 1, 1, 1, 1, 1, 4, 1, 1, 1, 1, 2, 1, 1, 1, 1, 1, 1, 1, 1, 1, 1, 1, 1, 5, 1, 1, 1, 1, 1, 3, 1, 1, 3, 1, 1, 1, 1, 1, 2, 2, 1, 1, 4, 2, 2, 2, 2, 3, 1, 1, 1, 1, 2, 1, 1, 1, 3, 1, 1, 1, 1, 3, 1, 2, 1, 1, 1, 1, 1, 2, 1, 1, 4, 2, 2, 3, 1, 1, 1, 1, 1, 1, 3, 1, 1, 1, 1, 1, 2, 3, 1, 1, 1, 2, 2, 1, 1, 1, 1, 1, 1, 1, 1, 1, 1, 1, 1, 1, 1, 1, 1, 1, 1, 3, 2, 1, 1, 3, 1, 1, 1, 3, 1, 1, 1, 1, 1, 2, 2, 1, 1, 1, 1, 1, 1, 5, 1, 1, 1, 1, 4, 2, 2, 2, 1, 1, 1, 1, 1, 2, 1, 2, 1, 3, 3, 1, 2, 1, 1, 2, 1, 1, 1, 1, 1, 1, 2, 1, 1, 1, 1, 1, 1, 1, 1, 2, 1, 3, 1, 5, 1, 1, 1, 2, 1, 1, 1, 3, 3, 1, 3, 1, 10, 1, 1, 1, 1, 11, 1, 1, 1, 1, 1, 1, 1, 1, 1, 1, 1, 1, 1, 1, 3, 1, 2, 2, 1, 1, 1, 1, 1, 1, 1, 1, 1, 2, 2, 1, 1, 1, 1, 1, 1, 1, 1, 5, 5, 5, 1, 1, 2, 2, 1, 4, 1, 2, 1, 1, 1, 1, 2, 2, 1, 1, 1, 1, 1, 1, 1, 1, 1, 1, 1, 1, 1, 1, 1, 1, 1, 1, 1, 1, 4, 2, 1, 1, 2, 1, 2, 1, 3, 1, 1, 2, 1, 2, 1, 1, 1, 2, 1, 1, 1, 1, 1, 1, 4, 1, 1, 1, 1, 1, 1, 3, 1, 1, 1, 1, 1, 2, 2, 1, 1, 1, 1, 2, 1, 1, 1, 1, 1, 1, 1, 11, 3, 1, 1, 1, 2, 1, 1, 1, 3, 1, 2, 1, 1, 1, 1, 1, 1, 1, 1, 1, 1, 1, 2, 2, 1, 1, 1, 1, 6, 1, 1, 2, 1, 1, 1, 1, 1, 1, 1, 1, 1, 1, 2, 1, 1, 2, 1, 1, 2, 1, 1, 1, 1, 1, 3, 1, 2, 1, 1, 1, 2, 1, 1, 1, 2, 1, 1, 2, 2, 2, 1, 1, 1, 2, 1, 1, 1, 1, 3, 1, 1, 1, 1, 1, 1, 3, 1, 1, 1, 1, 1, 1, 1, 1, 1, 1, 1, 2, 1, 1, 1, 1, 3, 6, 3, 1, 1, 1, 2, 1, 1, 1, 1, 1, 1, 1, 1, 2, 1, 1, 2, 1, 1, 1, 1, 1, 1, 3, 1, 16, 2, 1, 1, 1, 1, 1, 7, 1, 1, 10, 5, 1, 1, 1, 1, 1, 1, 1, 1, 1, 1, 2, 1, 1, 1, 1, 1, 1, 1, 2, 1, 1, 3, 7, 1, 1, 3, 3, 1, 1, 2, 1, 5, 3, 1, 1, 1, 1, 1, 1, 2, 1, 1, 1, 1, 2, 1, 1, 1, 1, 1, 1, 2, 1, 1, 2, 3, 1, 1, 2, 1, 1, 1, 1, 1, 1, 1, 1, 2, 1, 1, 1, 2, 1, 1, 2, 1, 1, 1, 1, 1, 1, 1, 1, 1, 1, 1, 1, 1, 1, 2, 1, 1, 1, 1, 2, 1, 1, 1, 2, 3, 1, 1, 1, 6, 1, 5, 1, 1, 2, 1, 1, 1, 2, 1, 1, 3, 1, 1, 1, 2, 1, 1, 1, 1, 1, 1, 1, 1, 1, 1, 1, 1, 1, 1, 2, 1, 1, 1, 1, 1, 1, 1, 1, 1, 1, 1, 1, 1, 1, 1, 1, 1, 1, 1, 2, 1, 4, 1, 1, 1, 1, 6, 2, 1, 1, 1, 1, 1, 1, 5, 1, 1, 1, 4, 1, 3, 2, 3, 1, 2, 1, 9, 4, 1, 3, 2, 1, 1, 1, 1, 1, 1, 1, 1, 2, 1, 1, 1, 1, 1, 1, 2, 1, 1, 1, 1, 1, 3, 2, 1, 1, 1, 2, 1, 1, 4, 1, 3, 3, 4, 1, 1, 8, 1, 2, 1, 1, 2, 1, 1, 1, 1, 3, 3, 2, 1, 2, 3, 1, 1, 3, 3, 1, 1, 1, 1, 1, 2, 2, 1, 2, 1, 1, 1, 3, 1, 1, 1, 1, 1, 1, 1, 2, 2, 1, 2, 1, 1, 1, 1, 1, 1, 1, 1, 1, 1, 2, 1, 3, 1, 1, 1, 1, 1, 1, 1, 1, 1, 1, 1, 1, 1, 1, 2, 1, 2, 1, 2, 1, 3, 1, 1, 1, 1, 4, 2, 1, 1, 2, 5, 2, 2, 2, 1, 1, 2, 2, 1, 1, 1, 1, 1, 1, 2, 1, 1, 1, 1, 1, 1, 1, 1, 1, 3, 1, 4, 1, 2, 1, 1, 2, 2, 2, 1, 1, 2, 1, 1, 1, 1, 1, 1, 2, 1, 1, 1, 1, 1, 2, 1, 1, 1, 1, 2, 5, 1, 3, 2, 2, 1, 1, 6, 1, 1, 1, 1, 1, 1, 1, 16, 1, 1, 2, 1, 1, 1, 1, 4, 4, 1, 1, 1, 2, 1, 1, 1, 1, 1, 2, 1, 4, 2, 1, 1, 2, 2, 1, 2, 1, 4, 1, 1, 2, 1, 1, 1, 2, 2, 1, 1, 1, 2, 1, 1, 1, 1, 2, 2, 1, 1, 2, 1, 1, 1, 1, 1, 1, 1, 1, 1, 1, 1, 1, 1, 1, 2, 1, 3, 2, 1, 2, 1, 13, 2, 2, 2, 1, 1, 2, 1, 1, 1, 3, 2, 1, 1, 1, 1, 1, 1, 2, 1, 2, 1, 2, 2, 2, 2, 1, 1, 1, 1, 1, 2, 2, 4, 1, 4, 1, 1, 1, 1, 2, 1, 1, 1, 1, 1, 2, 2, 1, 1, 1, 1, 1, 2, 1, 2, 1, 1, 1, 1, 1, 1, 2, 1, 4, 1, 3, 2, 1, 1, 3, 3, 1, 2, 1, 1, 1, 2, 3, 1, 2, 3, 4, 3, 1, 2, 2, 2, 1, 2, 1, 1, 1, 1, 1, 3, 2, 1, 1, 2, 2, 2, 1, 4, 1, 1, 1, 1, 1, 1, 2, 2, 1, 2, 3, 4, 1, 2, 1, 2, 2, 2, 1, 1, 1, 1, 1, 2, 1, 1, 1, 1, 1, 1, 2, 1, 1, 1, 1, 1, 1, 1, 4, 1, 1, 2, 1, 1, 1, 3, 1, 1, 1, 1, 4, 1, 2, 2, 1, 1, 2, 2, 2, 1, 1, 1, 2, 1, 1, 1, 1, 1, 1, 5, 1, 3, 2, 1, 4, 1, 1, 1, 1, 1, 1, 1, 1, 1, 3, 1, 1, 1, 1, 1, 1, 1, 1, 2, 12, 1, 1, 1, 1, 1, 2, 1, 1, 1, 1, 1, 1, 1, 1, 1, 1, 1, 1, 1, 1, 1, 1, 1, 1, 2, 1, 1, 1, 1, 1, 1, 2, 1, 1, 3, 1, 1, 1, 2, 1, 1, 2, 1, 1, 1, 1, 3, 1, 1, 1, 2, 1, 1, 1, 1, 1, 2, 1, 1, 1, 1, 1, 1, 1, 1, 2, 1, 3, 1, 2, 1, 1, 1, 1, 1, 1, 1, 1, 1, 1, 2, 1, 2, 1, 3, 3, 1, 1, 1, 1, 1, 1, 1, 2, 1, 1, 1, 1, 1, 2, 2, 1, 1, 1, 2, 2, 1, 2, 1, 2, 3, 1, 1, 1, 1, 1, 1, 2, 4, 1, 1, 1, 1, 1, 2, 1, 1, 4, 1, 1, 1, 1, 1, 1, 1, 2, 1, 3, 2, 1, 1, 1, 1, 1, 2, 1, 1, 2, 1, 1, 1, 2, 1, 1, 1, 1, 1, 1, 1, 1, 1, 1, 1, 1, 1, 2, 1, 2, 1, 1, 1, 1, 1, 1, 2, 1, 4, 1, 2, 2, 1, 1, 1, 1, 1, 1, 1, 1, 1, 1, 1, 5, 2, 1, 2, 3, 1, 1, 1, 1, 1, 3, 2, 1, 1, 1, 1, 1, 1, 2, 1, 1, 2, 1, 2, 1, 1, 1, 1, 1, 1, 1, 1, 1, 1, 1, 1, 1, 1, 1, 2, 2, 1, 1, 3, 1, 1, 1, 1, 1, 1, 1, 1, 1, 1, 1, 1, 1, 1, 1, 1, 1, 1, 1, 1, 1, 1, 1, 1, 1, 1, 1, 1, 1, 1, 1, 1, 2, 1, 1, 1, 1, 1, 1, 1, 1, 5, 1, 2, 1, 1, 1, 1, 1, 1, 1, 1, 1, 1, 2, 1, 7, 2, 2, 1, 1, 2, 2, 1, 1, 1, 1, 1, 1, 4, 3, 1, 2, 1, 1, 3, 7, 5, 13, 1, 2, 1, 1, 1, 1, 1, 1, 1, 1, 1, 3, 6, 1, 2, 1, 1, 2, 1, 1, 1, 1, 1, 1, 1, 1, 1, 2, 1, 1, 1, 1, 1, 1, 1, 1, 1, 1, 1, 1, 1, 15, 1, 1, 1, 1, 1, 1, 1, 1, 1, 1, 1, 1, 1, 1, 1, 1, 1, 1, 1, 1, 1, 1, 1, 1, 1, 3, 1, 1, 3, 1, 1, 1, 1, 1, 4, 1, 1, 1, 1, 2, 1, 1, 1, 1, 1, 1, 3, 1, 2, 1, 1, 1, 1, 1, 1, 2, 1, 1, 2, 1, 2, 1, 1, 1, 1, 1, 1, 2, 1, 2, 1, 3, 1, 1, 1, 1, 1, 3, 2, 1, 1, 2, 1, 1, 1, 1, 9, 3, 1, 2, 1, 1, 1, 1, 2, 1, 7, 1, 2, 1, 1, 1, 1, 1, 3, 3, 1, 1, 2, 1, 1, 1, 1, 2, 3, 2, 17, 3, 3, 3, 3, 1, 1, 1, 1, 1, 1, 1, 1, 1, 1, 1, 1, 1, 1, 1, 1, 1, 1, 1, 1, 1, 1, 1, 1, 1, 1, 1, 1, 1, 1, 1, 1, 1, 1, 1, 1, 1, 1, 3, 1, 1, 1, 1, 1, 1, 1, 1, 1, 1, 1, 1, 1, 5, 1, 2, 2, 3, 1, 3, 1, 1, 1, 1, 1, 1, 1, 1, 1, 1, 2, 3, 1, 1, 1, 1, 2, 1, 1, 1, 1, 1, 1, 1, 1, 1, 1, 4, 1, 2, 1, 1, 1, 1, 2, 1, 1, 1, 1, 2, 1, 1, 2, 1, 1, 4, 1, 1, 1, 1, 2, 1, 1, 2, 1, 1, 1, 1, 1, 1, 1, 1, 1, 1, 1, 1, 2, 1, 1, 1, 1, 1, 1, 1, 1, 1, 1, 1, 1, 1, 1, 1, 2, 1, 1, 1, 6, 1, 1, 2, 1, 1, 1, 1, 1, 1, 1, 1, 1, 1, 2, 1, 1, 1, 6, 1, 1, 1, 1, 1, 1, 2, 1, 1, 1, 1, 1, 2, 1, 2, 2, 1, 1, 1, 1, 1, 1, 2, 1, 1, 1, 1, 1, 2, 1, 1, 1, 1, 1, 2, 1, 1, 2, 1, 1, 2, 1, 1, 1, 1, 1, 1, 1, 1, 1, 1, 1, 2, 2, 1, 1, 1, 1, 1, 1, 1, 1, 1, 1, 2, 1, 1, 1, 2, 1, 1, 2, 1, 1, 1, 1, 1, 2, 1, 2, 2, 3, 1, 1, 1, 17, 1, 16, 2, 1, 1, 1, 1, 1, 2, 3, 1, 1, 1, 1, 2, 2, 1, 1, 1, 2, 3, 1, 1, 1, 1, 1, 1, 4, 4, 1, 1, 1, 1, 1, 1, 1, 1, 1, 1, 2, 1, 1, 1, 1, 1, 1, 8, 4, 1, 1, 1, 1, 1, 1, 1, 1, 1, 1, 1, 1, 1, 2, 1, 1, 1, 1, 1, 2, 1, 1, 1, 2, 1, 1, 1, 1, 1, 1, 1, 1, 2, 1, 1, 1, 2, 1, 1, 3, 1, 1, 2, 1, 1, 1, 1, 1, 2, 1, 1, 3, 1, 1, 1, 1, 1, 1, 1, 1, 1, 1, 1, 1, 1, 1, 7, 1, 1, 1, 3, 1, 1, 1, 1, 1, 1, 1, 2, 2, 1, 1, 2, 1, 1, 2, 2, 8, 1, 1, 1, 1, 2, 2, 1, 1, 1, 1, 1, 1, 1, 1, 3, 1, 1, 1, 1, 1, 2, 1, 2, 1, 1, 1, 1, 2, 1, 1, 1, 1, 1, 1, 1, 1, 1, 1, 1, 1, 1, 2, 2, 1, 1, 1, 3, 1, 1, 1, 2, 1, 1, 2, 1, 1, 1, 1, 1, 1, 1, 1, 2, 1, 2, 1, 1, 1, 1, 1, 1, 1, 3, 1, 1, 2, 2, 1, 3, 2, 2, 1, 1, 1, 1, 1, 1, 1, 1, 1, 1, 2, 5, 4, 1, 1, 3, 1, 1, 2, 1, 1, 1, 2, 1, 1, 1, 1, 1, 1, 1, 1, 1, 1, 1, 1, 1, 1, 1, 3, 1, 1, 1, 3, 2, 1, 1, 2, 1, 1, 1, 2, 1, 1, 1, 1, 1, 1, 1, 2, 1, 2, 2, 1, 1, 1, 1, 1, 1, 1, 2, 1, 1, 1, 1, 1, 1, 1, 4, 1, 1, 1, 1, 2, 1, 1, 1, 2, 1, 8, 1, 1, 1, 2, 3, 1, 3, 1, 1, 1, 1, 1, 1, 2, 1, 1, 2, 1, 1, 1, 1, 1, 1, 1, 1, 1, 1, 1, 1, 1, 1, 1, 1, 1, 2, 2, 1, 1, 1, 1, 2, 1, 1, 1, 2, 1, 1, 1, 1, 1, 1, 1, 1, 1, 1, 1, 1, 1, 4, 1, 1, 1, 1, 1, 1, 1, 1, 1, 1, 1, 2, 1, 1, 1, 2, 2, 1, 1, 1, 1, 2, 1, 1, 1, 1, 1, 1, 1, 1, 1, 2, 2, 1, 1, 2, 1, 1, 1, 2, 1, 1, 1, 1, 2, 1, 1, 1, 2, 1, 1, 2, 1, 15, 1, 1, 8, 2, 10, 1, 3, 1, 1, 4, 1, 1, 1, 1, 1, 1, 1, 1, 1, 1, 1, 1, 1, 1, 1, 1, 1, 1, 13, 5, 1, 1, 1, 2, 1, 1, 1, 1, 1, 1, 2, 1, 1, 1, 1, 1, 1, 1, 1, 1, 1, 1, 1, 1, 1, 1, 1, 1, 1, 1, 1, 1, 1, 1, 1, 1, 1, 1, 1, 1, 1, 3, 1, 2, 2, 1, 2, 1, 1, 1, 1, 1, 2, 3, 1, 1, 1, 1, 1, 1, 1, 2, 1, 1, 1, 1, 1, 1, 1, 1, 1, 1, 1, 1, 1, 1, 1, 1, 1, 1, 1, 1, 1, 1, 1, 1, 3, 1, 1, 1, 1, 1, 1, 1, 1, 1, 1, 1, 1, 1, 1, 1, 1, 2, 1, 1, 1, 1, 12, 1, 3, 1, 2, 1, 1, 1, 1, 1, 1, 1, 3, 1, 1, 1, 1, 1, 1, 1, 1, 1, 1, 1, 1, 1, 1, 1, 1, 1, 1, 1, 5, 1, 1, 1, 1, 1, 1, 1, 1, 1, 1, 1, 2, 1, 1, 1, 1, 1, 1, 2, 1, 3, 1, 1, 1, 2, 1, 1, 1, 2, 1, 1, 1, 1, 1, 1, 1, 1, 1, 1, 2, 1, 1, 1, 1, 1, 4, 2, 1, 3, 1, 1, 1, 5, 1, 1, 1, 1, 1, 1, 1, 1, 1, 2, 1, 1, 1, 6, 1, 1, 1, 1, 1, 2, 1, 2, 2, 1, 1, 1, 1, 1, 1, 1, 1, 1, 1, 1, 1, 1, 1, 1, 1, 1, 1, 1, 1, 1, 1, 1, 1, 1, 1, 1, 1, 2, 1, 1, 1, 1, 1, 1, 1, 1, 2, 1, 1, 1, 1, 1, 1, 1, 1, 1, 1, 1, 1, 1, 2, 1, 2, 1, 2, 1, 3, 1, 2, 1, 1, 1, 1, 1, 1, 3, 5, 3, 26, 13, 10, 1, 1, 1, 2, 8, 1, 1, 2, 1, 2, 1, 1, 1, 1, 1, 1, 1, 3, 1, 2, 1, 1, 1, 1, 1, 1, 1, 1, 1, 7, 4, 1, 1, 1, 1, 1, 1, 1, 2, 1, 1, 2, 1, 1, 1, 2, 1, 1, 2, 1, 2, 1, 1, 1, 1, 1, 1, 1, 1, 1, 1, 2, 1, 1, 2, 1, 1, 1, 1, 1, 1, 1, 1, 1, 1, 1, 1, 1, 1, 1, 1, 2, 1, 1, 1, 1, 1, 2, 1, 1, 1, 1, 1, 1, 1, 1, 1, 1, 1, 1, 2, 1, 1, 1, 1, 1, 1, 1, 1, 1, 1, 1, 1, 1, 1, 1, 1, 1, 1, 2, 1, 2, 3, 1, 1, 1, 2, 2, 2, 1, 1, 1, 1, 1, 1, 1, 1, 1, 2, 1, 1, 1, 1, 1, 2, 1, 1, 1, 1, 1, 1, 1, 5, 1, 1, 1, 1, 1, 1, 1, 1, 1, 1, 1, 1, 1, 1, 1, 1, 1, 1, 1, 1, 1, 1, 1, 1, 1, 1, 1, 1, 2, 1, 1, 1, 1, 1, 1, 3, 1, 1, 1, 2, 1, 1, 1, 1, 1, 1, 1, 1, 1, 1, 1, 1, 1, 1, 1, 1, 1, 1, 1, 2, 2, 1, 1, 1, 1, 1, 1, 1, 1, 1, 1, 1, 1, 1, 2, 2, 6, 1, 2, 1, 1, 1, 1, 1, 1, 1, 1, 1, 1, 1, 1, 2, 1, 1, 1, 1, 1, 1, 1, 1, 3, 1, 1, 1, 1, 1, 1, 1, 1, 1, 1, 1, 1, 1, 2, 1, 1, 2, 2, 2, 1, 1, 2, 1, 1, 1, 1, 1, 1, 1, 1, 1, 1, 2, 1, 1, 1, 1, 2, 1, 1, 2, 1, 2, 1, 2, 1, 1, 1, 1, 1, 1, 1, 1, 1, 1, 1, 1, 1, 1, 1, 1, 1, 1, 3, 2, 1, 4, 1, 1, 1, 1, 1, 1, 1, 2, 2, 2, 1, 1, 1, 5, 1, 1, 1, 1, 5, 6, 1, 1, 1, 2, 1, 1, 1, 1, 1, 1, 1, 1, 1, 1, 1, 2, 1, 1, 2, 1, 2, 1, 1, 1, 1, 1, 1, 1, 1, 1, 1, 1, 1, 2, 1, 1, 1, 1, 1, 1, 1, 1, 6, 1, 1, 1, 1, 1, 1, 2, 1, 1, 1, 1, 2, 1, 1, 1, 1, 1, 1, 1, 2, 1, 1, 1, 1, 4, 3, 3, 1, 2, 2, 1, 1, 1, 1, 1, 1, 2, 1, 1, 1, 1, 5, 1, 1, 4, 1, 1, 1, 1, 1, 2, 2, 13, 1, 1, 1, 1, 5, 1, 1, 1, 1, 7, 3, 1, 1, 1, 3, 6, 1, 1, 1, 2, 1, 1, 1, 1, 1, 1, 1, 1, 1, 1, 2, 1, 1, 1, 1, 1, 1, 1, 1, 1, 1, 2, 2, 1, 1, 1, 1, 1, 1, 1, 1, 1, 1, 1, 1, 1, 1, 1, 1, 1, 2, 1, 1, 1, 1, 1, 1, 1, 1, 1, 1, 1, 1, 1, 1, 1, 1, 1, 1, 1, 3, 1, 1, 1, 2, 1, 1, 1, 1, 1, 1, 2, 1, 1, 1, 1, 1, 1, 2, 2, 1, 1, 1, 1, 2, 1, 1, 2, 7, 10, 1, 3, 6, 3, 3, 2, 2, 1, 1, 3, 1, 1, 1, 3, 1, 1, 1, 1, 1, 1, 1, 2, 2, 1, 2, 1, 1, 2, 2, 1, 1, 1, 2, 1, 1, 1, 1, 1, 1, 1, 1, 1, 1, 1, 1, 1, 2, 1, 1, 1, 1, 1, 1, 2, 2, 1, 1, 1, 6, 1, 2, 1, 1, 1, 1, 1, 1, 1, 1, 1, 1, 1, 1, 1, 3, 1, 1, 1, 1, 1, 1, 1, 2, 3, 1, 1, 3, 1, 1, 1, 1, 1, 1, 2, 1, 1, 2, 1, 1, 1, 1, 1, 1, 1, 2, 1, 1, 1, 1, 1, 1, 1, 1, 1, 1, 1, 1, 1, 1, 2, 1, 1, 2, 1, 1, 1, 1, 1, 2, 1, 1, 1, 1, 1, 1, 1, 1, 1, 1, 1, 1, 7, 1, 2, 2, 2, 1, 1, 1, 3, 2, 1, 1, 1, 1, 1, 1, 1, 1, 2, 1, 1, 1, 1, 2, 1, 1, 1, 1, 1, 1, 1, 1, 1, 1, 1, 1, 1, 1, 1, 1, 1, 1, 1, 1, 1, 1, 1, 2, 1, 1, 1, 1, 1, 1, 1, 1, 2, 1, 1, 1, 1, 1, 1, 2, 1, 5, 1, 1, 1, 2, 1, 1, 1, 1, 1, 2, 1, 1, 1, 1, 1, 1, 1, 1, 9, 1, 6, 1, 1, 1, 2, 1, 1, 1, 1, 3, 5, 1, 2, 1, 1, 1, 1, 1, 1, 1, 1, 1, 1, 2, 1, 2, 1, 1, 6, 2, 1, 1, 1, 1, 1, 1, 1, 1, 1, 1, 1, 1, 1, 1, 1, 1, 1, 1, 1, 2, 1, 2, 1, 1, 1, 1, 1, 9, 1, 1, 1, 1, 1, 2, 1, 1, 3, 2, 1, 1, 1, 1, 2, 1, 4, 2, 1, 1, 1, 1, 1, 1, 1, 1, 1, 2, 1, 1, 1, 1, 1, 1, 1, 1, 1, 1, 1, 1, 1, 1, 1, 1, 1, 1, 1, 1, 1, 1, 1, 1, 1, 1, 1, 2, 1, 2, 1, 1, 1, 1, 1, 1, 1, 1, 1, 1, 11, 2, 6, 1, 2, 3, 1, 1, 1, 1, 1, 1, 1, 1, 1, 1, 1, 1, 1, 1, 1, 1, 1, 1, 1, 1, 2, 1, 1, 1, 1, 1, 1, 1, 1, 3, 1, 1, 3, 1, 1, 2, 3, 1, 2, 2, 1, 1, 1, 1, 1, 1, 1, 1, 1, 1, 1, 1, 1, 1, 1, 1, 1, 1, 1, 1, 1, 1, 1, 1, 1, 2, 1, 1, 1, 1, 2, 1, 1, 1, 1, 1, 1, 1, 1, 1, 3, 1, 1, 1, 1, 1, 1, 1, 1, 1, 1, 1, 1, 1, 1, 1, 2, 1, 1, 1, 1, 5, 1, 1, 1, 1, 1, 1, 2, 1, 1, 1, 1, 1, 1, 1, 1, 1, 1, 1, 1, 1, 2, 2, 2, 1, 1, 2, 1, 2, 1, 1, 1, 1, 2, 3, 1, 1, 1, 1, 1, 1, 1, 1, 1, 2, 1, 1, 1, 1, 1, 1, 1, 1, 1, 1, 1, 1, 3, 1, 1, 1, 1, 1, 1, 1, 1, 1, 1, 1, 2, 2, 1, 1, 2, 1, 1, 1, 1, 1, 1, 1, 1, 3, 1, 2, 9, 1, 1, 1, 1, 1, 1, 1, 1, 1, 1, 2, 1, 1, 2, 1, 1, 1, 1, 1, 1, 2, 1, 2, 1, 1, 1, 1, 1, 2, 1, 5, 1, 1, 1, 1, 1, 3, 1, 1, 1, 1, 1, 1, 1, 1, 1, 1, 1, 2, 1, 1, 1, 1, 1, 1, 1, 1, 1, 2, 1, 1, 1, 1, 1, 1, 1, 1, 1, 1, 2, 1, 1, 1, 2, 1, 3, 1, 9, 4, 2, 5, 1, 1, 1, 1, 1, 1, 1, 1, 1, 1, 1, 1, 1, 1, 1, 1, 2, 1, 1, 1, 1, 2, 3, 1, 1, 1, 1, 1, 1, 1, 1, 1, 1, 1, 1, 1, 1, 1, 1, 1, 1, 1, 1, 1, 1, 1, 1, 1, 1, 1, 1, 1, 1, 1, 1, 1, 1, 1, 1, 1, 1, 1, 1, 1, 1, 1, 1, 1, 1, 2, 1, 1, 1, 1, 1, 1, 1, 1, 1, 1, 1, 1, 1, 1, 1, 1, 8, 1, 1, 1, 1, 1, 1, 4, 1, 1, 3, 1, 1, 1, 1, 2, 1, 1, 1, 1, 1, 2, 1, 1, 1, 1, 1, 1, 1, 1, 1, 1, 1, 1, 1, 1, 1, 1, 1, 2, 2, 1, 3, 1, 1, 1, 1, 1, 4, 1, 1, 1, 1, 1, 1, 1, 1, 1, 1, 1, 1, 1, 1, 1, 1, 1, 1, 1, 2, 2, 1, 1, 1, 1, 1, 3, 3, 1, 1, 1, 1, 1, 1, 1, 1, 1, 1, 1, 1, 1, 1, 2, 1, 1, 1, 1, 1, 1, 1, 2, 1, 1, 1, 1, 1, 1, 4, 1, 1, 1, 1, 1, 1, 1, 1, 1, 1, 6, 1, 1, 11, 1, 2, 2, 7, 3, 1, 2, 1, 1, 1, 1, 1, 1, 1, 1, 1, 1, 1, 1, 1, 1, 1, 1, 1, 1, 1, 1, 1, 1, 1, 1, 1, 1, 1, 1, 1, 1, 1, 1, 1, 1, 2, 1, 1, 1, 1, 1, 1, 1, 1, 1, 1, 1, 3, 1, 1, 1, 1, 1, 3, 1, 1, 1, 1, 1, 1, 1, 1, 1, 1, 1, 4, 2, 1, 1, 1, 1, 1, 1, 1, 1, 1, 1, 3, 2, 1, 1, 1, 1, 1, 1, 1, 1, 1, 1, 1, 1, 1, 1, 1, 2, 1, 1, 1, 1, 2, 1, 1, 1, 1, 1, 1, 2, 1, 1, 1, 1, 1, 1, 1, 1, 1, 1, 1, 1, 1, 1, 1, 1, 1, 1, 1, 1, 1, 1, 1, 1, 1, 1, 1, 1, 1, 1, 1, 1, 1, 1, 1, 1, 1, 1, 1, 1, 1, 1, 1, 1, 1, 1, 1, 1, 1, 1, 1, 1, 1, 1, 1, 1, 1, 1, 1, 1, 1, 1, 1, 1, 1, 1, 1, 2, 1, 1, 1, 2, 1, 1, 1, 1, 1, 1, 1, 1, 1, 1, 1, 4, 1, 1, 1, 1, 1, 1, 4, 1, 1, 1, 1, 2, 1, 1, 1, 1, 5, 1, 1, 1, 1, 1, 1, 1, 1, 1, 1, 2, 1, 1, 1, 1, 1, 1, 1, 1, 3, 1, 1, 1, 1, 1, 1, 1, 1, 1, 1, 1, 2, 1, 1, 1, 1, 1, 1, 1, 1, 1, 4, 1, 1, 1, 1, 1, 2, 1, 1, 1, 1, 1, 2, 1, 1, 1, 1, 1, 1, 1, 1, 1, 1, 1, 1, 1, 1, 1, 1, 1, 1, 1, 1, 1, 1, 1, 1, 1, 1, 1, 1, 1, 1, 1, 1, 1, 1, 1, 1, 1, 1, 1, 1, 1, 1, 1, 1, 1, 1, 1, 1, 1, 1, 1, 1, 1, 1, 1, 1, 1, 1, 1, 8, 1, 1, 1, 1, 1, 1, 1, 1, 1, 1, 1, 1, 1, 11, 11, 1, 1, 1, 1, 1, 1, 1, 1, 1, 1, 1, 1, 1, 1, 1, 1, 1, 2, 1, 1, 1, 1, 1, 1, 1, 1, 1, 1, 2, 1, 1, 1, 1, 1, 1, 1, 1, 1, 1, 1, 1, 1, 1, 1, 1, 1, 1, 1, 1, 2, 1, 1, 1, 1, 1, 1, 1, 1, 1, 1, 1, 2, 1, 4, 1, 1, 1, 1, 1, 1, 1, 1, 1, 1, 1, 1, 1, 1, 1, 1, 3, 1, 4, 1, 1, 1, 1, 2, 1, 1, 1, 1, 1, 1, 1, 1, 1, 1, 1, 1, 1, 1, 1, 1, 1, 2, 1, 1, 1, 1, 2, 1, 1, 1, 1, 1, 3, 1, 1, 1, 1, 4, 1, 2, 1, 2, 1, 1, 1, 1, 1, 1, 1, 1, 1, 2, 1, 1, 1, 1, 1, 1, 1, 1, 1, 1, 1, 1, 1, 1, 1, 1, 1, 1, 1, 2, 1, 1, 1, 1, 1, 1, 1, 1, 1, 1, 1, 1, 1, 1, 1, 1, 1, 1, 1, 1, 1, 1, 2, 1, 1, 1, 1, 1, 1, 1, 1, 1, 1, 1, 1, 1, 1, 1, 1, 1, 1, 1, 1, 1, 1, 1, 1, 4, 1, 1, 1, 1, 1, 1, 1, 1, 1, 1, 2, 2, 1, 1, 2, 1, 1, 1, 4, 1, 1, 1, 1, 1, 1, 1, 1, 1, 1, 1, 1, 1, 1, 1, 1, 1, 1, 1, 7, 1, 1, 1, 1, 1, 1, 1, 1, 1, 1, 1, 1, 1, 3, 2, 1, 1, 1, 4, 3, 1, 1, 1, 1, 1, 1, 1, 1, 1, 3, 1, 2, 1, 1, 3, 1, 1, 1, 1, 1, 1, 1, 1, 1, 1, 1, 2, 1, 3, 1, 1, 1, 1, 1, 1, 1, 1, 1, 1, 1, 1, 1, 1, 1, 1, 1, 1, 1, 1, 1, 1, 1, 3, 2, 1, 1, 1, 1, 1, 1, 1, 1, 1, 1, 1, 1, 1, 1, 1, 1, 1, 1, 1, 1, 1, 1, 1, 1, 1, 1, 1, 1, 1, 1, 1, 1, 1, 1, 1, 1, 1, 2, 3, 1, 1, 1, 1, 1, 1, 1, 1, 1, 1, 1, 1, 1, 1, 1, 1, 1, 1, 1])"
      ]
     },
     "execution_count": 39,
     "metadata": {},
     "output_type": "execute_result"
    }
   ],
   "source": [
    "word_counter.values()"
   ]
  },
  {
   "cell_type": "code",
   "execution_count": 40,
   "metadata": {},
   "outputs": [
    {
     "data": {
      "image/png": "[encoded data removed]",
      "text/plain": [
       "<Figure size 432x288 with 1 Axes>"
      ]
     },
     "metadata": {
      "needs_background": "light"
     },
     "output_type": "display_data"
    }
   ],
   "source": [
    "sorted_word_counts = sorted(list(word_counter.values()), reverse=True)\n",
    "\n",
    "plt.loglog(sorted_word_counts)\n",
    "plt.ylabel(\"Freq\")\n",
    "plt.xlabel(\"Word Rank\");"
   ]
  },
  {
   "cell_type": "code",
   "execution_count": 41,
   "metadata": {},
   "outputs": [
    {
     "data": {
      "text/plain": [
       "[9517, 5852, 5771, 3690, 2565]"
      ]
     },
     "execution_count": 41,
     "metadata": {},
     "output_type": "execute_result"
    }
   ],
   "source": [
    "sorted_word_counts[:5]"
   ]
  },
  {
   "cell_type": "markdown",
   "metadata": {},
   "source": [
    "Another related plot is the histogram of `sorted_word_counts`, which displays how many words have a count in a specific range.\n",
    "\n",
    "Of course the distribution is highly peaked at low counts, i.e. most of the words appear which a low count, so we better display it on semilogarithmic axes to inspect the tail of the distribution."
   ]
  },
  {
   "cell_type": "code",
   "execution_count": 42,
   "metadata": {},
   "outputs": [
    {
     "data": {
      "image/png": "[encoded data removed]",
      "text/plain": [
       "<Figure size 432x288 with 1 Axes>"
      ]
     },
     "metadata": {
      "needs_background": "light"
     },
     "output_type": "display_data"
    }
   ],
   "source": [
    "plt.hist(sorted_word_counts, bins=50);"
   ]
  },
  {
   "cell_type": "code",
   "execution_count": 43,
   "metadata": {},
   "outputs": [
    {
     "data": {
      "image/png": "[encoded data removed]",
      "text/plain": [
       "<Figure size 432x288 with 1 Axes>"
      ]
     },
     "metadata": {
      "needs_background": "light"
     },
     "output_type": "display_data"
    }
   ],
   "source": [
    "plt.hist(sorted_word_counts, bins=50, log=True);"
   ]
  },
  {
   "cell_type": "markdown",
   "metadata": {},
   "source": [
    "## Train a Classifier for Sentiment Analysis (with nltk)\n",
    "\n",
    "Using our `build_bag_of_words_features` function we can build separately the negative and positive features.\n",
    "Basically for each of the 1000 negative and for the 1000 positive review, **we create one dictionary of the words and we associate the label \"neg\" and \"pos\" to it. Negative_features below returns a list, each element of which is a tuple:({dict}, 'neg')**"
   ]
  },
  {
   "cell_type": "markdown",
   "metadata": {},
   "source": [
    "The first element of each tuple should be a dictionary of features<br> (a frequency table: in this case, probability of all words:1.), following by a label:  ({dict}, 'neg')"
   ]
  },
  {
   "cell_type": "code",
   "execution_count": 44,
   "metadata": {},
   "outputs": [],
   "source": [
    "negative_features = [\n",
    "    (build_bag_of_words_features_filtered(movie_reviews.words(fileids=[f])), 'neg') \\\n",
    "    for f in negative_fileids #f = .txt\n",
    "]"
   ]
  },
  {
   "cell_type": "code",
   "execution_count": 45,
   "metadata": {},
   "outputs": [
    {
     "name": "stdout",
     "output_type": "stream",
     "text": [
      "({'quest': 1, 'camelot': 1, 'warner': 1, 'bros': 1, 'first': 1, 'feature': 1, 'length': 1, 'fully': 1, 'animated': 1, 'attempt': 1, 'steal': 1, 'clout': 1, 'disney': 1, 'cartoon': 1, 'empire': 1, 'mouse': 1, 'reason': 1, 'worried': 1, 'recent': 1, 'challenger': 1, 'throne': 1, 'last': 1, 'fall': 1, 'promising': 1, 'flawed': 1, '20th': 1, 'century': 1, 'fox': 1, 'production': 1, 'anastasia': 1, 'hercules': 1, 'lively': 1, 'cast': 1, 'colorful': 1, 'palate': 1, 'beat': 1, 'hands': 1, 'came': 1, 'time': 1, 'crown': 1, '1997': 1, 'best': 1, 'piece': 1, 'animation': 1, 'year': 1, 'contest': 1, 'pretty': 1, 'much': 1, 'dead': 1, 'arrival': 1, 'even': 1, 'magic': 1, 'kingdom': 1, 'mediocre': 1, '--': 1, 'pocahontas': 1, 'keeping': 1, 'score': 1, 'nearly': 1, 'dull': 1, 'story': 1, 'revolves': 1, 'around': 1, 'adventures': 1, 'free': 1, 'spirited': 1, 'kayley': 1, 'voiced': 1, 'jessalyn': 1, 'gilsig': 1, 'early': 1, 'teen': 1, 'daughter': 1, 'belated': 1, 'knight': 1, 'king': 1, 'arthur': 1, 'round': 1, 'table': 1, 'dream': 1, 'follow': 1, 'father': 1, 'footsteps': 1, 'gets': 1, 'chance': 1, 'evil': 1, 'warlord': 1, 'ruber': 1, 'gary': 1, 'oldman': 1, 'ex': 1, 'member': 1, 'gone': 1, 'bad': 1, 'steals': 1, 'magical': 1, 'sword': 1, 'excalibur': 1, 'accidentally': 1, 'loses': 1, 'dangerous': 1, 'booby': 1, 'trapped': 1, 'forest': 1, 'help': 1, 'hunky': 1, 'blind': 1, 'timberland': 1, 'dweller': 1, 'garrett': 1, 'carey': 1, 'elwes': 1, 'two': 1, 'headed': 1, 'dragon': 1, 'eric': 1, 'idle': 1, 'rickles': 1, 'always': 1, 'arguing': 1, 'might': 1, 'able': 1, 'break': 1, 'medieval': 1, 'sexist': 1, 'mold': 1, 'prove': 1, 'worth': 1, 'fighter': 1, 'side': 1, 'missing': 1, 'pure': 1, 'showmanship': 1, 'essential': 1, 'element': 1, 'ever': 1, 'expected': 1, 'climb': 1, 'high': 1, 'ranks': 1, 'nothing': 1, 'differentiates': 1, 'something': 1, 'see': 1, 'given': 1, 'saturday': 1, 'morning': 1, 'subpar': 1, 'instantly': 1, 'forgettable': 1, 'songs': 1, 'poorly': 1, 'integrated': 1, 'computerized': 1, 'footage': 1, 'compare': 1, 'run': 1, 'angry': 1, 'ogre': 1, 'herc': 1, 'battle': 1, 'hydra': 1, 'rest': 1, 'case': 1, 'characters': 1, 'stink': 1, 'none': 1, 'remotely': 1, 'interesting': 1, 'film': 1, 'becomes': 1, 'race': 1, 'one': 1, 'bland': 1, 'others': 1, 'end': 1, 'tie': 1, 'win': 1, 'comedy': 1, 'shtick': 1, 'awfully': 1, 'cloying': 1, 'least': 1, 'shows': 1, 'signs': 1, 'pulse': 1, 'fans': 1, \"-'\": 1, '90s': 1, 'tgif': 1, 'television': 1, 'line': 1, 'thrilled': 1, 'find': 1, 'jaleel': 1, 'urkel': 1, 'white': 1, 'bronson': 1, 'balki': 1, 'pinchot': 1, 'sharing': 1, 'scenes': 1, 'nicely': 1, 'realized': 1, 'though': 1, 'loss': 1, 'recall': 1, 'enough': 1, 'specific': 1, 'actors': 1, 'providing': 1, 'voice': 1, 'talent': 1, 'enthusiastic': 1, 'paired': 1, 'singers': 1, 'sound': 1, 'thing': 1, 'like': 1, 'big': 1, 'musical': 1, 'moments': 1, 'jane': 1, 'seymour': 1, 'celine': 1, 'dion': 1, 'must': 1, 'strain': 1, 'mess': 1, 'good': 1, 'aside': 1, 'fact': 1, 'children': 1, 'probably': 1, 'bored': 1, 'watching': 1, 'adults': 1, 'grievous': 1, 'error': 1, 'complete': 1, 'lack': 1, 'personality': 1, 'learn': 1, 'goes': 1, 'long': 1, 'way': 1}, 'neg')\n"
     ]
    }
   ],
   "source": [
    "print(negative_features[3])"
   ]
  },
  {
   "cell_type": "code",
   "execution_count": 46,
   "metadata": {},
   "outputs": [],
   "source": [
    "positive_features = [\n",
    "    (build_bag_of_words_features_filtered(movie_reviews.words(fileids=[f])), 'pos') \\\n",
    "    for f in positive_fileids\n",
    "]"
   ]
  },
  {
   "cell_type": "code",
   "execution_count": 47,
   "metadata": {},
   "outputs": [
    {
     "name": "stdout",
     "output_type": "stream",
     "text": [
      "({'apparently': 1, 'director': 1, 'tony': 1, 'kaye': 1, 'major': 1, 'battle': 1, 'new': 1, 'line': 1, 'regarding': 1, 'film': 1, 'american': 1, 'history': 1, 'x': 1, 'know': 1, 'details': 1, 'fight': 1, 'seems': 1, 'happy': 1, 'final': 1, 'product': 1, 'nearly': 1, 'removed': 1, 'name': 1, 'credits': 1, 'altogether': 1, 'heard': 1, 'kind': 1, 'thing': 1, 'happening': 1, 'makes': 1, 'wonder': 1, 'much': 1, 'input': 1, 'studio': 1, 'films': 1, 'produce': 1, 'found': 1, 'extremely': 1, 'good': 1, 'focused': 1, 'look': 1, 'touchy': 1, 'subject': 1, 'racism': 1, 'powerful': 1, 'charismatic': 1, 'performance': 1, 'edward': 1, 'norton': 1, 'hard': 1, 'believe': 1, 'two': 1, 'years': 1, 'since': 1, 'fantastic': 1, 'role': 1, 'primal': 1, 'fear': 1, 'starring': 1, 'making': 1, 'star': 1, 'one': 1, 'performers': 1, 'becomes': 1, 'character': 1, 'work': 1, 'best': 1, 'performances': 1, 'year': 1, 'plays': 1, 'young': 1, 'man': 1, 'named': 1, 'derek': 1, 'vinyard': 1, 'skinhead': 1, 'living': 1, 'venice': 1, 'beach': 1, 'brother': 1, 'danny': 1, 'furlong': 1, 'mother': 1, 'beverly': 1, 'angelo': 1, 'sister': 1, 'davin': 1, 'jennifer': 1, 'lien': 1, 'opens': 1, 'flashback': 1, 'brutally': 1, 'kills': 1, 'black': 1, 'men': 1, 'vandalizing': 1, 'car': 1, 'find': 1, 'lands': 1, 'prison': 1, 'point': 1, 'seen': 1, 'eyes': 1, 'present': 1, 'time': 1, 'high': 1, 'school': 1, 'eager': 1, 'follow': 1, 'footsteps': 1, 'told': 1, 'see': 1, 'path': 1, 'leads': 1, 'adoption': 1, 'white': 1, 'supremacy': 1, 'released': 1, 'served': 1, 'three': 1, 'finds': 1, 'full': 1, 'blown': 1, 'however': 1, 'given': 1, 'violence': 1, 'tries': 1, 'get': 1, 'understand': 1, 'comes': 1, 'bad': 1, 'things': 1, 'interesting': 1, 'stupid': 1, 'thoughtless': 1, 'people': 1, '--': 1, 'intelligent': 1, 'articulate': 1, 'voice': 1, 'beliefs': 1, 'disturbingly': 1, 'straightforward': 1, 'terms': 1, 'make': 1, 'controversial': 1, 'movie': 1, 'preach': 1, 'right': 1, 'note': 1, 'material': 1, 'mainstream': 1, 'redemption': 1, 'phase': 1, 'main': 1, 'may': 1, 'think': 1, 'way': 1, 'sympathetic': 1, 'partially': 1, 'disagree': 1, 'although': 1, 'advocate': 1, 'presents': 1, 'loud': 1, 'obnoxious': 1, 'also': 1, 'smart': 1, 'reasons': 1, 'believable': 1, 'father': 1, 'arbitrarily': 1, 'killed': 1, 'group': 1, 'clear': 1, 'passionate': 1, 'punk': 1, 'looking': 1, 'excuse': 1, 'beat': 1, 'course': 1, 'helps': 1, 'actor': 1, 'talented': 1, 'play': 1, 'part': 1, 'astonishing': 1, 'frightening': 1, 'looks': 1, 'shaved': 1, 'head': 1, 'swastika': 1, 'chest': 1, 'addition': 1, 'getting': 1, 'perfect': 1, 'requires': 1, 'intelligence': 1, 'depth': 1, 'whole': 1, 'lot': 1, 'shouting': 1, 'ease': 1, 'even': 1, 'meanest': 1, 'likable': 1, 'quality': 1, 'gutsy': 1, 'approach': 1, 'telling': 1, 'story': 1, 'adds': 1, 'subplot': 1, 'principal': 1, 'avery': 1, 'brooks': 1, 'obsessed': 1, 'purging': 1, 'hatred': 1, 'terrific': 1, 'standouts': 1, 'visually': 1, 'indulges': 1, 'artistic': 1, 'choices': 1, 'nicely': 1, 'lots': 1, 'slow': 1, 'motion': 1, 'strange': 1, 'camera': 1, 'angles': 1, 'add': 1, 'moody': 1, 'atmosphere': 1, 'like': 1, 'movies': 1, 'lately': 1, 'skims': 1, 'past': 1, 'greatness': 1, 'last': 1, 'minutes': 1, 'climactic': 1, 'scene': 1, 'moving': 1, 'picture': 1, 'ends': 1, 'pretentious': 1, 'preachy': 1, 'resolution': 1, 'featuring': 1, 'brief': 1, 'narration': 1, 'subtle': 1, 'felt': 1, 'slap': 1, 'face': 1, 'hand': 1, 'fed': 1, 'theme': 1, 'simplistic': 1, 'exactly': 1, 'disliked': 1, 'version': 1, 'perhaps': 1, 'problem': 1, 'imagine': 1, 'least': 1, 'pleased': 1, 'many': 1, 'timid': 1, 'weak': 1, 'manages': 1, 'compelling': 1, 'argument': 1, 'without': 1, 'advocating': 1}, 'pos')\n"
     ]
    }
   ],
   "source": [
    "print(positive_features[6])"
   ]
  },
  {
   "cell_type": "code",
   "execution_count": 48,
   "metadata": {},
   "outputs": [],
   "source": [
    "from nltk.classify import NaiveBayesClassifier"
   ]
  },
  {
   "cell_type": "markdown",
   "metadata": {},
   "source": [
    "One of the simplest supervised machine learning classifiers is the Naive Bayes Classifier, it can be trained on 80% of the data to learn what words are generally associated with positive or with negative reviews."
   ]
  },
  {
   "cell_type": "code",
   "execution_count": 49,
   "metadata": {},
   "outputs": [],
   "source": [
    "split = 800"
   ]
  },
  {
   "cell_type": "code",
   "execution_count": 50,
   "metadata": {},
   "outputs": [],
   "source": [
    "sentiment_classifier = NaiveBayesClassifier.train(positive_features[:split]+negative_features[:split])"
   ]
  },
  {
   "cell_type": "markdown",
   "metadata": {},
   "source": [
    "Tips: NaiveBayesClassifier has no argument and uses 'train( )', which is different from Machine Learning models like: LinearRegression().fit(X, y)"
   ]
  },
  {
   "cell_type": "markdown",
   "metadata": {},
   "source": [
    "We can check after training what is the accuracy on the training set, i.e. the same data used for training, we expect this to be a very high number because the algorithm already \"saw\" those data. Accuracy is the fraction of the data that is classified correctly, we can turn it into percent:"
   ]
  },
  {
   "cell_type": "code",
   "execution_count": 51,
   "metadata": {},
   "outputs": [
    {
     "data": {
      "text/plain": [
       "98.0625"
      ]
     },
     "execution_count": 51,
     "metadata": {},
     "output_type": "execute_result"
    }
   ],
   "source": [
    "nltk.classify.util.accuracy(sentiment_classifier, positive_features[:split]+negative_features[:split])*100"
   ]
  },
  {
   "cell_type": "markdown",
   "metadata": {},
   "source": [
    "The accuracy above is mostly a check that nothing went very wrong in the training, the real measure of accuracy is on the remaining 20% of the data that wasn't used in training, the test data:"
   ]
  },
  {
   "cell_type": "code",
   "execution_count": 52,
   "metadata": {},
   "outputs": [
    {
     "data": {
      "text/plain": [
       "71.75"
      ]
     },
     "execution_count": 52,
     "metadata": {},
     "output_type": "execute_result"
    }
   ],
   "source": [
    "nltk.classify.util.accuracy(sentiment_classifier, positive_features[split:]+negative_features[split:])*100"
   ]
  },
  {
   "cell_type": "markdown",
   "metadata": {},
   "source": [
    "Accuracy here is around 70% which is pretty good for such a simple model if we consider that the estimated accuracy for a person is about 80%.\n",
    "We can finally print the most informative features, i.e. the words that mostly identify a positive or a negative review:"
   ]
  },
  {
   "cell_type": "code",
   "execution_count": 53,
   "metadata": {},
   "outputs": [
    {
     "name": "stdout",
     "output_type": "stream",
     "text": [
      "Most Informative Features\n",
      "             outstanding = 1                 pos : neg    =     13.9 : 1.0\n",
      "               insulting = 1                 neg : pos    =     13.7 : 1.0\n",
      "              vulnerable = 1                 pos : neg    =     13.0 : 1.0\n",
      "               ludicrous = 1                 neg : pos    =     12.6 : 1.0\n",
      "             uninvolving = 1                 neg : pos    =     12.3 : 1.0\n",
      "              astounding = 1                 pos : neg    =     11.7 : 1.0\n",
      "                  avoids = 1                 pos : neg    =     11.7 : 1.0\n",
      "             fascination = 1                 pos : neg    =     11.0 : 1.0\n",
      "               affecting = 1                 pos : neg    =     10.3 : 1.0\n",
      "                  symbol = 1                 pos : neg    =     10.3 : 1.0\n"
     ]
    }
   ],
   "source": [
    "sentiment_classifier.show_most_informative_features()"
   ]
  },
  {
   "cell_type": "code",
   "execution_count": null,
   "metadata": {},
   "outputs": [],
   "source": []
  }
 ],
 "metadata": {
  "anaconda-cloud": {},
  "kernelspec": {
   "display_name": "Python 3",
   "language": "python",
   "name": "python3"
  },
  "language_info": {
   "codemirror_mode": {
    "name": "ipython",
    "version": 3
   },
   "file_extension": ".py",
   "mimetype": "text/x-python",
   "name": "python",
   "nbconvert_exporter": "python",
   "pygments_lexer": "ipython3",
   "version": "3.7.4"
  }
 },
 "nbformat": 4,
 "nbformat_minor": 1
}
